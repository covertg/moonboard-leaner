{
 "cells": [
  {
   "cell_type": "markdown",
   "metadata": {},
   "source": [
    "What now???\n",
    "\n",
    "* Implement macro-MAE\n",
    "* Tie-in to NNI API for parameter search-time!\n",
    "* Compare CORAL to vanilla-OrdReg to classfication\n",
    "* Retrain the best model(s) with cross-validation\n",
    "\n",
    "* Similarly, architecture search for CNNs. (Likely CORAL ?)\n",
    "* Experiment with LSTM funkiness. Consider ELMO and friends.\n",
    "* Experiment with \"language modeling\" with problem sentences; generate problems and classify with the above.\n",
    "* Quantifying uncertainty?\n",
    "\n",
    "Side quests.\n",
    "\n",
    "* Dealing with unbalanced data. Using other attributes such as rating.\n",
    "* Data augmentation!\n",
    "* Name generation\n",
    "\n",
    "Far into the future.\n",
    "\n",
    "* Deep generative models: VAEs, GANs.\n",
    "* Fun website or interface to bring this all together.\n",
    "\n",
    "Research\n",
    "\n",
    "* http://cs229.stanford.edu/proj2017/final-reports/5232206.pdf"
   ]
  },
  {
   "cell_type": "markdown",
   "metadata": {},
   "source": [
    "## Preliminaries"
   ]
  },
  {
   "cell_type": "code",
   "execution_count": 1,
   "metadata": {},
   "outputs": [],
   "source": [
    "import moon.data\n",
    "import moon.problem"
   ]
  },
  {
   "cell_type": "code",
   "execution_count": 2,
   "metadata": {},
   "outputs": [],
   "source": [
    "probs = moon.data.read_problems('data/cleaned_probs.csv')\n",
    "import numpy as np"
   ]
  },
  {
   "cell_type": "code",
   "execution_count": 9,
   "metadata": {},
   "outputs": [
    {
     "name": "stdout",
     "output_type": "stream",
     "text": [
      "(30991, 18, 11) (30991, 16)\n",
      "((24793, 18, 11), (24793, 16)) ((6198, 18, 11), (6198, 16))\n"
     ]
    }
   ],
   "source": [
    "x = np.array([p.array for p in probs])\n",
    "y = np.array([p.grade.ordinal_rank for p in probs])\n",
    "\n",
    "print(x.shape, y.shape)\n",
    "\n",
    "split = 0.2\n",
    "indices = np.arange(len(probs))\n",
    "np.random.shuffle(indices)\n",
    "n_test = int(len(probs) * split)\n",
    "\n",
    "x_train, y_train = x[indices[n_test:]], y[indices[n_test:]]\n",
    "x_test, y_test = x[indices[0:n_test]], y[indices[0:n_test]]\n",
    "print((x_train.shape, y_train.shape), (x_test.shape, y_test.shape))"
   ]
  },
  {
   "cell_type": "code",
   "execution_count": 4,
   "metadata": {},
   "outputs": [],
   "source": [
    "import tensorflow as tf\n",
    "from tensorflow.keras import layers\n",
    "import tensorflow.keras.backend as K\n",
    "\n",
    "def accuracy_k_coral(k):\n",
    "    def fn(y_true, y_pred):\n",
    "        pred_rank = tf.reduce_sum(tf.cast(y_pred > 0.5, 'float32'), axis=-1)\n",
    "        true_rank = tf.reduce_sum(y_true, axis=-1)\n",
    "        score_bools = tf.abs(pred_rank - true_rank) <= k\n",
    "        return tf.reduce_mean(tf.cast(score_bools, 'float32'), axis=-1)\n",
    "    fn.__name__ = 'acc' if k == 0 else f'CS{k}'  # https://stackoverflow.com/questions/57910680/how-to-name-custom-metrics-in-keras-fit-output\n",
    "    return fn\n",
    "\n",
    "def mae_coral():\n",
    "    def fn(y_true, y_pred):\n",
    "        pred_rank = tf.reduce_sum(tf.cast(y_pred > 0.5, 'float32'), axis=-1)\n",
    "        true_rank = tf.reduce_sum(y_true, axis=-1)\n",
    "        dist_abs = tf.abs(pred_rank - true_rank)\n",
    "        return tf.reduce_mean(dist_abs, axis=-1)\n",
    "    fn.__name__ = 'mae'\n",
    "    return fn\n",
    "\n",
    "def rmse_coral():\n",
    "    def fn(y_true, y_pred):\n",
    "        pred_rank = tf.reduce_sum(tf.cast(y_pred > 0.5, 'float32'), axis=-1)\n",
    "        true_rank = tf.reduce_sum(y_true, axis=-1)\n",
    "        dist_sqr = (pred_rank - true_rank)**2\n",
    "        return tf.math.sqrt(tf.reduce_mean(dist_sqr, axis=-1))\n",
    "    fn.__name__ = 'rmse'\n",
    "    return fn\n",
    "\n",
    "# see\n",
    "# https://arxiv.org/abs/1901.07884 and https://github.com/Raschka-research-group/coral-cnn/issues/9\n",
    "# more background https://arxiv.org/abs/1705.05278\n",
    "\n",
    "class CoralOutput(tf.keras.layers.Layer):\n",
    "  def __init__(self, output_len):\n",
    "    super(CoralOutput, self).__init__()\n",
    "    self.output_len = output_len\n",
    "\n",
    "  def build(self, input_shape):\n",
    "    self.kernel = self.add_weight(\n",
    "        'kernel',\n",
    "        shape=[int(input_shape[-1]), 1],\n",
    "        initializer='glorot_uniform',\n",
    "        dtype='float32',\n",
    "        trainable=True\n",
    "    )\n",
    "    self.biases = self.add_weight(\n",
    "        'biases',\n",
    "        shape=[self.output_len,],\n",
    "        initializer='zeros',\n",
    "        dtype='float32',\n",
    "        trainable=True\n",
    "    )\n",
    "\n",
    "  def call(self, input):\n",
    "    fc = tf.matmul(input, self.kernel)\n",
    "    fc = tf.tile(fc, [1, self.output_len])\n",
    "    logits = tf.nn.bias_add(fc, self.biases, name='logits')\n",
    "    probits = tf.math.sigmoid(logits, name='probits')\n",
    "    return logits, probits\n",
    "\n",
    "\n",
    "def _task_importance_weighting(y):\n",
    "    n_ranks = y.shape[-1]\n",
    "    ranks = 1 + np.sum(y, axis=-1)\n",
    "    n_examples = len(y)\n",
    "    m = np.zeros(n_ranks)\n",
    "    for k in range(n_ranks):\n",
    "        s_k = np.sum(ranks > (k + 1))\n",
    "        m[k] = np.sqrt(max(s_k, n_examples - s_k))\n",
    "    return (m / np.max(m))\n",
    "\n",
    "\n",
    "# # adapation of https://github.com/Raschka-research-group/coral-cnn/blob/master/model-code/resnet34/cacd-coral.py#L326\n",
    "# the authors describe this as \"weighted cross-entropy\" of the K-1 binary classifiers.\n",
    "# note (1) we calculate on the output logits, (2) the form in code differs from the form\n",
    "# in the paper for numerical stability.\n",
    "def coral_loss(rank_data=None):\n",
    "    importance = 1 if rank_data is None else _task_importance_weighting(rank_data)\n",
    "    def loss_logits(y_true, y_pred):\n",
    "        unweighted = (tf.math.log_sigmoid(y_pred) * y_true) + (tf.math.log_sigmoid(y_pred) - y_pred) * (1 - y_true)\n",
    "        return tf.reduce_mean(-1 * tf.reduce_sum(importance * unweighted, axis=1))\n",
    "    return loss_logits"
   ]
  },
  {
   "cell_type": "markdown",
   "metadata": {},
   "source": [
    "## Initial toying-around with training"
   ]
  },
  {
   "cell_type": "code",
   "execution_count": null,
   "metadata": {},
   "outputs": [],
   "source": [
    "p = .5\n",
    "input_shape = moon.problem.Problem.GRID_SHAPE\n",
    "hiddens = [20]\n",
    "hidden_activation = 'swish'\n",
    "output_len = y.shape[-1]  # moon.problem.Grade.N_GRADES - 1\n",
    "output_activation = 'sigmoid'\n",
    "\n",
    "metrics = {'probits': [accuracy_k_coral(0), accuracy_k_coral(1), accuracy_k_coral(2), mae_coral(), rmse_coral()]}\n",
    "loss = {'logits': coral_loss(rank_data=y)}\n",
    "adam_lr = 1e-3\n",
    "optim = tf.keras.optimizers.Adam(lr=adam_lr)\n",
    "\n",
    "in_x = layers.Input(shape=input_shape)\n",
    "features = layers.Flatten()(in_x)\n",
    "for nodes in hiddens:\n",
    "    features = layers.Dense(nodes)(features)\n",
    "    features = layers.Activation(hidden_activation)(features)\n",
    "    if p > 0: features = layers.Dropout(p)(features)\n",
    "out = CoralOutput(output_len)(features)\n",
    "logits, probits = layers.Lambda(lambda x: x, name='logits')(out[0]), layers.Lambda(lambda x: x, name='probits')(out[1])\n",
    "\n",
    "model = tf.keras.Model(in_x, [logits, probits], name='mlp_ord_regress')\n",
    "model.compile(loss=loss, optimizer=optim, metrics=metrics)\n",
    "# model.summary()\n",
    "\n",
    "callbacks = [tf.keras.callbacks.EarlyStopping(patience=3, verbose=1)]\n",
    "batch_size = 64\n",
    "max_epochs = 300\n",
    "\n",
    "history = model.fit(x_train, y_train, batch_size=batch_size, validation_data=(x_test, y_test), epochs=max_epochs, callbacks=callbacks)\n",
    "\n",
    "# [64. 64], swish, 1e-4, weighted : e222\n",
    "# loss: 1.9850 - logits_loss: 1.9850 - probits_acc: 0.3914 - probits_CS1: 0.7283 - probits_CS2: 0.9021 - probits_mae: 1.0237 - probits_rmse: 1.4996 - val_loss: 1.9964 - val_logits_loss: 1.9964 - val_probits_acc: 0.4009 - val_probits_CS1: 0.7228 - val_probits_CS2: 0.8974 - val_probits_mae: 1.0311 - val_probits_rmse: 1.5261\n",
    "\n",
    "# [32, 32], swish, 1e-4, unweighted\n",
    "# loss: 2.3904 - logits_loss: 2.3904 - probits_acc: 0.3860 - probits_CS1: 0.7195 - probits_CS2: 0.8967 - val_loss: 2.3429 - val_logits_loss: 2.3429 - val_probits_acc: 0.4045 - val_probits_CS1: 0.7236 - val_probits_CS2: 0.8988\n",
    "\n",
    "# [32, 32], swish, 1e-3, weighted : e69\n",
    "# loss: 1.9615 - logits_loss: 1.9615 - probits_acc: 0.3893 - probits_CS1: 0.7298 - probits_CS2: 0.9044 - val_loss: 1.9623 - val_logits_loss: 1.9623 - val_probits_acc: 0.4011 - val_probits_CS1: 0.7304 - val_probits_CS2: 0.9017\n",
    "\n",
    "# [32, 32], swish, 1e-3, unweighted : e59\n",
    "# loss: 2.3329 - logits_loss: 2.3329 - probits_acc: 0.3941 - probits_CS1: 0.7271 - probits_CS2: 0.9024 - val_loss: 2.3219 - val_logits_loss: 2.3219 - val_probits_acc: 0.3998 - val_probits_CS1: 0.7296 - val_probits_CS2: 0.9029\n",
    "\n",
    "# [32, 32], relu, 1e-3, weighted : e39\n",
    "# loss: 1.9442 - logits_loss: 1.9442 - probits_acc: 0.3801 - probits_CS1: 0.7346 - probits_CS2: 0.9086 - val_loss: 2.0306 - val_logits_loss: 2.0306 - val_probits_acc: 0.3871 - val_probits_CS1: 0.7162 - val_probits_CS2: 0.8927\n",
    "\n",
    "# [20], swish, 1e-3, weighted, p=.5 : e56\n",
    "# loss: 2.0464 - logits_loss: 2.0464 - probits_acc: 0.3785 - probits_CS1: 0.7118 - probits_CS2: 0.8934 - probits_mae: 1.0683 - probits_rmse: 1.5502 - val_loss: 2.0134 - val_logits_loss: 2.0134 - val_probits_acc: 0.3918 - val_probits_CS1: 0.7149 - val_probits_CS2: 0.8949 - val_probits_mae: 1.0516 - val_probits_rmse: 1.5428"
   ]
  },
  {
   "cell_type": "code",
   "execution_count": null,
   "metadata": {},
   "outputs": [],
   "source": [
    "print(history.history.keys())  # stats\n",
    "print(len(history.history['loss']))  # epochs"
   ]
  },
  {
   "cell_type": "code",
   "execution_count": null,
   "metadata": {},
   "outputs": [],
   "source": [
    "y_true = y_test[[2, 4, 8, 16, 32, 64, 128]]\n",
    "y_pred = model.predict(x_test[[2, 4, 8, 16, 32, 64, 128]])\n",
    "\n",
    "print(1+np.sum(y_true, axis=-1))\n",
    "print(1+np.sum(y_pred[1] > .5, axis=-1))\n",
    "print(y_pred[1])"
   ]
  },
  {
   "cell_type": "code",
   "execution_count": null,
   "metadata": {},
   "outputs": [],
   "source": [
    "print(_task_importance_weighting(y))"
   ]
  },
  {
   "cell_type": "markdown",
   "metadata": {},
   "source": [
    "## Random Parameter Search + CV"
   ]
  },
  {
   "cell_type": "code",
   "execution_count": 6,
   "metadata": {},
   "outputs": [],
   "source": [
    "def build_model_coral(input_shape, hiddens, hidden_activation, p, output_activation, output_len, adam_lr, loss):\n",
    "    in_x = layers.Input(shape=input_shape)\n",
    "    features = layers.Flatten()(in_x)\n",
    "    for nodes in hiddens:\n",
    "        features = layers.Dense(nodes)(features)\n",
    "        features = layers.Activation(hidden_activation)(features)\n",
    "        if p > 0: features = layers.Dropout(p)(features)\n",
    "    out = CoralOutput(output_len)(features)\n",
    "    logits, probits = layers.Lambda(lambda x: x, name='logits')(out[0]), layers.Lambda(lambda x: x, name='probits')(out[1])\n",
    "    model = tf.keras.Model(in_x, [logits, probits], name='mlp_consistentranklogits')\n",
    "    \n",
    "    metrics = {'probits': [accuracy_k_coral(0), accuracy_k_coral(1), accuracy_k_coral(2), mae_coral(), rmse_coral()]}\n",
    "    model.compile(loss=loss, optimizer=tf.keras.optimizers.Adam(lr=adam_lr), metrics=metrics)\n",
    "    return model\n",
    "\n",
    "from sklearn.model_selection import StratifiedKFold\n",
    "from sklearn.preprocessing import LabelEncoder\n",
    "\n",
    "def my_StratifiedKFold(x, y, folds=5, seed=0):\n",
    "    label_encoder = LabelEncoder()\n",
    "    ylabels = label_encoder.fit_transform(y)\n",
    "    cv = StratifiedKFold(n_splits=folds, shuffle=True, random_state=0)\n",
    "    splits = cv.split(x, ylabels)\n",
    "    for i in range(folds):\n",
    "        yield next(splits)"
   ]
  },
  {
   "cell_type": "code",
   "execution_count": 7,
   "metadata": {},
   "outputs": [
    {
     "name": "stderr",
     "output_type": "stream",
     "text": [
      "/home/cove/Documents/Projects/moon/venv/lib/python3.8/site-packages/sklearn/model_selection/_search.py:278: UserWarning: The total space of parameters 63 is smaller than n_iter=100. Running 63 iterations. For exhaustive searches, use GridSearchCV.\n",
      "  warnings.warn(\n",
      "/home/cove/Documents/Projects/moon/venv/lib/python3.8/site-packages/sklearn/model_selection/_split.py:670: UserWarning: The least populated class in y has only 1 members, which is less than n_splits=5.\n",
      "  warnings.warn((\"The least populated class in y has only %d\"\n"
     ]
    },
    {
     "name": "stdout",
     "output_type": "stream",
     "text": [
      "\n",
      "### SEARCH: PARAMS {'rank_data': True, 'p': 0.4, 'output_len': 16, 'output_activation': 'sigmoid', 'input_shape': (18, 11), 'hiddens': [16], 'hidden_activation': 'swish', 'epochs': 30, 'batch_size': 32, 'adam_lr': 0.001}\n",
      "## CV: FOLD 0... \n",
      "loss:2.042 logits_loss:2.042 probits_acc:0.379 probits_CS1:0.716 probits_CS2:0.894 probits_mae:1.065 probits_rmse:1.541 val_loss:1.971 val_logits_loss:1.971 val_probits_acc:0.392 val_probits_CS1:0.729 val_probits_CS2:0.904 val_probits_mae:1.020 val_probits_rmse:1.476\n",
      "## CV: FOLD 1... \n",
      "loss:2.045 logits_loss:2.045 probits_acc:0.379 probits_CS1:0.716 probits_CS2:0.894 probits_mae:1.064 probits_rmse:1.536 val_loss:1.974 val_logits_loss:1.974 val_probits_acc:0.396 val_probits_CS1:0.731 val_probits_CS2:0.904 val_probits_mae:1.015 val_probits_rmse:1.474\n",
      "## CV: FOLD 2... \n",
      "loss:2.045 logits_loss:2.045 probits_acc:0.380 probits_CS1:0.716 probits_CS2:0.893 probits_mae:1.064 probits_rmse:1.536 val_loss:1.991 val_logits_loss:1.991 val_probits_acc:0.392 val_probits_CS1:0.727 val_probits_CS2:0.898 val_probits_mae:1.030 val_probits_rmse:1.493\n",
      "## CV: FOLD 3... \n",
      "loss:2.066 logits_loss:2.066 probits_acc:0.375 probits_CS1:0.711 probits_CS2:0.893 probits_mae:1.075 probits_rmse:1.547 val_loss:1.976 val_logits_loss:1.976 val_probits_acc:0.392 val_probits_CS1:0.734 val_probits_CS2:0.902 val_probits_mae:1.023 val_probits_rmse:1.487\n",
      "## CV: FOLD 4... \n",
      "loss:2.037 logits_loss:2.037 probits_acc:0.382 probits_CS1:0.713 probits_CS2:0.896 probits_mae:1.061 probits_rmse:1.530 val_loss:2.005 val_logits_loss:2.005 val_probits_acc:0.390 val_probits_CS1:0.720 val_probits_CS2:0.898 val_probits_mae:1.044 val_probits_rmse:1.515\n",
      "\n",
      "### SEARCH: PARAMS {'rank_data': True, 'p': 0.4, 'output_len': 16, 'output_activation': 'sigmoid', 'input_shape': (18, 11), 'hiddens': [32], 'hidden_activation': 'swish', 'epochs': 30, 'batch_size': 32, 'adam_lr': 0.001}\n",
      "## CV: FOLD 0... \n"
     ]
    },
    {
     "name": "stderr",
     "output_type": "stream",
     "text": [
      "/home/cove/Documents/Projects/moon/venv/lib/python3.8/site-packages/sklearn/model_selection/_split.py:670: UserWarning: The least populated class in y has only 1 members, which is less than n_splits=5.\n",
      "  warnings.warn((\"The least populated class in y has only %d\"\n"
     ]
    },
    {
     "name": "stdout",
     "output_type": "stream",
     "text": [
      "loss:1.967 logits_loss:1.967 probits_acc:0.393 probits_CS1:0.729 probits_CS2:0.903 probits_mae:1.020 probits_rmse:1.485 val_loss:1.938 val_logits_loss:1.938 val_probits_acc:0.402 val_probits_CS1:0.733 val_probits_CS2:0.908 val_probits_mae:1.003 val_probits_rmse:1.462\n",
      "## CV: FOLD 1... \n",
      "loss:1.977 logits_loss:1.977 probits_acc:0.390 probits_CS1:0.725 probits_CS2:0.900 probits_mae:1.031 probits_rmse:1.498 val_loss:1.944 val_logits_loss:1.944 val_probits_acc:0.404 val_probits_CS1:0.735 val_probits_CS2:0.904 val_probits_mae:1.003 val_probits_rmse:1.468\n",
      "## CV: FOLD 2... \n",
      "loss:1.962 logits_loss:1.962 probits_acc:0.392 probits_CS1:0.726 probits_CS2:0.902 probits_mae:1.023 probits_rmse:1.486 val_loss:1.958 val_logits_loss:1.958 val_probits_acc:0.395 val_probits_CS1:0.736 val_probits_CS2:0.903 val_probits_mae:1.010 val_probits_rmse:1.468\n",
      "## CV: FOLD 3... \n",
      "loss:1.975 logits_loss:1.975 probits_acc:0.392 probits_CS1:0.724 probits_CS2:0.902 probits_mae:1.029 probits_rmse:1.493 val_loss:1.941 val_logits_loss:1.941 val_probits_acc:0.396 val_probits_CS1:0.740 val_probits_CS2:0.906 val_probits_mae:1.005 val_probits_rmse:1.464\n",
      "## CV: FOLD 4... \n",
      "loss:1.970 logits_loss:1.970 probits_acc:0.394 probits_CS1:0.728 probits_CS2:0.902 probits_mae:1.023 probits_rmse:1.490 val_loss:1.978 val_logits_loss:1.978 val_probits_acc:0.391 val_probits_CS1:0.730 val_probits_CS2:0.906 val_probits_mae:1.022 val_probits_rmse:1.483\n",
      "\n",
      "### SEARCH: PARAMS {'rank_data': True, 'p': 0.4, 'output_len': 16, 'output_activation': 'sigmoid', 'input_shape': (18, 11), 'hiddens': [16, 16], 'hidden_activation': 'swish', 'epochs': 30, 'batch_size': 32, 'adam_lr': 0.001}\n",
      "## CV: FOLD 0... \n"
     ]
    },
    {
     "name": "stderr",
     "output_type": "stream",
     "text": [
      "/home/cove/Documents/Projects/moon/venv/lib/python3.8/site-packages/sklearn/model_selection/_split.py:670: UserWarning: The least populated class in y has only 1 members, which is less than n_splits=5.\n",
      "  warnings.warn((\"The least populated class in y has only %d\"\n"
     ]
    },
    {
     "name": "stdout",
     "output_type": "stream",
     "text": [
      "loss:2.086 logits_loss:2.086 probits_acc:0.373 probits_CS1:0.703 probits_CS2:0.887 probits_mae:1.093 probits_rmse:1.570 val_loss:1.979 val_logits_loss:1.979 val_probits_acc:0.397 val_probits_CS1:0.728 val_probits_CS2:0.900 val_probits_mae:1.023 val_probits_rmse:1.488\n",
      "## CV: FOLD 1... \n",
      "loss:2.094 logits_loss:2.094 probits_acc:0.376 probits_CS1:0.706 probits_CS2:0.888 probits_mae:1.089 probits_rmse:1.568 val_loss:1.980 val_logits_loss:1.980 val_probits_acc:0.398 val_probits_CS1:0.726 val_probits_CS2:0.900 val_probits_mae:1.024 val_probits_rmse:1.488\n",
      "## CV: FOLD 2... \n",
      "loss:2.098 logits_loss:2.098 probits_acc:0.375 probits_CS1:0.706 probits_CS2:0.886 probits_mae:1.091 probits_rmse:1.574 val_loss:2.004 val_logits_loss:2.004 val_probits_acc:0.393 val_probits_CS1:0.721 val_probits_CS2:0.896 val_probits_mae:1.038 val_probits_rmse:1.507\n",
      "## CV: FOLD 3... \n",
      "loss:2.103 logits_loss:2.103 probits_acc:0.372 probits_CS1:0.703 probits_CS2:0.885 probits_mae:1.097 probits_rmse:1.579 val_loss:1.972 val_logits_loss:1.972 val_probits_acc:0.394 val_probits_CS1:0.734 val_probits_CS2:0.902 val_probits_mae:1.020 val_probits_rmse:1.485\n",
      "## CV: FOLD 4... \n",
      "loss:2.104 logits_loss:2.104 probits_acc:0.375 probits_CS1:0.703 probits_CS2:0.885 probits_mae:1.096 probits_rmse:1.580 val_loss:2.000 val_logits_loss:2.000 val_probits_acc:0.398 val_probits_CS1:0.719 val_probits_CS2:0.895 val_probits_mae:1.039 val_probits_rmse:1.514\n",
      "\n",
      "### SEARCH: PARAMS {'rank_data': True, 'p': 0.4, 'output_len': 16, 'output_activation': 'sigmoid', 'input_shape': (18, 11), 'hiddens': [32, 32], 'hidden_activation': 'swish', 'epochs': 30, 'batch_size': 32, 'adam_lr': 0.001}\n",
      "## CV: FOLD 0... \n"
     ]
    },
    {
     "name": "stderr",
     "output_type": "stream",
     "text": [
      "/home/cove/Documents/Projects/moon/venv/lib/python3.8/site-packages/sklearn/model_selection/_split.py:670: UserWarning: The least populated class in y has only 1 members, which is less than n_splits=5.\n",
      "  warnings.warn((\"The least populated class in y has only %d\"\n"
     ]
    },
    {
     "name": "stdout",
     "output_type": "stream",
     "text": [
      "loss:1.999 logits_loss:1.999 probits_acc:0.390 probits_CS1:0.722 probits_CS2:0.899 probits_mae:1.038 probits_rmse:1.510 val_loss:1.938 val_logits_loss:1.938 val_probits_acc:0.402 val_probits_CS1:0.733 val_probits_CS2:0.907 val_probits_mae:1.004 val_probits_rmse:1.466\n",
      "## CV: FOLD 1... \n",
      "loss:1.998 logits_loss:1.998 probits_acc:0.390 probits_CS1:0.721 probits_CS2:0.897 probits_mae:1.038 probits_rmse:1.510 val_loss:1.939 val_logits_loss:1.939 val_probits_acc:0.401 val_probits_CS1:0.734 val_probits_CS2:0.910 val_probits_mae:0.999 val_probits_rmse:1.454\n",
      "## CV: FOLD 2... \n",
      "loss:1.997 logits_loss:1.997 probits_acc:0.390 probits_CS1:0.720 probits_CS2:0.897 probits_mae:1.042 probits_rmse:1.510 val_loss:1.957 val_logits_loss:1.957 val_probits_acc:0.402 val_probits_CS1:0.728 val_probits_CS2:0.900 val_probits_mae:1.015 val_probits_rmse:1.482\n",
      "## CV: FOLD 3... \n",
      "loss:2.010 logits_loss:2.010 probits_acc:0.388 probits_CS1:0.718 probits_CS2:0.898 probits_mae:1.045 probits_rmse:1.515 val_loss:1.927 val_logits_loss:1.927 val_probits_acc:0.396 val_probits_CS1:0.739 val_probits_CS2:0.906 val_probits_mae:1.004 val_probits_rmse:1.463\n",
      "## CV: FOLD 4... \n",
      "loss:1.997 logits_loss:1.997 probits_acc:0.392 probits_CS1:0.721 probits_CS2:0.900 probits_mae:1.035 probits_rmse:1.506 val_loss:1.957 val_logits_loss:1.957 val_probits_acc:0.399 val_probits_CS1:0.729 val_probits_CS2:0.903 val_probits_mae:1.016 val_probits_rmse:1.484\n",
      "\n",
      "### SEARCH: PARAMS {'rank_data': True, 'p': 0.4, 'output_len': 16, 'output_activation': 'sigmoid', 'input_shape': (18, 11), 'hiddens': [64, 64], 'hidden_activation': 'swish', 'epochs': 30, 'batch_size': 32, 'adam_lr': 0.001}\n",
      "## CV: FOLD 0... \n"
     ]
    },
    {
     "name": "stderr",
     "output_type": "stream",
     "text": [
      "/home/cove/Documents/Projects/moon/venv/lib/python3.8/site-packages/sklearn/model_selection/_split.py:670: UserWarning: The least populated class in y has only 1 members, which is less than n_splits=5.\n",
      "  warnings.warn((\"The least populated class in y has only %d\"\n"
     ]
    },
    {
     "name": "stdout",
     "output_type": "stream",
     "text": [
      "loss:1.927 logits_loss:1.927 probits_acc:0.397 probits_CS1:0.733 probits_CS2:0.908 probits_mae:1.003 probits_rmse:1.461 val_loss:1.913 val_logits_loss:1.913 val_probits_acc:0.402 val_probits_CS1:0.740 val_probits_CS2:0.909 val_probits_mae:0.992 val_probits_rmse:1.447\n",
      "## CV: FOLD 1... \n",
      "loss:1.910 logits_loss:1.910 probits_acc:0.399 probits_CS1:0.738 probits_CS2:0.909 probits_mae:0.993 probits_rmse:1.449 val_loss:1.928 val_logits_loss:1.928 val_probits_acc:0.404 val_probits_CS1:0.735 val_probits_CS2:0.907 val_probits_mae:0.998 val_probits_rmse:1.456\n",
      "## CV: FOLD 2... \n",
      "loss:1.906 logits_loss:1.906 probits_acc:0.397 probits_CS1:0.736 probits_CS2:0.910 probits_mae:0.997 probits_rmse:1.449 val_loss:1.931 val_logits_loss:1.931 val_probits_acc:0.403 val_probits_CS1:0.736 val_probits_CS2:0.906 val_probits_mae:0.999 val_probits_rmse:1.460\n",
      "## CV: FOLD 3... \n",
      "loss:1.920 logits_loss:1.920 probits_acc:0.398 probits_CS1:0.735 probits_CS2:0.908 probits_mae:1.001 probits_rmse:1.458 val_loss:1.908 val_logits_loss:1.908 val_probits_acc:0.404 val_probits_CS1:0.741 val_probits_CS2:0.908 val_probits_mae:0.990 val_probits_rmse:1.449\n",
      "## CV: FOLD 4... \n",
      "loss:1.911 logits_loss:1.911 probits_acc:0.401 probits_CS1:0.735 probits_CS2:0.909 probits_mae:0.995 probits_rmse:1.453 val_loss:1.943 val_logits_loss:1.943 val_probits_acc:0.389 val_probits_CS1:0.738 val_probits_CS2:0.909 val_probits_mae:1.013 val_probits_rmse:1.468\n",
      "\n",
      "### SEARCH: PARAMS {'rank_data': True, 'p': 0.4, 'output_len': 16, 'output_activation': 'sigmoid', 'input_shape': (18, 11), 'hiddens': [32, 32, 32], 'hidden_activation': 'swish', 'epochs': 30, 'batch_size': 32, 'adam_lr': 0.001}\n",
      "## CV: FOLD 0... \n"
     ]
    },
    {
     "name": "stderr",
     "output_type": "stream",
     "text": [
      "/home/cove/Documents/Projects/moon/venv/lib/python3.8/site-packages/sklearn/model_selection/_split.py:670: UserWarning: The least populated class in y has only 1 members, which is less than n_splits=5.\n",
      "  warnings.warn((\"The least populated class in y has only %d\"\n"
     ]
    },
    {
     "name": "stdout",
     "output_type": "stream",
     "text": [
      "loss:2.021 logits_loss:2.021 probits_acc:0.383 probits_CS1:0.717 probits_CS2:0.896 probits_mae:1.054 probits_rmse:1.521 val_loss:1.944 val_logits_loss:1.944 val_probits_acc:0.406 val_probits_CS1:0.734 val_probits_CS2:0.907 val_probits_mae:1.000 val_probits_rmse:1.464\n",
      "## CV: FOLD 1... \n",
      "loss:2.029 logits_loss:2.029 probits_acc:0.386 probits_CS1:0.718 probits_CS2:0.893 probits_mae:1.053 probits_rmse:1.526 val_loss:1.947 val_logits_loss:1.947 val_probits_acc:0.407 val_probits_CS1:0.730 val_probits_CS2:0.900 val_probits_mae:1.012 val_probits_rmse:1.484\n",
      "## CV: FOLD 2... \n",
      "loss:2.026 logits_loss:2.026 probits_acc:0.387 probits_CS1:0.719 probits_CS2:0.895 probits_mae:1.050 probits_rmse:1.526 val_loss:1.963 val_logits_loss:1.963 val_probits_acc:0.400 val_probits_CS1:0.730 val_probits_CS2:0.900 val_probits_mae:1.015 val_probits_rmse:1.481\n",
      "## CV: FOLD 3... \n",
      "loss:2.029 logits_loss:2.029 probits_acc:0.385 probits_CS1:0.720 probits_CS2:0.896 probits_mae:1.051 probits_rmse:1.527 val_loss:1.938 val_logits_loss:1.938 val_probits_acc:0.402 val_probits_CS1:0.736 val_probits_CS2:0.904 val_probits_mae:1.007 val_probits_rmse:1.475\n",
      "## CV: FOLD 4... \n",
      "loss:2.026 logits_loss:2.026 probits_acc:0.382 probits_CS1:0.718 probits_CS2:0.897 probits_mae:1.052 probits_rmse:1.521 val_loss:1.973 val_logits_loss:1.973 val_probits_acc:0.392 val_probits_CS1:0.730 val_probits_CS2:0.902 val_probits_mae:1.023 val_probits_rmse:1.482\n",
      "\n",
      "### SEARCH: PARAMS {'rank_data': True, 'p': 0.4, 'output_len': 16, 'output_activation': 'sigmoid', 'input_shape': (18, 11), 'hiddens': [64, 64, 64], 'hidden_activation': 'swish', 'epochs': 30, 'batch_size': 32, 'adam_lr': 0.001}\n",
      "## CV: FOLD 0... \n"
     ]
    },
    {
     "name": "stderr",
     "output_type": "stream",
     "text": [
      "/home/cove/Documents/Projects/moon/venv/lib/python3.8/site-packages/sklearn/model_selection/_split.py:670: UserWarning: The least populated class in y has only 1 members, which is less than n_splits=5.\n",
      "  warnings.warn((\"The least populated class in y has only %d\"\n"
     ]
    },
    {
     "name": "stdout",
     "output_type": "stream",
     "text": [
      "loss:1.934 logits_loss:1.934 probits_acc:0.393 probits_CS1:0.732 probits_CS2:0.908 probits_mae:1.008 probits_rmse:1.462 val_loss:1.933 val_logits_loss:1.933 val_probits_acc:0.399 val_probits_CS1:0.734 val_probits_CS2:0.906 val_probits_mae:1.007 val_probits_rmse:1.467\n",
      "## CV: FOLD 1... \n",
      "loss:1.947 logits_loss:1.947 probits_acc:0.395 probits_CS1:0.729 probits_CS2:0.905 probits_mae:1.013 probits_rmse:1.472 val_loss:1.928 val_logits_loss:1.928 val_probits_acc:0.405 val_probits_CS1:0.733 val_probits_CS2:0.909 val_probits_mae:1.001 val_probits_rmse:1.460\n",
      "## CV: FOLD 2... \n",
      "loss:1.935 logits_loss:1.935 probits_acc:0.392 probits_CS1:0.732 probits_CS2:0.908 probits_mae:1.009 probits_rmse:1.460 val_loss:1.933 val_logits_loss:1.933 val_probits_acc:0.403 val_probits_CS1:0.734 val_probits_CS2:0.906 val_probits_mae:1.002 val_probits_rmse:1.465\n",
      "## CV: FOLD 3... \n",
      "loss:1.950 logits_loss:1.950 probits_acc:0.395 probits_CS1:0.733 probits_CS2:0.906 probits_mae:1.010 probits_rmse:1.472 val_loss:1.912 val_logits_loss:1.912 val_probits_acc:0.401 val_probits_CS1:0.739 val_probits_CS2:0.908 val_probits_mae:0.998 val_probits_rmse:1.457\n",
      "## CV: FOLD 4... \n",
      "loss:1.941 logits_loss:1.941 probits_acc:0.391 probits_CS1:0.731 probits_CS2:0.908 probits_mae:1.012 probits_rmse:1.467 val_loss:1.949 val_logits_loss:1.949 val_probits_acc:0.391 val_probits_CS1:0.742 val_probits_CS2:0.910 val_probits_mae:1.007 val_probits_rmse:1.467\n",
      "\n",
      "### SEARCH: PARAMS {'rank_data': True, 'p': 0.4, 'output_len': 16, 'output_activation': 'sigmoid', 'input_shape': (18, 11), 'hiddens': [16], 'hidden_activation': 'swish', 'epochs': 50, 'batch_size': 32, 'adam_lr': 0.001}\n",
      "## CV: FOLD 0... \n"
     ]
    },
    {
     "name": "stderr",
     "output_type": "stream",
     "text": [
      "/home/cove/Documents/Projects/moon/venv/lib/python3.8/site-packages/sklearn/model_selection/_split.py:670: UserWarning: The least populated class in y has only 1 members, which is less than n_splits=5.\n",
      "  warnings.warn((\"The least populated class in y has only %d\"\n"
     ]
    },
    {
     "name": "stdout",
     "output_type": "stream",
     "text": [
      "loss:2.031 logits_loss:2.031 probits_acc:0.379 probits_CS1:0.716 probits_CS2:0.896 probits_mae:1.059 probits_rmse:1.527 val_loss:1.960 val_logits_loss:1.960 val_probits_acc:0.394 val_probits_CS1:0.730 val_probits_CS2:0.904 val_probits_mae:1.019 val_probits_rmse:1.477\n",
      "## CV: FOLD 1... \n",
      "loss:2.027 logits_loss:2.027 probits_acc:0.382 probits_CS1:0.718 probits_CS2:0.896 probits_mae:1.055 probits_rmse:1.527 val_loss:1.955 val_logits_loss:1.955 val_probits_acc:0.397 val_probits_CS1:0.730 val_probits_CS2:0.906 val_probits_mae:1.011 val_probits_rmse:1.467\n",
      "## CV: FOLD 2... \n",
      "loss:2.036 logits_loss:2.036 probits_acc:0.381 probits_CS1:0.714 probits_CS2:0.895 probits_mae:1.061 probits_rmse:1.532 val_loss:1.984 val_logits_loss:1.984 val_probits_acc:0.391 val_probits_CS1:0.731 val_probits_CS2:0.900 val_probits_mae:1.024 val_probits_rmse:1.485\n",
      "## CV: FOLD 3... \n",
      "loss:2.042 logits_loss:2.042 probits_acc:0.380 probits_CS1:0.713 probits_CS2:0.895 probits_mae:1.064 probits_rmse:1.539 val_loss:1.969 val_logits_loss:1.969 val_probits_acc:0.389 val_probits_CS1:0.733 val_probits_CS2:0.902 val_probits_mae:1.024 val_probits_rmse:1.486\n",
      "## CV: FOLD 4... \n",
      "loss:2.015 logits_loss:2.015 probits_acc:0.384 probits_CS1:0.719 probits_CS2:0.897 probits_mae:1.050 probits_rmse:1.519 val_loss:1.990 val_logits_loss:1.990 val_probits_acc:0.384 val_probits_CS1:0.728 val_probits_CS2:0.904 val_probits_mae:1.034 val_probits_rmse:1.493\n",
      "\n",
      "### SEARCH: PARAMS {'rank_data': True, 'p': 0.4, 'output_len': 16, 'output_activation': 'sigmoid', 'input_shape': (18, 11), 'hiddens': [32], 'hidden_activation': 'swish', 'epochs': 50, 'batch_size': 32, 'adam_lr': 0.001}\n",
      "## CV: FOLD 0... \n"
     ]
    },
    {
     "name": "stderr",
     "output_type": "stream",
     "text": [
      "/home/cove/Documents/Projects/moon/venv/lib/python3.8/site-packages/sklearn/model_selection/_split.py:670: UserWarning: The least populated class in y has only 1 members, which is less than n_splits=5.\n",
      "  warnings.warn((\"The least populated class in y has only %d\"\n"
     ]
    },
    {
     "name": "stdout",
     "output_type": "stream",
     "text": [
      "loss:1.935 logits_loss:1.935 probits_acc:0.388 probits_CS1:0.732 probits_CS2:0.907 probits_mae:1.013 probits_rmse:1.465 val_loss:1.916 val_logits_loss:1.916 val_probits_acc:0.404 val_probits_CS1:0.743 val_probits_CS2:0.908 val_probits_mae:0.988 val_probits_rmse:1.446\n",
      "## CV: FOLD 1... \n",
      "loss:1.937 logits_loss:1.937 probits_acc:0.389 probits_CS1:0.734 probits_CS2:0.907 probits_mae:1.012 probits_rmse:1.464 val_loss:1.925 val_logits_loss:1.925 val_probits_acc:0.404 val_probits_CS1:0.734 val_probits_CS2:0.906 val_probits_mae:0.999 val_probits_rmse:1.457\n",
      "## CV: FOLD 2... \n",
      "loss:1.927 logits_loss:1.927 probits_acc:0.394 probits_CS1:0.730 probits_CS2:0.909 probits_mae:1.007 probits_rmse:1.460 val_loss:1.941 val_logits_loss:1.941 val_probits_acc:0.398 val_probits_CS1:0.734 val_probits_CS2:0.904 val_probits_mae:1.006 val_probits_rmse:1.467\n",
      "## CV: FOLD 3... \n",
      "loss:1.936 logits_loss:1.936 probits_acc:0.393 probits_CS1:0.734 probits_CS2:0.907 probits_mae:1.007 probits_rmse:1.462 val_loss:1.921 val_logits_loss:1.921 val_probits_acc:0.401 val_probits_CS1:0.738 val_probits_CS2:0.908 val_probits_mae:0.995 val_probits_rmse:1.449\n",
      "## CV: FOLD 4... \n",
      "loss:1.923 logits_loss:1.923 probits_acc:0.395 probits_CS1:0.732 probits_CS2:0.911 probits_mae:1.003 probits_rmse:1.454 val_loss:1.959 val_logits_loss:1.959 val_probits_acc:0.391 val_probits_CS1:0.730 val_probits_CS2:0.903 val_probits_mae:1.022 val_probits_rmse:1.480\n",
      "\n",
      "### SEARCH: PARAMS {'rank_data': True, 'p': 0.4, 'output_len': 16, 'output_activation': 'sigmoid', 'input_shape': (18, 11), 'hiddens': [16, 16], 'hidden_activation': 'swish', 'epochs': 50, 'batch_size': 32, 'adam_lr': 0.001}\n",
      "## CV: FOLD 0... \n"
     ]
    },
    {
     "name": "stderr",
     "output_type": "stream",
     "text": [
      "/home/cove/Documents/Projects/moon/venv/lib/python3.8/site-packages/sklearn/model_selection/_split.py:670: UserWarning: The least populated class in y has only 1 members, which is less than n_splits=5.\n",
      "  warnings.warn((\"The least populated class in y has only %d\"\n"
     ]
    },
    {
     "name": "stdout",
     "output_type": "stream",
     "text": [
      "loss:2.077 logits_loss:2.077 probits_acc:0.375 probits_CS1:0.706 probits_CS2:0.890 probits_mae:1.082 probits_rmse:1.556 val_loss:1.968 val_logits_loss:1.968 val_probits_acc:0.402 val_probits_CS1:0.725 val_probits_CS2:0.900 val_probits_mae:1.023 val_probits_rmse:1.494\n",
      "## CV: FOLD 1... \n",
      "loss:2.073 logits_loss:2.073 probits_acc:0.375 probits_CS1:0.711 probits_CS2:0.891 probits_mae:1.077 probits_rmse:1.549 val_loss:1.975 val_logits_loss:1.975 val_probits_acc:0.400 val_probits_CS1:0.727 val_probits_CS2:0.901 val_probits_mae:1.020 val_probits_rmse:1.483\n",
      "## CV: FOLD 2... \n",
      "loss:2.054 logits_loss:2.054 probits_acc:0.384 probits_CS1:0.711 probits_CS2:0.891 probits_mae:1.068 probits_rmse:1.545 val_loss:1.975 val_logits_loss:1.975 val_probits_acc:0.397 val_probits_CS1:0.728 val_probits_CS2:0.897 val_probits_mae:1.022 val_probits_rmse:1.487\n",
      "## CV: FOLD 3... \n",
      "loss:2.071 logits_loss:2.071 probits_acc:0.376 probits_CS1:0.706 probits_CS2:0.891 probits_mae:1.080 probits_rmse:1.554 val_loss:1.952 val_logits_loss:1.952 val_probits_acc:0.398 val_probits_CS1:0.733 val_probits_CS2:0.902 val_probits_mae:1.016 val_probits_rmse:1.483\n",
      "## CV: FOLD 4... \n",
      "loss:2.060 logits_loss:2.060 probits_acc:0.382 probits_CS1:0.712 probits_CS2:0.891 probits_mae:1.070 probits_rmse:1.549 val_loss:1.980 val_logits_loss:1.980 val_probits_acc:0.392 val_probits_CS1:0.725 val_probits_CS2:0.900 val_probits_mae:1.035 val_probits_rmse:1.504\n",
      "\n",
      "### SEARCH: PARAMS {'rank_data': True, 'p': 0.4, 'output_len': 16, 'output_activation': 'sigmoid', 'input_shape': (18, 11), 'hiddens': [32, 32], 'hidden_activation': 'swish', 'epochs': 50, 'batch_size': 32, 'adam_lr': 0.001}\n",
      "## CV: FOLD 0... \n"
     ]
    },
    {
     "name": "stderr",
     "output_type": "stream",
     "text": [
      "/home/cove/Documents/Projects/moon/venv/lib/python3.8/site-packages/sklearn/model_selection/_split.py:670: UserWarning: The least populated class in y has only 1 members, which is less than n_splits=5.\n",
      "  warnings.warn((\"The least populated class in y has only %d\"\n"
     ]
    },
    {
     "name": "stdout",
     "output_type": "stream",
     "text": [
      "loss:1.956 logits_loss:1.956 probits_acc:0.390 probits_CS1:0.727 probits_CS2:0.904 probits_mae:1.021 probits_rmse:1.481 val_loss:1.928 val_logits_loss:1.928 val_probits_acc:0.410 val_probits_CS1:0.731 val_probits_CS2:0.902 val_probits_mae:1.002 val_probits_rmse:1.470\n",
      "## CV: FOLD 1... \n",
      "loss:1.958 logits_loss:1.958 probits_acc:0.393 probits_CS1:0.727 probits_CS2:0.903 probits_mae:1.020 probits_rmse:1.483 val_loss:1.921 val_logits_loss:1.921 val_probits_acc:0.403 val_probits_CS1:0.739 val_probits_CS2:0.912 val_probits_mae:0.988 val_probits_rmse:1.439\n",
      "## CV: FOLD 2... \n",
      "loss:1.951 logits_loss:1.951 probits_acc:0.393 probits_CS1:0.729 probits_CS2:0.904 probits_mae:1.016 probits_rmse:1.475 val_loss:1.943 val_logits_loss:1.943 val_probits_acc:0.394 val_probits_CS1:0.733 val_probits_CS2:0.903 val_probits_mae:1.013 val_probits_rmse:1.470\n",
      "## CV: FOLD 3... \n",
      "loss:1.961 logits_loss:1.961 probits_acc:0.392 probits_CS1:0.726 probits_CS2:0.904 probits_mae:1.022 probits_rmse:1.484 val_loss:1.924 val_logits_loss:1.924 val_probits_acc:0.403 val_probits_CS1:0.738 val_probits_CS2:0.902 val_probits_mae:1.003 val_probits_rmse:1.467\n",
      "## CV: FOLD 4... \n",
      "loss:1.948 logits_loss:1.948 probits_acc:0.394 probits_CS1:0.730 probits_CS2:0.905 probits_mae:1.013 probits_rmse:1.471 val_loss:1.934 val_logits_loss:1.934 val_probits_acc:0.396 val_probits_CS1:0.738 val_probits_CS2:0.911 val_probits_mae:1.003 val_probits_rmse:1.461\n",
      "\n",
      "### SEARCH: PARAMS {'rank_data': True, 'p': 0.4, 'output_len': 16, 'output_activation': 'sigmoid', 'input_shape': (18, 11), 'hiddens': [64, 64], 'hidden_activation': 'swish', 'epochs': 50, 'batch_size': 32, 'adam_lr': 0.001}\n",
      "## CV: FOLD 0... \n"
     ]
    },
    {
     "name": "stderr",
     "output_type": "stream",
     "text": [
      "/home/cove/Documents/Projects/moon/venv/lib/python3.8/site-packages/sklearn/model_selection/_split.py:670: UserWarning: The least populated class in y has only 1 members, which is less than n_splits=5.\n",
      "  warnings.warn((\"The least populated class in y has only %d\"\n"
     ]
    },
    {
     "name": "stdout",
     "output_type": "stream",
     "text": [
      "loss:1.848 logits_loss:1.848 probits_acc:0.403 probits_CS1:0.746 probits_CS2:0.919 probits_mae:0.965 probits_rmse:1.404 val_loss:1.901 val_logits_loss:1.901 val_probits_acc:0.401 val_probits_CS1:0.740 val_probits_CS2:0.912 val_probits_mae:0.988 val_probits_rmse:1.437\n",
      "## CV: FOLD 1... \n",
      "loss:1.838 logits_loss:1.838 probits_acc:0.403 probits_CS1:0.751 probits_CS2:0.919 probits_mae:0.958 probits_rmse:1.395 val_loss:1.922 val_logits_loss:1.922 val_probits_acc:0.406 val_probits_CS1:0.737 val_probits_CS2:0.912 val_probits_mae:0.990 val_probits_rmse:1.445\n",
      "## CV: FOLD 2... \n",
      "loss:1.842 logits_loss:1.842 probits_acc:0.405 probits_CS1:0.746 probits_CS2:0.919 probits_mae:0.962 probits_rmse:1.402 val_loss:1.927 val_logits_loss:1.927 val_probits_acc:0.398 val_probits_CS1:0.741 val_probits_CS2:0.909 val_probits_mae:0.994 val_probits_rmse:1.448\n",
      "## CV: FOLD 3... \n",
      "loss:1.844 logits_loss:1.844 probits_acc:0.406 probits_CS1:0.749 probits_CS2:0.918 probits_mae:0.961 probits_rmse:1.403 val_loss:1.899 val_logits_loss:1.899 val_probits_acc:0.399 val_probits_CS1:0.744 val_probits_CS2:0.912 val_probits_mae:0.985 val_probits_rmse:1.434\n",
      "## CV: FOLD 4... \n",
      "loss:1.834 logits_loss:1.834 probits_acc:0.408 probits_CS1:0.751 probits_CS2:0.920 probits_mae:0.954 probits_rmse:1.394 val_loss:1.930 val_logits_loss:1.930 val_probits_acc:0.398 val_probits_CS1:0.742 val_probits_CS2:0.908 val_probits_mae:0.996 val_probits_rmse:1.453\n",
      "\n",
      "### SEARCH: PARAMS {'rank_data': True, 'p': 0.4, 'output_len': 16, 'output_activation': 'sigmoid', 'input_shape': (18, 11), 'hiddens': [32, 32, 32], 'hidden_activation': 'swish', 'epochs': 50, 'batch_size': 32, 'adam_lr': 0.001}\n",
      "## CV: FOLD 0... \n"
     ]
    },
    {
     "name": "stderr",
     "output_type": "stream",
     "text": [
      "/home/cove/Documents/Projects/moon/venv/lib/python3.8/site-packages/sklearn/model_selection/_split.py:670: UserWarning: The least populated class in y has only 1 members, which is less than n_splits=5.\n",
      "  warnings.warn((\"The least populated class in y has only %d\"\n"
     ]
    },
    {
     "name": "stdout",
     "output_type": "stream",
     "text": [
      "loss:1.979 logits_loss:1.979 probits_acc:0.386 probits_CS1:0.725 probits_CS2:0.902 probits_mae:1.030 probits_rmse:1.488 val_loss:1.933 val_logits_loss:1.933 val_probits_acc:0.402 val_probits_CS1:0.737 val_probits_CS2:0.906 val_probits_mae:0.998 val_probits_rmse:1.454\n",
      "## CV: FOLD 1... \n",
      "loss:1.983 logits_loss:1.983 probits_acc:0.384 probits_CS1:0.723 probits_CS2:0.901 probits_mae:1.037 probits_rmse:1.499 val_loss:1.925 val_logits_loss:1.925 val_probits_acc:0.405 val_probits_CS1:0.735 val_probits_CS2:0.909 val_probits_mae:0.996 val_probits_rmse:1.454\n",
      "## CV: FOLD 2... \n",
      "loss:1.969 logits_loss:1.969 probits_acc:0.390 probits_CS1:0.725 probits_CS2:0.905 probits_mae:1.025 probits_rmse:1.485 val_loss:1.934 val_logits_loss:1.934 val_probits_acc:0.394 val_probits_CS1:0.741 val_probits_CS2:0.907 val_probits_mae:1.000 val_probits_rmse:1.455\n",
      "## CV: FOLD 3... \n",
      "loss:1.982 logits_loss:1.982 probits_acc:0.387 probits_CS1:0.722 probits_CS2:0.901 probits_mae:1.034 probits_rmse:1.494 val_loss:1.918 val_logits_loss:1.918 val_probits_acc:0.409 val_probits_CS1:0.741 val_probits_CS2:0.908 val_probits_mae:0.988 val_probits_rmse:1.453\n",
      "## CV: FOLD 4... \n",
      "loss:1.978 logits_loss:1.978 probits_acc:0.386 probits_CS1:0.724 probits_CS2:0.903 probits_mae:1.030 probits_rmse:1.487 val_loss:1.949 val_logits_loss:1.949 val_probits_acc:0.401 val_probits_CS1:0.729 val_probits_CS2:0.904 val_probits_mae:1.014 val_probits_rmse:1.480\n",
      "\n",
      "### SEARCH: PARAMS {'rank_data': True, 'p': 0.4, 'output_len': 16, 'output_activation': 'sigmoid', 'input_shape': (18, 11), 'hiddens': [64, 64, 64], 'hidden_activation': 'swish', 'epochs': 50, 'batch_size': 32, 'adam_lr': 0.001}\n",
      "## CV: FOLD 0... \n"
     ]
    },
    {
     "name": "stderr",
     "output_type": "stream",
     "text": [
      "/home/cove/Documents/Projects/moon/venv/lib/python3.8/site-packages/sklearn/model_selection/_split.py:670: UserWarning: The least populated class in y has only 1 members, which is less than n_splits=5.\n",
      "  warnings.warn((\"The least populated class in y has only %d\"\n"
     ]
    },
    {
     "name": "stdout",
     "output_type": "stream",
     "text": [
      "loss:1.868 logits_loss:1.868 probits_acc:0.400 probits_CS1:0.744 probits_CS2:0.918 probits_mae:0.973 probits_rmse:1.414 val_loss:1.917 val_logits_loss:1.917 val_probits_acc:0.394 val_probits_CS1:0.743 val_probits_CS2:0.915 val_probits_mae:0.990 val_probits_rmse:1.431\n",
      "## CV: FOLD 1... \n",
      "loss:1.867 logits_loss:1.867 probits_acc:0.398 probits_CS1:0.743 probits_CS2:0.917 probits_mae:0.977 probits_rmse:1.419 val_loss:1.926 val_logits_loss:1.926 val_probits_acc:0.401 val_probits_CS1:0.729 val_probits_CS2:0.909 val_probits_mae:1.003 val_probits_rmse:1.457\n",
      "## CV: FOLD 2... \n",
      "loss:1.856 logits_loss:1.856 probits_acc:0.403 probits_CS1:0.746 probits_CS2:0.918 probits_mae:0.967 probits_rmse:1.406 val_loss:1.937 val_logits_loss:1.937 val_probits_acc:0.402 val_probits_CS1:0.735 val_probits_CS2:0.905 val_probits_mae:1.004 val_probits_rmse:1.470\n",
      "## CV: FOLD 3... \n",
      "loss:1.869 logits_loss:1.869 probits_acc:0.400 probits_CS1:0.740 probits_CS2:0.917 probits_mae:0.977 probits_rmse:1.418 val_loss:1.907 val_logits_loss:1.907 val_probits_acc:0.400 val_probits_CS1:0.747 val_probits_CS2:0.912 val_probits_mae:0.984 val_probits_rmse:1.437\n",
      "## CV: FOLD 4... \n",
      "loss:1.872 logits_loss:1.872 probits_acc:0.403 probits_CS1:0.742 probits_CS2:0.917 probits_mae:0.972 probits_rmse:1.415 val_loss:1.932 val_logits_loss:1.932 val_probits_acc:0.388 val_probits_CS1:0.741 val_probits_CS2:0.911 val_probits_mae:1.005 val_probits_rmse:1.454\n",
      "\n",
      "### SEARCH: PARAMS {'rank_data': True, 'p': 0.4, 'output_len': 16, 'output_activation': 'sigmoid', 'input_shape': (18, 11), 'hiddens': [16], 'hidden_activation': 'swish', 'epochs': 75, 'batch_size': 32, 'adam_lr': 0.001}\n",
      "## CV: FOLD 0... \n"
     ]
    },
    {
     "name": "stderr",
     "output_type": "stream",
     "text": [
      "/home/cove/Documents/Projects/moon/venv/lib/python3.8/site-packages/sklearn/model_selection/_split.py:670: UserWarning: The least populated class in y has only 1 members, which is less than n_splits=5.\n",
      "  warnings.warn((\"The least populated class in y has only %d\"\n"
     ]
    },
    {
     "name": "stdout",
     "output_type": "stream",
     "text": [
      "loss:2.023 logits_loss:2.023 probits_acc:0.376 probits_CS1:0.716 probits_CS2:0.899 probits_mae:1.058 probits_rmse:1.523 val_loss:1.951 val_logits_loss:1.951 val_probits_acc:0.393 val_probits_CS1:0.734 val_probits_CS2:0.906 val_probits_mae:1.012 val_probits_rmse:1.468\n",
      "## CV: FOLD 1... \n",
      "loss:2.026 logits_loss:2.026 probits_acc:0.383 probits_CS1:0.719 probits_CS2:0.897 probits_mae:1.051 probits_rmse:1.524 val_loss:1.946 val_logits_loss:1.946 val_probits_acc:0.400 val_probits_CS1:0.735 val_probits_CS2:0.905 val_probits_mae:1.006 val_probits_rmse:1.464\n",
      "## CV: FOLD 2... \n",
      "loss:2.010 logits_loss:2.010 probits_acc:0.383 probits_CS1:0.720 probits_CS2:0.897 probits_mae:1.047 probits_rmse:1.512 val_loss:1.968 val_logits_loss:1.968 val_probits_acc:0.394 val_probits_CS1:0.729 val_probits_CS2:0.903 val_probits_mae:1.018 val_probits_rmse:1.478\n",
      "## CV: FOLD 3... \n",
      "loss:2.014 logits_loss:2.014 probits_acc:0.383 probits_CS1:0.720 probits_CS2:0.899 probits_mae:1.047 probits_rmse:1.515 val_loss:1.955 val_logits_loss:1.955 val_probits_acc:0.399 val_probits_CS1:0.731 val_probits_CS2:0.902 val_probits_mae:1.017 val_probits_rmse:1.483\n",
      "## CV: FOLD 4... \n",
      "loss:2.013 logits_loss:2.013 probits_acc:0.385 probits_CS1:0.718 probits_CS2:0.898 probits_mae:1.047 probits_rmse:1.514 val_loss:1.989 val_logits_loss:1.989 val_probits_acc:0.389 val_probits_CS1:0.727 val_probits_CS2:0.901 val_probits_mae:1.033 val_probits_rmse:1.499\n",
      "\n",
      "### SEARCH: PARAMS {'rank_data': True, 'p': 0.4, 'output_len': 16, 'output_activation': 'sigmoid', 'input_shape': (18, 11), 'hiddens': [32], 'hidden_activation': 'swish', 'epochs': 75, 'batch_size': 32, 'adam_lr': 0.001}\n",
      "## CV: FOLD 0... \n"
     ]
    },
    {
     "name": "stderr",
     "output_type": "stream",
     "text": [
      "/home/cove/Documents/Projects/moon/venv/lib/python3.8/site-packages/sklearn/model_selection/_split.py:670: UserWarning: The least populated class in y has only 1 members, which is less than n_splits=5.\n",
      "  warnings.warn((\"The least populated class in y has only %d\"\n"
     ]
    },
    {
     "name": "stdout",
     "output_type": "stream",
     "text": [
      "loss:1.896 logits_loss:1.896 probits_acc:0.392 probits_CS1:0.738 probits_CS2:0.912 probits_mae:0.994 probits_rmse:1.439 val_loss:1.922 val_logits_loss:1.922 val_probits_acc:0.398 val_probits_CS1:0.738 val_probits_CS2:0.906 val_probits_mae:1.000 val_probits_rmse:1.453\n",
      "## CV: FOLD 1... \n",
      "loss:1.906 logits_loss:1.906 probits_acc:0.397 probits_CS1:0.735 probits_CS2:0.912 probits_mae:0.994 probits_rmse:1.443 val_loss:1.927 val_logits_loss:1.927 val_probits_acc:0.403 val_probits_CS1:0.732 val_probits_CS2:0.909 val_probits_mae:0.997 val_probits_rmse:1.450\n",
      "## CV: FOLD 2... \n",
      "loss:1.893 logits_loss:1.893 probits_acc:0.394 probits_CS1:0.737 probits_CS2:0.913 probits_mae:0.992 probits_rmse:1.434 val_loss:1.942 val_logits_loss:1.942 val_probits_acc:0.402 val_probits_CS1:0.739 val_probits_CS2:0.908 val_probits_mae:0.996 val_probits_rmse:1.456\n",
      "## CV: FOLD 3... \n",
      "loss:1.904 logits_loss:1.904 probits_acc:0.395 probits_CS1:0.736 probits_CS2:0.911 probits_mae:0.996 probits_rmse:1.446 val_loss:1.911 val_logits_loss:1.911 val_probits_acc:0.400 val_probits_CS1:0.738 val_probits_CS2:0.907 val_probits_mae:0.997 val_probits_rmse:1.450\n",
      "## CV: FOLD 4... \n",
      "loss:1.897 logits_loss:1.897 probits_acc:0.399 probits_CS1:0.741 probits_CS2:0.911 probits_mae:0.988 probits_rmse:1.437 val_loss:1.958 val_logits_loss:1.958 val_probits_acc:0.387 val_probits_CS1:0.736 val_probits_CS2:0.907 val_probits_mae:1.019 val_probits_rmse:1.476\n",
      "\n",
      "### SEARCH: PARAMS {'rank_data': True, 'p': 0.4, 'output_len': 16, 'output_activation': 'sigmoid', 'input_shape': (18, 11), 'hiddens': [16, 16], 'hidden_activation': 'swish', 'epochs': 75, 'batch_size': 32, 'adam_lr': 0.001}\n",
      "## CV: FOLD 0... \n"
     ]
    },
    {
     "name": "stderr",
     "output_type": "stream",
     "text": [
      "/home/cove/Documents/Projects/moon/venv/lib/python3.8/site-packages/sklearn/model_selection/_split.py:670: UserWarning: The least populated class in y has only 1 members, which is less than n_splits=5.\n",
      "  warnings.warn((\"The least populated class in y has only %d\"\n"
     ]
    },
    {
     "name": "stdout",
     "output_type": "stream",
     "text": [
      "loss:2.055 logits_loss:2.055 probits_acc:0.377 probits_CS1:0.713 probits_CS2:0.892 probits_mae:1.070 probits_rmse:1.543 val_loss:1.950 val_logits_loss:1.950 val_probits_acc:0.400 val_probits_CS1:0.730 val_probits_CS2:0.903 val_probits_mae:1.012 val_probits_rmse:1.472\n",
      "## CV: FOLD 1... \n",
      "loss:2.043 logits_loss:2.043 probits_acc:0.381 probits_CS1:0.713 probits_CS2:0.892 probits_mae:1.063 probits_rmse:1.532 val_loss:1.949 val_logits_loss:1.949 val_probits_acc:0.409 val_probits_CS1:0.726 val_probits_CS2:0.903 val_probits_mae:1.010 val_probits_rmse:1.480\n",
      "## CV: FOLD 2... \n",
      "loss:2.038 logits_loss:2.038 probits_acc:0.380 probits_CS1:0.711 probits_CS2:0.893 probits_mae:1.065 probits_rmse:1.531 val_loss:1.962 val_logits_loss:1.962 val_probits_acc:0.396 val_probits_CS1:0.727 val_probits_CS2:0.899 val_probits_mae:1.025 val_probits_rmse:1.490\n",
      "## CV: FOLD 3... \n",
      "loss:2.040 logits_loss:2.040 probits_acc:0.382 probits_CS1:0.712 probits_CS2:0.893 probits_mae:1.063 probits_rmse:1.531 val_loss:1.943 val_logits_loss:1.943 val_probits_acc:0.402 val_probits_CS1:0.736 val_probits_CS2:0.904 val_probits_mae:1.003 val_probits_rmse:1.465\n",
      "## CV: FOLD 4... \n",
      "loss:2.053 logits_loss:2.053 probits_acc:0.381 probits_CS1:0.713 probits_CS2:0.893 probits_mae:1.066 probits_rmse:1.542 val_loss:1.976 val_logits_loss:1.976 val_probits_acc:0.392 val_probits_CS1:0.729 val_probits_CS2:0.902 val_probits_mae:1.026 val_probits_rmse:1.487\n",
      "\n",
      "### SEARCH: PARAMS {'rank_data': True, 'p': 0.4, 'output_len': 16, 'output_activation': 'sigmoid', 'input_shape': (18, 11), 'hiddens': [32, 32], 'hidden_activation': 'swish', 'epochs': 75, 'batch_size': 32, 'adam_lr': 0.001}\n",
      "## CV: FOLD 0... \n"
     ]
    },
    {
     "name": "stderr",
     "output_type": "stream",
     "text": [
      "/home/cove/Documents/Projects/moon/venv/lib/python3.8/site-packages/sklearn/model_selection/_split.py:670: UserWarning: The least populated class in y has only 1 members, which is less than n_splits=5.\n",
      "  warnings.warn((\"The least populated class in y has only %d\"\n"
     ]
    },
    {
     "name": "stdout",
     "output_type": "stream",
     "text": [
      "loss:1.918 logits_loss:1.918 probits_acc:0.393 probits_CS1:0.733 probits_CS2:0.909 probits_mae:1.003 probits_rmse:1.452 val_loss:1.910 val_logits_loss:1.910 val_probits_acc:0.406 val_probits_CS1:0.739 val_probits_CS2:0.909 val_probits_mae:0.986 val_probits_rmse:1.440\n",
      "## CV: FOLD 1... \n",
      "loss:1.912 logits_loss:1.912 probits_acc:0.396 probits_CS1:0.738 probits_CS2:0.907 probits_mae:0.997 probits_rmse:1.448 val_loss:1.918 val_logits_loss:1.918 val_probits_acc:0.402 val_probits_CS1:0.735 val_probits_CS2:0.911 val_probits_mae:0.996 val_probits_rmse:1.449\n",
      "## CV: FOLD 2... \n",
      "loss:1.917 logits_loss:1.917 probits_acc:0.393 probits_CS1:0.735 probits_CS2:0.911 probits_mae:1.001 probits_rmse:1.450 val_loss:1.942 val_logits_loss:1.942 val_probits_acc:0.400 val_probits_CS1:0.733 val_probits_CS2:0.903 val_probits_mae:1.009 val_probits_rmse:1.470\n",
      "## CV: FOLD 3... \n",
      "loss:1.916 logits_loss:1.916 probits_acc:0.392 probits_CS1:0.737 probits_CS2:0.909 probits_mae:1.000 probits_rmse:1.449 val_loss:1.905 val_logits_loss:1.905 val_probits_acc:0.409 val_probits_CS1:0.744 val_probits_CS2:0.909 val_probits_mae:0.980 val_probits_rmse:1.441\n",
      "## CV: FOLD 4... \n",
      "loss:1.917 logits_loss:1.917 probits_acc:0.396 probits_CS1:0.736 probits_CS2:0.909 probits_mae:0.997 probits_rmse:1.448 val_loss:1.943 val_logits_loss:1.943 val_probits_acc:0.396 val_probits_CS1:0.739 val_probits_CS2:0.908 val_probits_mae:1.004 val_probits_rmse:1.462\n",
      "\n",
      "### SEARCH: PARAMS {'rank_data': True, 'p': 0.4, 'output_len': 16, 'output_activation': 'sigmoid', 'input_shape': (18, 11), 'hiddens': [64, 64], 'hidden_activation': 'swish', 'epochs': 75, 'batch_size': 32, 'adam_lr': 0.001}\n",
      "## CV: FOLD 0... \n"
     ]
    },
    {
     "name": "stderr",
     "output_type": "stream",
     "text": [
      "/home/cove/Documents/Projects/moon/venv/lib/python3.8/site-packages/sklearn/model_selection/_split.py:670: UserWarning: The least populated class in y has only 1 members, which is less than n_splits=5.\n",
      "  warnings.warn((\"The least populated class in y has only %d\"\n"
     ]
    },
    {
     "name": "stdout",
     "output_type": "stream",
     "text": [
      "loss:1.803 logits_loss:1.803 probits_acc:0.404 probits_CS1:0.757 probits_CS2:0.923 probits_mae:0.944 probits_rmse:1.369 val_loss:1.914 val_logits_loss:1.914 val_probits_acc:0.397 val_probits_CS1:0.740 val_probits_CS2:0.913 val_probits_mae:0.992 val_probits_rmse:1.440\n",
      "## CV: FOLD 1... \n",
      "loss:1.793 logits_loss:1.793 probits_acc:0.402 probits_CS1:0.758 probits_CS2:0.926 probits_mae:0.941 probits_rmse:1.362 val_loss:1.929 val_logits_loss:1.929 val_probits_acc:0.399 val_probits_CS1:0.732 val_probits_CS2:0.913 val_probits_mae:1.001 val_probits_rmse:1.450\n",
      "## CV: FOLD 2... \n",
      "loss:1.793 logits_loss:1.793 probits_acc:0.408 probits_CS1:0.756 probits_CS2:0.925 probits_mae:0.939 probits_rmse:1.366 val_loss:1.948 val_logits_loss:1.948 val_probits_acc:0.404 val_probits_CS1:0.738 val_probits_CS2:0.908 val_probits_mae:0.994 val_probits_rmse:1.456\n",
      "## CV: FOLD 3... \n",
      "loss:1.782 logits_loss:1.782 probits_acc:0.412 probits_CS1:0.758 probits_CS2:0.927 probits_mae:0.931 probits_rmse:1.359 val_loss:1.923 val_logits_loss:1.923 val_probits_acc:0.402 val_probits_CS1:0.742 val_probits_CS2:0.909 val_probits_mae:0.990 val_probits_rmse:1.448\n",
      "## CV: FOLD 4... \n",
      "loss:1.785 logits_loss:1.785 probits_acc:0.415 probits_CS1:0.758 probits_CS2:0.923 probits_mae:0.931 probits_rmse:1.363 val_loss:1.945 val_logits_loss:1.945 val_probits_acc:0.388 val_probits_CS1:0.738 val_probits_CS2:0.910 val_probits_mae:1.011 val_probits_rmse:1.463\n",
      "\n",
      "### SEARCH: PARAMS {'rank_data': True, 'p': 0.4, 'output_len': 16, 'output_activation': 'sigmoid', 'input_shape': (18, 11), 'hiddens': [32, 32, 32], 'hidden_activation': 'swish', 'epochs': 75, 'batch_size': 32, 'adam_lr': 0.001}\n",
      "## CV: FOLD 0... \n"
     ]
    },
    {
     "name": "stderr",
     "output_type": "stream",
     "text": [
      "/home/cove/Documents/Projects/moon/venv/lib/python3.8/site-packages/sklearn/model_selection/_split.py:670: UserWarning: The least populated class in y has only 1 members, which is less than n_splits=5.\n",
      "  warnings.warn((\"The least populated class in y has only %d\"\n"
     ]
    },
    {
     "name": "stdout",
     "output_type": "stream",
     "text": [
      "loss:1.947 logits_loss:1.947 probits_acc:0.385 probits_CS1:0.730 probits_CS2:0.907 probits_mae:1.018 probits_rmse:1.467 val_loss:1.920 val_logits_loss:1.920 val_probits_acc:0.406 val_probits_CS1:0.737 val_probits_CS2:0.911 val_probits_mae:0.992 val_probits_rmse:1.454\n",
      "## CV: FOLD 1... \n",
      "loss:1.939 logits_loss:1.939 probits_acc:0.385 probits_CS1:0.732 probits_CS2:0.908 probits_mae:1.015 probits_rmse:1.463 val_loss:1.925 val_logits_loss:1.925 val_probits_acc:0.401 val_probits_CS1:0.739 val_probits_CS2:0.911 val_probits_mae:0.992 val_probits_rmse:1.441\n",
      "## CV: FOLD 2... \n",
      "loss:1.944 logits_loss:1.944 probits_acc:0.386 probits_CS1:0.728 probits_CS2:0.906 probits_mae:1.019 probits_rmse:1.468 val_loss:1.939 val_logits_loss:1.939 val_probits_acc:0.395 val_probits_CS1:0.736 val_probits_CS2:0.908 val_probits_mae:1.004 val_probits_rmse:1.457\n",
      "## CV: FOLD 3... \n",
      "loss:1.955 logits_loss:1.955 probits_acc:0.388 probits_CS1:0.728 probits_CS2:0.906 probits_mae:1.021 probits_rmse:1.476 val_loss:1.919 val_logits_loss:1.919 val_probits_acc:0.397 val_probits_CS1:0.739 val_probits_CS2:0.908 val_probits_mae:0.998 val_probits_rmse:1.454\n",
      "## CV: FOLD 4... \n",
      "loss:1.943 logits_loss:1.943 probits_acc:0.391 probits_CS1:0.731 probits_CS2:0.908 probits_mae:1.011 probits_rmse:1.466 val_loss:1.939 val_logits_loss:1.939 val_probits_acc:0.405 val_probits_CS1:0.736 val_probits_CS2:0.905 val_probits_mae:1.002 val_probits_rmse:1.470\n",
      "\n",
      "### SEARCH: PARAMS {'rank_data': True, 'p': 0.4, 'output_len': 16, 'output_activation': 'sigmoid', 'input_shape': (18, 11), 'hiddens': [64, 64, 64], 'hidden_activation': 'swish', 'epochs': 75, 'batch_size': 32, 'adam_lr': 0.001}\n",
      "## CV: FOLD 0... \n"
     ]
    },
    {
     "name": "stderr",
     "output_type": "stream",
     "text": [
      "/home/cove/Documents/Projects/moon/venv/lib/python3.8/site-packages/sklearn/model_selection/_split.py:670: UserWarning: The least populated class in y has only 1 members, which is less than n_splits=5.\n",
      "  warnings.warn((\"The least populated class in y has only %d\"\n"
     ]
    },
    {
     "name": "stdout",
     "output_type": "stream",
     "text": [
      "loss:1.807 logits_loss:1.807 probits_acc:0.400 probits_CS1:0.753 probits_CS2:0.926 probits_mae:0.949 probits_rmse:1.371 val_loss:1.915 val_logits_loss:1.915 val_probits_acc:0.405 val_probits_CS1:0.738 val_probits_CS2:0.914 val_probits_mae:0.986 val_probits_rmse:1.441\n",
      "## CV: FOLD 1... \n",
      "loss:1.814 logits_loss:1.814 probits_acc:0.407 probits_CS1:0.754 probits_CS2:0.926 probits_mae:0.942 probits_rmse:1.374 val_loss:1.938 val_logits_loss:1.938 val_probits_acc:0.402 val_probits_CS1:0.728 val_probits_CS2:0.908 val_probits_mae:1.006 val_probits_rmse:1.460\n",
      "## CV: FOLD 2... \n",
      "loss:1.807 logits_loss:1.807 probits_acc:0.402 probits_CS1:0.752 probits_CS2:0.927 probits_mae:0.947 probits_rmse:1.370 val_loss:1.945 val_logits_loss:1.945 val_probits_acc:0.403 val_probits_CS1:0.742 val_probits_CS2:0.908 val_probits_mae:0.994 val_probits_rmse:1.458\n",
      "## CV: FOLD 3... \n",
      "loss:1.814 logits_loss:1.814 probits_acc:0.402 probits_CS1:0.751 probits_CS2:0.925 probits_mae:0.950 probits_rmse:1.375 val_loss:1.921 val_logits_loss:1.921 val_probits_acc:0.399 val_probits_CS1:0.744 val_probits_CS2:0.909 val_probits_mae:0.993 val_probits_rmse:1.453\n",
      "## CV: FOLD 4... \n",
      "loss:1.802 logits_loss:1.802 probits_acc:0.405 probits_CS1:0.756 probits_CS2:0.927 probits_mae:0.939 probits_rmse:1.366 val_loss:1.933 val_logits_loss:1.933 val_probits_acc:0.396 val_probits_CS1:0.735 val_probits_CS2:0.911 val_probits_mae:1.002 val_probits_rmse:1.456\n",
      "\n",
      "### SEARCH: PARAMS {'rank_data': True, 'p': 0.4, 'output_len': 16, 'output_activation': 'sigmoid', 'input_shape': (18, 11), 'hiddens': [16], 'hidden_activation': 'swish', 'epochs': 30, 'batch_size': 64, 'adam_lr': 0.001}\n",
      "## CV: FOLD 0... \n"
     ]
    },
    {
     "name": "stderr",
     "output_type": "stream",
     "text": [
      "/home/cove/Documents/Projects/moon/venv/lib/python3.8/site-packages/sklearn/model_selection/_split.py:670: UserWarning: The least populated class in y has only 1 members, which is less than n_splits=5.\n",
      "  warnings.warn((\"The least populated class in y has only %d\"\n"
     ]
    },
    {
     "name": "stdout",
     "output_type": "stream",
     "text": [
      "loss:2.132 logits_loss:2.132 probits_acc:0.370 probits_CS1:0.708 probits_CS2:0.887 probits_mae:1.093 probits_rmse:1.584 val_loss:2.046 val_logits_loss:2.046 val_probits_acc:0.392 val_probits_CS1:0.725 val_probits_CS2:0.897 val_probits_mae:1.037 val_probits_rmse:1.518\n",
      "## CV: FOLD 1... \n",
      "loss:2.110 logits_loss:2.110 probits_acc:0.373 probits_CS1:0.711 probits_CS2:0.889 probits_mae:1.083 probits_rmse:1.573 val_loss:2.035 val_logits_loss:2.035 val_probits_acc:0.394 val_probits_CS1:0.726 val_probits_CS2:0.899 val_probits_mae:1.032 val_probits_rmse:1.512\n",
      "## CV: FOLD 2... \n",
      "loss:2.108 logits_loss:2.108 probits_acc:0.371 probits_CS1:0.711 probits_CS2:0.890 probits_mae:1.084 probits_rmse:1.568 val_loss:2.053 val_logits_loss:2.053 val_probits_acc:0.389 val_probits_CS1:0.724 val_probits_CS2:0.897 val_probits_mae:1.040 val_probits_rmse:1.523\n",
      "## CV: FOLD 3... \n",
      "loss:2.107 logits_loss:2.107 probits_acc:0.376 probits_CS1:0.711 probits_CS2:0.891 probits_mae:1.079 probits_rmse:1.568 val_loss:2.036 val_logits_loss:2.036 val_probits_acc:0.385 val_probits_CS1:0.730 val_probits_CS2:0.897 val_probits_mae:1.042 val_probits_rmse:1.522\n",
      "## CV: FOLD 4... \n",
      "loss:2.109 logits_loss:2.109 probits_acc:0.378 probits_CS1:0.710 probits_CS2:0.890 probits_mae:1.077 probits_rmse:1.564 val_loss:2.060 val_logits_loss:2.060 val_probits_acc:0.382 val_probits_CS1:0.718 val_probits_CS2:0.900 val_probits_mae:1.053 val_probits_rmse:1.533\n",
      "\n",
      "### SEARCH: PARAMS {'rank_data': True, 'p': 0.4, 'output_len': 16, 'output_activation': 'sigmoid', 'input_shape': (18, 11), 'hiddens': [32], 'hidden_activation': 'swish', 'epochs': 30, 'batch_size': 64, 'adam_lr': 0.001}\n",
      "## CV: FOLD 0... \n"
     ]
    },
    {
     "name": "stderr",
     "output_type": "stream",
     "text": [
      "/home/cove/Documents/Projects/moon/venv/lib/python3.8/site-packages/sklearn/model_selection/_split.py:670: UserWarning: The least populated class in y has only 1 members, which is less than n_splits=5.\n",
      "  warnings.warn((\"The least populated class in y has only %d\"\n"
     ]
    },
    {
     "name": "stdout",
     "output_type": "stream",
     "text": [
      "loss:2.052 logits_loss:2.052 probits_acc:0.384 probits_CS1:0.722 probits_CS2:0.897 probits_mae:1.047 probits_rmse:1.527 val_loss:2.005 val_logits_loss:2.005 val_probits_acc:0.397 val_probits_CS1:0.730 val_probits_CS2:0.903 val_probits_mae:1.016 val_probits_rmse:1.490\n",
      "## CV: FOLD 1... \n",
      "loss:2.049 logits_loss:2.049 probits_acc:0.389 probits_CS1:0.722 probits_CS2:0.898 probits_mae:1.041 probits_rmse:1.525 val_loss:2.011 val_logits_loss:2.011 val_probits_acc:0.395 val_probits_CS1:0.733 val_probits_CS2:0.904 val_probits_mae:1.015 val_probits_rmse:1.486\n",
      "## CV: FOLD 2... \n",
      "loss:2.052 logits_loss:2.052 probits_acc:0.387 probits_CS1:0.724 probits_CS2:0.898 probits_mae:1.044 probits_rmse:1.531 val_loss:2.020 val_logits_loss:2.020 val_probits_acc:0.392 val_probits_CS1:0.732 val_probits_CS2:0.900 val_probits_mae:1.023 val_probits_rmse:1.499\n",
      "## CV: FOLD 3... \n",
      "loss:2.055 logits_loss:2.055 probits_acc:0.388 probits_CS1:0.720 probits_CS2:0.897 probits_mae:1.045 probits_rmse:1.530 val_loss:2.004 val_logits_loss:2.004 val_probits_acc:0.388 val_probits_CS1:0.738 val_probits_CS2:0.906 val_probits_mae:1.013 val_probits_rmse:1.482\n",
      "## CV: FOLD 4... \n",
      "loss:2.043 logits_loss:2.043 probits_acc:0.384 probits_CS1:0.721 probits_CS2:0.899 probits_mae:1.044 probits_rmse:1.519 val_loss:2.041 val_logits_loss:2.041 val_probits_acc:0.390 val_probits_CS1:0.721 val_probits_CS2:0.898 val_probits_mae:1.043 val_probits_rmse:1.527\n",
      "\n",
      "### SEARCH: PARAMS {'rank_data': True, 'p': 0.4, 'output_len': 16, 'output_activation': 'sigmoid', 'input_shape': (18, 11), 'hiddens': [16, 16], 'hidden_activation': 'swish', 'epochs': 30, 'batch_size': 64, 'adam_lr': 0.001}\n",
      "## CV: FOLD 0... \n"
     ]
    },
    {
     "name": "stderr",
     "output_type": "stream",
     "text": [
      "/home/cove/Documents/Projects/moon/venv/lib/python3.8/site-packages/sklearn/model_selection/_split.py:670: UserWarning: The least populated class in y has only 1 members, which is less than n_splits=5.\n",
      "  warnings.warn((\"The least populated class in y has only %d\"\n"
     ]
    },
    {
     "name": "stdout",
     "output_type": "stream",
     "text": [
      "loss:2.162 logits_loss:2.162 probits_acc:0.370 probits_CS1:0.702 probits_CS2:0.884 probits_mae:1.109 probits_rmse:1.608 val_loss:2.049 val_logits_loss:2.049 val_probits_acc:0.393 val_probits_CS1:0.721 val_probits_CS2:0.896 val_probits_mae:1.040 val_probits_rmse:1.521\n",
      "## CV: FOLD 1... \n",
      "loss:2.169 logits_loss:2.169 probits_acc:0.367 probits_CS1:0.699 probits_CS2:0.880 probits_mae:1.117 probits_rmse:1.614 val_loss:2.045 val_logits_loss:2.045 val_probits_acc:0.397 val_probits_CS1:0.722 val_probits_CS2:0.896 val_probits_mae:1.036 val_probits_rmse:1.520\n",
      "## CV: FOLD 2... \n",
      "loss:2.160 logits_loss:2.160 probits_acc:0.369 probits_CS1:0.701 probits_CS2:0.882 probits_mae:1.110 probits_rmse:1.606 val_loss:2.063 val_logits_loss:2.063 val_probits_acc:0.388 val_probits_CS1:0.719 val_probits_CS2:0.890 val_probits_mae:1.056 val_probits_rmse:1.545\n",
      "## CV: FOLD 3... \n",
      "loss:2.160 logits_loss:2.160 probits_acc:0.370 probits_CS1:0.701 probits_CS2:0.883 probits_mae:1.108 probits_rmse:1.607 val_loss:2.026 val_logits_loss:2.026 val_probits_acc:0.392 val_probits_CS1:0.731 val_probits_CS2:0.902 val_probits_mae:1.025 val_probits_rmse:1.503\n",
      "## CV: FOLD 4... \n",
      "loss:2.151 logits_loss:2.151 probits_acc:0.373 probits_CS1:0.704 probits_CS2:0.883 probits_mae:1.101 probits_rmse:1.599 val_loss:2.054 val_logits_loss:2.054 val_probits_acc:0.393 val_probits_CS1:0.716 val_probits_CS2:0.896 val_probits_mae:1.049 val_probits_rmse:1.538\n",
      "\n",
      "### SEARCH: PARAMS {'rank_data': True, 'p': 0.4, 'output_len': 16, 'output_activation': 'sigmoid', 'input_shape': (18, 11), 'hiddens': [32, 32], 'hidden_activation': 'swish', 'epochs': 30, 'batch_size': 64, 'adam_lr': 0.001}\n",
      "## CV: FOLD 0... \n"
     ]
    },
    {
     "name": "stderr",
     "output_type": "stream",
     "text": [
      "/home/cove/Documents/Projects/moon/venv/lib/python3.8/site-packages/sklearn/model_selection/_split.py:670: UserWarning: The least populated class in y has only 1 members, which is less than n_splits=5.\n",
      "  warnings.warn((\"The least populated class in y has only %d\"\n"
     ]
    },
    {
     "name": "stdout",
     "output_type": "stream",
     "text": [
      "loss:2.077 logits_loss:2.077 probits_acc:0.387 probits_CS1:0.716 probits_CS2:0.892 probits_mae:1.059 probits_rmse:1.552 val_loss:1.999 val_logits_loss:1.999 val_probits_acc:0.399 val_probits_CS1:0.734 val_probits_CS2:0.904 val_probits_mae:1.010 val_probits_rmse:1.485\n",
      "## CV: FOLD 1... \n",
      "loss:2.067 logits_loss:2.067 probits_acc:0.390 probits_CS1:0.718 probits_CS2:0.891 probits_mae:1.054 probits_rmse:1.547 val_loss:2.000 val_logits_loss:2.000 val_probits_acc:0.405 val_probits_CS1:0.731 val_probits_CS2:0.902 val_probits_mae:1.009 val_probits_rmse:1.489\n",
      "## CV: FOLD 2... \n",
      "loss:2.072 logits_loss:2.072 probits_acc:0.388 probits_CS1:0.716 probits_CS2:0.893 probits_mae:1.056 probits_rmse:1.545 val_loss:2.011 val_logits_loss:2.011 val_probits_acc:0.396 val_probits_CS1:0.729 val_probits_CS2:0.898 val_probits_mae:1.023 val_probits_rmse:1.502\n",
      "## CV: FOLD 3... \n",
      "loss:2.076 logits_loss:2.076 probits_acc:0.387 probits_CS1:0.714 probits_CS2:0.893 probits_mae:1.060 probits_rmse:1.550 val_loss:1.995 val_logits_loss:1.995 val_probits_acc:0.392 val_probits_CS1:0.737 val_probits_CS2:0.902 val_probits_mae:1.016 val_probits_rmse:1.490\n",
      "## CV: FOLD 4... \n",
      "loss:2.063 logits_loss:2.063 probits_acc:0.384 probits_CS1:0.718 probits_CS2:0.893 probits_mae:1.057 probits_rmse:1.540 val_loss:2.020 val_logits_loss:2.020 val_probits_acc:0.395 val_probits_CS1:0.727 val_probits_CS2:0.901 val_probits_mae:1.028 val_probits_rmse:1.512\n",
      "\n",
      "### SEARCH: PARAMS {'rank_data': True, 'p': 0.4, 'output_len': 16, 'output_activation': 'sigmoid', 'input_shape': (18, 11), 'hiddens': [64, 64], 'hidden_activation': 'swish', 'epochs': 30, 'batch_size': 64, 'adam_lr': 0.001}\n",
      "## CV: FOLD 0... \n"
     ]
    },
    {
     "name": "stderr",
     "output_type": "stream",
     "text": [
      "/home/cove/Documents/Projects/moon/venv/lib/python3.8/site-packages/sklearn/model_selection/_split.py:670: UserWarning: The least populated class in y has only 1 members, which is less than n_splits=5.\n",
      "  warnings.warn((\"The least populated class in y has only %d\"\n"
     ]
    },
    {
     "name": "stdout",
     "output_type": "stream",
     "text": [
      "loss:2.003 logits_loss:2.003 probits_acc:0.392 probits_CS1:0.730 probits_CS2:0.901 probits_mae:1.022 probits_rmse:1.498 val_loss:1.976 val_logits_loss:1.976 val_probits_acc:0.401 val_probits_CS1:0.736 val_probits_CS2:0.907 val_probits_mae:0.999 val_probits_rmse:1.467\n",
      "## CV: FOLD 1... \n",
      "loss:1.995 logits_loss:1.995 probits_acc:0.397 probits_CS1:0.730 probits_CS2:0.903 probits_mae:1.014 probits_rmse:1.489 val_loss:1.971 val_logits_loss:1.971 val_probits_acc:0.408 val_probits_CS1:0.732 val_probits_CS2:0.908 val_probits_mae:0.996 val_probits_rmse:1.470\n",
      "## CV: FOLD 2... \n",
      "loss:1.999 logits_loss:1.999 probits_acc:0.395 probits_CS1:0.732 probits_CS2:0.904 probits_mae:1.015 probits_rmse:1.494 val_loss:1.981 val_logits_loss:1.981 val_probits_acc:0.401 val_probits_CS1:0.734 val_probits_CS2:0.901 val_probits_mae:1.007 val_probits_rmse:1.484\n",
      "## CV: FOLD 3... \n",
      "loss:2.010 logits_loss:2.010 probits_acc:0.393 probits_CS1:0.732 probits_CS2:0.902 probits_mae:1.021 probits_rmse:1.500 val_loss:1.969 val_logits_loss:1.969 val_probits_acc:0.393 val_probits_CS1:0.737 val_probits_CS2:0.902 val_probits_mae:1.014 val_probits_rmse:1.488\n",
      "## CV: FOLD 4... \n",
      "loss:1.999 logits_loss:1.999 probits_acc:0.397 probits_CS1:0.727 probits_CS2:0.904 probits_mae:1.017 probits_rmse:1.495 val_loss:1.999 val_logits_loss:1.999 val_probits_acc:0.396 val_probits_CS1:0.728 val_probits_CS2:0.906 val_probits_mae:1.020 val_probits_rmse:1.499\n",
      "\n",
      "### SEARCH: PARAMS {'rank_data': True, 'p': 0.4, 'output_len': 16, 'output_activation': 'sigmoid', 'input_shape': (18, 11), 'hiddens': [32, 32, 32], 'hidden_activation': 'swish', 'epochs': 30, 'batch_size': 64, 'adam_lr': 0.001}\n",
      "## CV: FOLD 0... \n"
     ]
    },
    {
     "name": "stderr",
     "output_type": "stream",
     "text": [
      "/home/cove/Documents/Projects/moon/venv/lib/python3.8/site-packages/sklearn/model_selection/_split.py:670: UserWarning: The least populated class in y has only 1 members, which is less than n_splits=5.\n",
      "  warnings.warn((\"The least populated class in y has only %d\"\n"
     ]
    },
    {
     "name": "stdout",
     "output_type": "stream",
     "text": [
      "loss:2.092 logits_loss:2.092 probits_acc:0.384 probits_CS1:0.710 probits_CS2:0.890 probits_mae:1.071 probits_rmse:1.564 val_loss:2.020 val_logits_loss:2.020 val_probits_acc:0.400 val_probits_CS1:0.719 val_probits_CS2:0.896 val_probits_mae:1.036 val_probits_rmse:1.521\n",
      "## CV: FOLD 1... \n",
      "loss:2.088 logits_loss:2.088 probits_acc:0.383 probits_CS1:0.711 probits_CS2:0.891 probits_mae:1.070 probits_rmse:1.560 val_loss:2.005 val_logits_loss:2.005 val_probits_acc:0.403 val_probits_CS1:0.726 val_probits_CS2:0.899 val_probits_mae:1.019 val_probits_rmse:1.500\n",
      "## CV: FOLD 2... \n",
      "loss:2.083 logits_loss:2.083 probits_acc:0.387 probits_CS1:0.715 probits_CS2:0.891 probits_mae:1.061 probits_rmse:1.554 val_loss:2.017 val_logits_loss:2.017 val_probits_acc:0.398 val_probits_CS1:0.729 val_probits_CS2:0.897 val_probits_mae:1.023 val_probits_rmse:1.505\n",
      "## CV: FOLD 3... \n",
      "loss:2.091 logits_loss:2.091 probits_acc:0.386 probits_CS1:0.711 probits_CS2:0.887 probits_mae:1.070 probits_rmse:1.565 val_loss:1.999 val_logits_loss:1.999 val_probits_acc:0.399 val_probits_CS1:0.728 val_probits_CS2:0.899 val_probits_mae:1.023 val_probits_rmse:1.505\n",
      "## CV: FOLD 4... \n",
      "loss:2.088 logits_loss:2.088 probits_acc:0.385 probits_CS1:0.710 probits_CS2:0.891 probits_mae:1.069 probits_rmse:1.560 val_loss:2.026 val_logits_loss:2.026 val_probits_acc:0.398 val_probits_CS1:0.720 val_probits_CS2:0.894 val_probits_mae:1.041 val_probits_rmse:1.533\n",
      "\n",
      "### SEARCH: PARAMS {'rank_data': True, 'p': 0.4, 'output_len': 16, 'output_activation': 'sigmoid', 'input_shape': (18, 11), 'hiddens': [64, 64, 64], 'hidden_activation': 'swish', 'epochs': 30, 'batch_size': 64, 'adam_lr': 0.001}\n",
      "## CV: FOLD 0... \n"
     ]
    },
    {
     "name": "stderr",
     "output_type": "stream",
     "text": [
      "/home/cove/Documents/Projects/moon/venv/lib/python3.8/site-packages/sklearn/model_selection/_split.py:670: UserWarning: The least populated class in y has only 1 members, which is less than n_splits=5.\n",
      "  warnings.warn((\"The least populated class in y has only %d\"\n"
     ]
    },
    {
     "name": "stdout",
     "output_type": "stream",
     "text": [
      "loss:2.019 logits_loss:2.019 probits_acc:0.390 probits_CS1:0.724 probits_CS2:0.901 probits_mae:1.032 probits_rmse:1.509 val_loss:1.976 val_logits_loss:1.976 val_probits_acc:0.400 val_probits_CS1:0.733 val_probits_CS2:0.911 val_probits_mae:1.001 val_probits_rmse:1.468\n",
      "## CV: FOLD 1... \n",
      "loss:2.019 logits_loss:2.019 probits_acc:0.394 probits_CS1:0.725 probits_CS2:0.899 probits_mae:1.028 probits_rmse:1.509 val_loss:1.980 val_logits_loss:1.980 val_probits_acc:0.406 val_probits_CS1:0.731 val_probits_CS2:0.905 val_probits_mae:1.005 val_probits_rmse:1.484\n",
      "## CV: FOLD 2... \n",
      "loss:2.013 logits_loss:2.013 probits_acc:0.392 probits_CS1:0.725 probits_CS2:0.901 probits_mae:1.027 probits_rmse:1.503 val_loss:1.993 val_logits_loss:1.993 val_probits_acc:0.400 val_probits_CS1:0.727 val_probits_CS2:0.898 val_probits_mae:1.021 val_probits_rmse:1.501\n",
      "## CV: FOLD 3... \n",
      "loss:2.023 logits_loss:2.023 probits_acc:0.399 probits_CS1:0.722 probits_CS2:0.899 probits_mae:1.027 probits_rmse:1.513 val_loss:1.976 val_logits_loss:1.976 val_probits_acc:0.400 val_probits_CS1:0.738 val_probits_CS2:0.903 val_probits_mae:1.005 val_probits_rmse:1.482\n",
      "## CV: FOLD 4... \n",
      "loss:2.015 logits_loss:2.015 probits_acc:0.395 probits_CS1:0.724 probits_CS2:0.899 probits_mae:1.028 probits_rmse:1.507 val_loss:1.996 val_logits_loss:1.996 val_probits_acc:0.395 val_probits_CS1:0.729 val_probits_CS2:0.903 val_probits_mae:1.021 val_probits_rmse:1.499\n",
      "\n",
      "### SEARCH: PARAMS {'rank_data': True, 'p': 0.4, 'output_len': 16, 'output_activation': 'sigmoid', 'input_shape': (18, 11), 'hiddens': [16], 'hidden_activation': 'swish', 'epochs': 50, 'batch_size': 64, 'adam_lr': 0.001}\n",
      "## CV: FOLD 0... \n"
     ]
    },
    {
     "name": "stderr",
     "output_type": "stream",
     "text": [
      "/home/cove/Documents/Projects/moon/venv/lib/python3.8/site-packages/sklearn/model_selection/_split.py:670: UserWarning: The least populated class in y has only 1 members, which is less than n_splits=5.\n",
      "  warnings.warn((\"The least populated class in y has only %d\"\n"
     ]
    },
    {
     "name": "stdout",
     "output_type": "stream",
     "text": [
      "loss:2.055 logits_loss:2.055 probits_acc:0.378 probits_CS1:0.714 probits_CS2:0.893 probits_mae:1.070 probits_rmse:1.558 val_loss:1.974 val_logits_loss:1.974 val_probits_acc:0.390 val_probits_CS1:0.728 val_probits_CS2:0.904 val_probits_mae:1.026 val_probits_rmse:1.495\n",
      "## CV: FOLD 1... \n",
      "loss:2.044 logits_loss:2.044 probits_acc:0.381 probits_CS1:0.715 probits_CS2:0.894 probits_mae:1.064 probits_rmse:1.548 val_loss:1.971 val_logits_loss:1.971 val_probits_acc:0.394 val_probits_CS1:0.729 val_probits_CS2:0.906 val_probits_mae:1.017 val_probits_rmse:1.488\n",
      "## CV: FOLD 2... \n",
      "loss:2.048 logits_loss:2.048 probits_acc:0.377 probits_CS1:0.715 probits_CS2:0.895 probits_mae:1.066 probits_rmse:1.550 val_loss:1.994 val_logits_loss:1.994 val_probits_acc:0.392 val_probits_CS1:0.724 val_probits_CS2:0.897 val_probits_mae:1.035 val_probits_rmse:1.517\n",
      "## CV: FOLD 3... \n",
      "loss:2.052 logits_loss:2.052 probits_acc:0.380 probits_CS1:0.714 probits_CS2:0.893 probits_mae:1.065 probits_rmse:1.551 val_loss:1.966 val_logits_loss:1.966 val_probits_acc:0.393 val_probits_CS1:0.735 val_probits_CS2:0.901 val_probits_mae:1.019 val_probits_rmse:1.496\n",
      "## CV: FOLD 4... \n",
      "loss:2.035 logits_loss:2.035 probits_acc:0.381 probits_CS1:0.714 probits_CS2:0.894 probits_mae:1.063 probits_rmse:1.545 val_loss:2.005 val_logits_loss:2.005 val_probits_acc:0.390 val_probits_CS1:0.724 val_probits_CS2:0.901 val_probits_mae:1.037 val_probits_rmse:1.520\n",
      "\n",
      "### SEARCH: PARAMS {'rank_data': True, 'p': 0.4, 'output_len': 16, 'output_activation': 'sigmoid', 'input_shape': (18, 11), 'hiddens': [32], 'hidden_activation': 'swish', 'epochs': 50, 'batch_size': 64, 'adam_lr': 0.001}\n",
      "## CV: FOLD 0... \n"
     ]
    },
    {
     "name": "stderr",
     "output_type": "stream",
     "text": [
      "/home/cove/Documents/Projects/moon/venv/lib/python3.8/site-packages/sklearn/model_selection/_split.py:670: UserWarning: The least populated class in y has only 1 members, which is less than n_splits=5.\n",
      "  warnings.warn((\"The least populated class in y has only %d\"\n"
     ]
    },
    {
     "name": "stdout",
     "output_type": "stream",
     "text": [
      "loss:1.966 logits_loss:1.966 probits_acc:0.393 probits_CS1:0.726 probits_CS2:0.904 probits_mae:1.022 probits_rmse:1.497 val_loss:1.933 val_logits_loss:1.933 val_probits_acc:0.397 val_probits_CS1:0.737 val_probits_CS2:0.907 val_probits_mae:1.000 val_probits_rmse:1.464\n",
      "## CV: FOLD 1... \n",
      "loss:1.977 logits_loss:1.977 probits_acc:0.391 probits_CS1:0.727 probits_CS2:0.901 probits_mae:1.029 probits_rmse:1.508 val_loss:1.943 val_logits_loss:1.943 val_probits_acc:0.402 val_probits_CS1:0.733 val_probits_CS2:0.908 val_probits_mae:1.001 val_probits_rmse:1.470\n",
      "## CV: FOLD 2... \n",
      "loss:1.950 logits_loss:1.950 probits_acc:0.393 probits_CS1:0.731 probits_CS2:0.906 probits_mae:1.014 probits_rmse:1.485 val_loss:1.954 val_logits_loss:1.954 val_probits_acc:0.394 val_probits_CS1:0.735 val_probits_CS2:0.900 val_probits_mae:1.016 val_probits_rmse:1.489\n",
      "## CV: FOLD 3... \n",
      "loss:1.964 logits_loss:1.964 probits_acc:0.391 probits_CS1:0.731 probits_CS2:0.903 probits_mae:1.018 probits_rmse:1.489 val_loss:1.931 val_logits_loss:1.931 val_probits_acc:0.399 val_probits_CS1:0.739 val_probits_CS2:0.907 val_probits_mae:1.000 val_probits_rmse:1.471\n",
      "## CV: FOLD 4... \n",
      "loss:1.952 logits_loss:1.952 probits_acc:0.393 probits_CS1:0.729 probits_CS2:0.904 probits_mae:1.018 probits_rmse:1.488 val_loss:1.969 val_logits_loss:1.969 val_probits_acc:0.392 val_probits_CS1:0.729 val_probits_CS2:0.907 val_probits_mae:1.020 val_probits_rmse:1.495\n",
      "\n",
      "### SEARCH: PARAMS {'rank_data': True, 'p': 0.4, 'output_len': 16, 'output_activation': 'sigmoid', 'input_shape': (18, 11), 'hiddens': [16, 16], 'hidden_activation': 'swish', 'epochs': 50, 'batch_size': 64, 'adam_lr': 0.001}\n",
      "## CV: FOLD 0... \n"
     ]
    },
    {
     "name": "stderr",
     "output_type": "stream",
     "text": [
      "/home/cove/Documents/Projects/moon/venv/lib/python3.8/site-packages/sklearn/model_selection/_split.py:670: UserWarning: The least populated class in y has only 1 members, which is less than n_splits=5.\n",
      "  warnings.warn((\"The least populated class in y has only %d\"\n"
     ]
    },
    {
     "name": "stdout",
     "output_type": "stream",
     "text": [
      "loss:2.078 logits_loss:2.078 probits_acc:0.373 probits_CS1:0.708 probits_CS2:0.889 probits_mae:1.085 probits_rmse:1.569 val_loss:1.969 val_logits_loss:1.969 val_probits_acc:0.399 val_probits_CS1:0.724 val_probits_CS2:0.902 val_probits_mae:1.023 val_probits_rmse:1.501\n",
      "## CV: FOLD 1... \n",
      "loss:2.083 logits_loss:2.083 probits_acc:0.374 probits_CS1:0.705 probits_CS2:0.887 probits_mae:1.090 probits_rmse:1.581 val_loss:1.971 val_logits_loss:1.971 val_probits_acc:0.396 val_probits_CS1:0.726 val_probits_CS2:0.904 val_probits_mae:1.019 val_probits_rmse:1.490\n",
      "## CV: FOLD 2... \n",
      "loss:2.084 logits_loss:2.084 probits_acc:0.377 probits_CS1:0.706 probits_CS2:0.889 probits_mae:1.085 probits_rmse:1.576 val_loss:1.989 val_logits_loss:1.989 val_probits_acc:0.395 val_probits_CS1:0.730 val_probits_CS2:0.899 val_probits_mae:1.024 val_probits_rmse:1.504\n",
      "## CV: FOLD 3... \n",
      "loss:2.086 logits_loss:2.086 probits_acc:0.373 probits_CS1:0.705 probits_CS2:0.887 probits_mae:1.090 probits_rmse:1.577 val_loss:1.963 val_logits_loss:1.963 val_probits_acc:0.396 val_probits_CS1:0.734 val_probits_CS2:0.900 val_probits_mae:1.020 val_probits_rmse:1.503\n",
      "## CV: FOLD 4... \n",
      "loss:2.086 logits_loss:2.086 probits_acc:0.375 probits_CS1:0.708 probits_CS2:0.888 probits_mae:1.086 probits_rmse:1.575 val_loss:1.998 val_logits_loss:1.998 val_probits_acc:0.393 val_probits_CS1:0.720 val_probits_CS2:0.897 val_probits_mae:1.040 val_probits_rmse:1.525\n",
      "\n",
      "### SEARCH: PARAMS {'rank_data': True, 'p': 0.4, 'output_len': 16, 'output_activation': 'sigmoid', 'input_shape': (18, 11), 'hiddens': [32, 32], 'hidden_activation': 'swish', 'epochs': 50, 'batch_size': 64, 'adam_lr': 0.001}\n",
      "## CV: FOLD 0... \n"
     ]
    },
    {
     "name": "stderr",
     "output_type": "stream",
     "text": [
      "/home/cove/Documents/Projects/moon/venv/lib/python3.8/site-packages/sklearn/model_selection/_split.py:670: UserWarning: The least populated class in y has only 1 members, which is less than n_splits=5.\n",
      "  warnings.warn((\"The least populated class in y has only %d\"\n"
     ]
    },
    {
     "name": "stdout",
     "output_type": "stream",
     "text": [
      "loss:1.981 logits_loss:1.981 probits_acc:0.390 probits_CS1:0.725 probits_CS2:0.901 probits_mae:1.031 probits_rmse:1.509 val_loss:1.936 val_logits_loss:1.936 val_probits_acc:0.400 val_probits_CS1:0.734 val_probits_CS2:0.907 val_probits_mae:1.002 val_probits_rmse:1.469\n",
      "## CV: FOLD 1... \n",
      "loss:1.990 logits_loss:1.990 probits_acc:0.391 probits_CS1:0.722 probits_CS2:0.900 probits_mae:1.032 probits_rmse:1.509 val_loss:1.942 val_logits_loss:1.942 val_probits_acc:0.405 val_probits_CS1:0.731 val_probits_CS2:0.906 val_probits_mae:1.004 val_probits_rmse:1.477\n",
      "## CV: FOLD 2... \n",
      "loss:1.990 logits_loss:1.990 probits_acc:0.386 probits_CS1:0.723 probits_CS2:0.899 probits_mae:1.040 probits_rmse:1.517 val_loss:1.959 val_logits_loss:1.959 val_probits_acc:0.394 val_probits_CS1:0.730 val_probits_CS2:0.899 val_probits_mae:1.020 val_probits_rmse:1.493\n",
      "## CV: FOLD 3... \n",
      "loss:1.990 logits_loss:1.990 probits_acc:0.395 probits_CS1:0.721 probits_CS2:0.900 probits_mae:1.031 probits_rmse:1.511 val_loss:1.941 val_logits_loss:1.941 val_probits_acc:0.396 val_probits_CS1:0.737 val_probits_CS2:0.902 val_probits_mae:1.013 val_probits_rmse:1.491\n",
      "## CV: FOLD 4... \n",
      "loss:1.989 logits_loss:1.989 probits_acc:0.391 probits_CS1:0.724 probits_CS2:0.899 probits_mae:1.033 probits_rmse:1.511 val_loss:1.946 val_logits_loss:1.946 val_probits_acc:0.402 val_probits_CS1:0.734 val_probits_CS2:0.906 val_probits_mae:1.007 val_probits_rmse:1.488\n",
      "\n",
      "### SEARCH: PARAMS {'rank_data': True, 'p': 0.4, 'output_len': 16, 'output_activation': 'sigmoid', 'input_shape': (18, 11), 'hiddens': [64, 64], 'hidden_activation': 'swish', 'epochs': 50, 'batch_size': 64, 'adam_lr': 0.001}\n",
      "## CV: FOLD 0... \n"
     ]
    },
    {
     "name": "stderr",
     "output_type": "stream",
     "text": [
      "/home/cove/Documents/Projects/moon/venv/lib/python3.8/site-packages/sklearn/model_selection/_split.py:670: UserWarning: The least populated class in y has only 1 members, which is less than n_splits=5.\n",
      "  warnings.warn((\"The least populated class in y has only %d\"\n"
     ]
    },
    {
     "name": "stdout",
     "output_type": "stream",
     "text": [
      "loss:1.894 logits_loss:1.894 probits_acc:0.398 probits_CS1:0.739 probits_CS2:0.911 probits_mae:0.990 probits_rmse:1.450 val_loss:1.906 val_logits_loss:1.906 val_probits_acc:0.398 val_probits_CS1:0.743 val_probits_CS2:0.914 val_probits_mae:0.986 val_probits_rmse:1.444\n",
      "## CV: FOLD 1... \n",
      "loss:1.897 logits_loss:1.897 probits_acc:0.401 probits_CS1:0.736 probits_CS2:0.910 probits_mae:0.990 probits_rmse:1.453 val_loss:1.913 val_logits_loss:1.913 val_probits_acc:0.408 val_probits_CS1:0.734 val_probits_CS2:0.912 val_probits_mae:0.988 val_probits_rmse:1.457\n",
      "## CV: FOLD 2... \n",
      "loss:1.897 logits_loss:1.897 probits_acc:0.402 probits_CS1:0.737 probits_CS2:0.911 probits_mae:0.988 probits_rmse:1.452 val_loss:1.928 val_logits_loss:1.928 val_probits_acc:0.401 val_probits_CS1:0.735 val_probits_CS2:0.910 val_probits_mae:0.996 val_probits_rmse:1.463\n",
      "## CV: FOLD 3... \n",
      "loss:1.892 logits_loss:1.892 probits_acc:0.397 probits_CS1:0.740 probits_CS2:0.913 probits_mae:0.988 probits_rmse:1.446 val_loss:1.901 val_logits_loss:1.901 val_probits_acc:0.399 val_probits_CS1:0.742 val_probits_CS2:0.909 val_probits_mae:0.992 val_probits_rmse:1.458\n",
      "## CV: FOLD 4... \n",
      "loss:1.891 logits_loss:1.891 probits_acc:0.402 probits_CS1:0.741 probits_CS2:0.911 probits_mae:0.982 probits_rmse:1.443 val_loss:1.935 val_logits_loss:1.935 val_probits_acc:0.394 val_probits_CS1:0.740 val_probits_CS2:0.909 val_probits_mae:1.002 val_probits_rmse:1.473\n",
      "\n",
      "### SEARCH: PARAMS {'rank_data': True, 'p': 0.4, 'output_len': 16, 'output_activation': 'sigmoid', 'input_shape': (18, 11), 'hiddens': [32, 32, 32], 'hidden_activation': 'swish', 'epochs': 50, 'batch_size': 64, 'adam_lr': 0.001}\n",
      "## CV: FOLD 0... \n"
     ]
    },
    {
     "name": "stderr",
     "output_type": "stream",
     "text": [
      "/home/cove/Documents/Projects/moon/venv/lib/python3.8/site-packages/sklearn/model_selection/_split.py:670: UserWarning: The least populated class in y has only 1 members, which is less than n_splits=5.\n",
      "  warnings.warn((\"The least populated class in y has only %d\"\n"
     ]
    },
    {
     "name": "stdout",
     "output_type": "stream",
     "text": [
      "loss:2.013 logits_loss:2.013 probits_acc:0.384 probits_CS1:0.720 probits_CS2:0.898 probits_mae:1.047 probits_rmse:1.526 val_loss:1.942 val_logits_loss:1.942 val_probits_acc:0.402 val_probits_CS1:0.730 val_probits_CS2:0.904 val_probits_mae:1.011 val_probits_rmse:1.489\n",
      "## CV: FOLD 1... \n",
      "loss:2.011 logits_loss:2.011 probits_acc:0.386 probits_CS1:0.723 probits_CS2:0.897 probits_mae:1.043 probits_rmse:1.524 val_loss:1.942 val_logits_loss:1.942 val_probits_acc:0.405 val_probits_CS1:0.733 val_probits_CS2:0.906 val_probits_mae:1.002 val_probits_rmse:1.479\n",
      "## CV: FOLD 2... \n",
      "loss:2.010 logits_loss:2.010 probits_acc:0.390 probits_CS1:0.722 probits_CS2:0.897 probits_mae:1.040 probits_rmse:1.522 val_loss:1.948 val_logits_loss:1.948 val_probits_acc:0.404 val_probits_CS1:0.732 val_probits_CS2:0.901 val_probits_mae:1.009 val_probits_rmse:1.491\n",
      "## CV: FOLD 3... \n",
      "loss:2.026 logits_loss:2.026 probits_acc:0.387 probits_CS1:0.722 probits_CS2:0.895 probits_mae:1.047 probits_rmse:1.533 val_loss:1.937 val_logits_loss:1.937 val_probits_acc:0.401 val_probits_CS1:0.738 val_probits_CS2:0.906 val_probits_mae:1.000 val_probits_rmse:1.473\n",
      "## CV: FOLD 4... \n",
      "loss:2.015 logits_loss:2.015 probits_acc:0.385 probits_CS1:0.716 probits_CS2:0.897 probits_mae:1.052 probits_rmse:1.530 val_loss:1.963 val_logits_loss:1.963 val_probits_acc:0.399 val_probits_CS1:0.728 val_probits_CS2:0.902 val_probits_mae:1.020 val_probits_rmse:1.503\n",
      "\n",
      "### SEARCH: PARAMS {'rank_data': True, 'p': 0.4, 'output_len': 16, 'output_activation': 'sigmoid', 'input_shape': (18, 11), 'hiddens': [64, 64, 64], 'hidden_activation': 'swish', 'epochs': 50, 'batch_size': 64, 'adam_lr': 0.001}\n",
      "## CV: FOLD 0... \n"
     ]
    },
    {
     "name": "stderr",
     "output_type": "stream",
     "text": [
      "/home/cove/Documents/Projects/moon/venv/lib/python3.8/site-packages/sklearn/model_selection/_split.py:670: UserWarning: The least populated class in y has only 1 members, which is less than n_splits=5.\n",
      "  warnings.warn((\"The least populated class in y has only %d\"\n"
     ]
    },
    {
     "name": "stdout",
     "output_type": "stream",
     "text": [
      "loss:1.910 logits_loss:1.910 probits_acc:0.395 probits_CS1:0.739 probits_CS2:0.912 probits_mae:0.994 probits_rmse:1.456 val_loss:1.913 val_logits_loss:1.913 val_probits_acc:0.405 val_probits_CS1:0.736 val_probits_CS2:0.909 val_probits_mae:0.992 val_probits_rmse:1.461\n",
      "## CV: FOLD 1... \n",
      "loss:1.918 logits_loss:1.918 probits_acc:0.402 probits_CS1:0.736 probits_CS2:0.910 probits_mae:0.992 probits_rmse:1.461 val_loss:1.918 val_logits_loss:1.918 val_probits_acc:0.405 val_probits_CS1:0.733 val_probits_CS2:0.910 val_probits_mae:0.996 val_probits_rmse:1.466\n",
      "## CV: FOLD 2... \n",
      "loss:1.908 logits_loss:1.908 probits_acc:0.397 probits_CS1:0.734 probits_CS2:0.909 probits_mae:0.997 probits_rmse:1.458 val_loss:1.937 val_logits_loss:1.937 val_probits_acc:0.401 val_probits_CS1:0.737 val_probits_CS2:0.911 val_probits_mae:0.992 val_probits_rmse:1.462\n",
      "## CV: FOLD 3... \n",
      "loss:1.917 logits_loss:1.917 probits_acc:0.397 probits_CS1:0.736 probits_CS2:0.909 probits_mae:0.996 probits_rmse:1.460 val_loss:1.913 val_logits_loss:1.913 val_probits_acc:0.406 val_probits_CS1:0.746 val_probits_CS2:0.908 val_probits_mae:0.986 val_probits_rmse:1.464\n",
      "## CV: FOLD 4... \n",
      "loss:1.919 logits_loss:1.919 probits_acc:0.402 probits_CS1:0.736 probits_CS2:0.911 probits_mae:0.991 probits_rmse:1.458 val_loss:1.938 val_logits_loss:1.938 val_probits_acc:0.396 val_probits_CS1:0.733 val_probits_CS2:0.906 val_probits_mae:1.011 val_probits_rmse:1.487\n",
      "\n",
      "### SEARCH: PARAMS {'rank_data': True, 'p': 0.4, 'output_len': 16, 'output_activation': 'sigmoid', 'input_shape': (18, 11), 'hiddens': [16], 'hidden_activation': 'swish', 'epochs': 75, 'batch_size': 64, 'adam_lr': 0.001}\n",
      "## CV: FOLD 0... \n"
     ]
    },
    {
     "name": "stderr",
     "output_type": "stream",
     "text": [
      "/home/cove/Documents/Projects/moon/venv/lib/python3.8/site-packages/sklearn/model_selection/_split.py:670: UserWarning: The least populated class in y has only 1 members, which is less than n_splits=5.\n",
      "  warnings.warn((\"The least populated class in y has only %d\"\n"
     ]
    },
    {
     "name": "stdout",
     "output_type": "stream",
     "text": [
      "loss:2.031 logits_loss:2.031 probits_acc:0.378 probits_CS1:0.716 probits_CS2:0.896 probits_mae:1.060 probits_rmse:1.539 val_loss:1.956 val_logits_loss:1.956 val_probits_acc:0.395 val_probits_CS1:0.733 val_probits_CS2:0.904 val_probits_mae:1.013 val_probits_rmse:1.484\n",
      "## CV: FOLD 1... \n",
      "loss:2.024 logits_loss:2.024 probits_acc:0.384 probits_CS1:0.716 probits_CS2:0.896 probits_mae:1.054 probits_rmse:1.537 val_loss:1.961 val_logits_loss:1.961 val_probits_acc:0.394 val_probits_CS1:0.732 val_probits_CS2:0.905 val_probits_mae:1.016 val_probits_rmse:1.487\n",
      "## CV: FOLD 2... \n",
      "loss:2.008 logits_loss:2.008 probits_acc:0.382 probits_CS1:0.720 probits_CS2:0.899 probits_mae:1.047 probits_rmse:1.523 val_loss:1.965 val_logits_loss:1.965 val_probits_acc:0.394 val_probits_CS1:0.730 val_probits_CS2:0.899 val_probits_mae:1.020 val_probits_rmse:1.497\n",
      "## CV: FOLD 3... \n",
      "loss:2.026 logits_loss:2.026 probits_acc:0.383 probits_CS1:0.717 probits_CS2:0.897 probits_mae:1.052 probits_rmse:1.532 val_loss:1.954 val_logits_loss:1.954 val_probits_acc:0.394 val_probits_CS1:0.736 val_probits_CS2:0.903 val_probits_mae:1.016 val_probits_rmse:1.496\n",
      "## CV: FOLD 4... \n",
      "loss:2.007 logits_loss:2.007 probits_acc:0.383 probits_CS1:0.719 probits_CS2:0.900 probits_mae:1.048 probits_rmse:1.525 val_loss:1.990 val_logits_loss:1.990 val_probits_acc:0.389 val_probits_CS1:0.724 val_probits_CS2:0.902 val_probits_mae:1.034 val_probits_rmse:1.512\n",
      "\n",
      "### SEARCH: PARAMS {'rank_data': True, 'p': 0.4, 'output_len': 16, 'output_activation': 'sigmoid', 'input_shape': (18, 11), 'hiddens': [32], 'hidden_activation': 'swish', 'epochs': 75, 'batch_size': 64, 'adam_lr': 0.001}\n",
      "## CV: FOLD 0... \n"
     ]
    },
    {
     "name": "stderr",
     "output_type": "stream",
     "text": [
      "/home/cove/Documents/Projects/moon/venv/lib/python3.8/site-packages/sklearn/model_selection/_split.py:670: UserWarning: The least populated class in y has only 1 members, which is less than n_splits=5.\n",
      "  warnings.warn((\"The least populated class in y has only %d\"\n"
     ]
    },
    {
     "name": "stdout",
     "output_type": "stream",
     "text": [
      "loss:1.921 logits_loss:1.921 probits_acc:0.393 probits_CS1:0.734 probits_CS2:0.907 probits_mae:1.005 probits_rmse:1.467 val_loss:1.920 val_logits_loss:1.920 val_probits_acc:0.404 val_probits_CS1:0.740 val_probits_CS2:0.904 val_probits_mae:0.995 val_probits_rmse:1.466\n",
      "## CV: FOLD 1... \n",
      "loss:1.925 logits_loss:1.925 probits_acc:0.391 probits_CS1:0.734 probits_CS2:0.908 probits_mae:1.006 probits_rmse:1.466 val_loss:1.925 val_logits_loss:1.925 val_probits_acc:0.401 val_probits_CS1:0.733 val_probits_CS2:0.907 val_probits_mae:1.001 val_probits_rmse:1.468\n",
      "## CV: FOLD 2... \n",
      "loss:1.933 logits_loss:1.933 probits_acc:0.392 probits_CS1:0.732 probits_CS2:0.908 probits_mae:1.009 probits_rmse:1.474 val_loss:1.947 val_logits_loss:1.947 val_probits_acc:0.402 val_probits_CS1:0.737 val_probits_CS2:0.904 val_probits_mae:1.002 val_probits_rmse:1.480\n",
      "## CV: FOLD 3... \n",
      "loss:1.923 logits_loss:1.923 probits_acc:0.394 probits_CS1:0.735 probits_CS2:0.908 probits_mae:1.003 probits_rmse:1.468 val_loss:1.923 val_logits_loss:1.923 val_probits_acc:0.395 val_probits_CS1:0.735 val_probits_CS2:0.907 val_probits_mae:1.006 val_probits_rmse:1.474\n",
      "## CV: FOLD 4... \n",
      "loss:1.924 logits_loss:1.924 probits_acc:0.396 probits_CS1:0.734 probits_CS2:0.910 probits_mae:1.001 probits_rmse:1.466 val_loss:1.960 val_logits_loss:1.960 val_probits_acc:0.392 val_probits_CS1:0.733 val_probits_CS2:0.907 val_probits_mae:1.015 val_probits_rmse:1.489\n",
      "\n",
      "### SEARCH: PARAMS {'rank_data': True, 'p': 0.4, 'output_len': 16, 'output_activation': 'sigmoid', 'input_shape': (18, 11), 'hiddens': [16, 16], 'hidden_activation': 'swish', 'epochs': 75, 'batch_size': 64, 'adam_lr': 0.001}\n",
      "## CV: FOLD 0... \n"
     ]
    },
    {
     "name": "stderr",
     "output_type": "stream",
     "text": [
      "/home/cove/Documents/Projects/moon/venv/lib/python3.8/site-packages/sklearn/model_selection/_split.py:670: UserWarning: The least populated class in y has only 1 members, which is less than n_splits=5.\n",
      "  warnings.warn((\"The least populated class in y has only %d\"\n"
     ]
    },
    {
     "name": "stdout",
     "output_type": "stream",
     "text": [
      "loss:2.067 logits_loss:2.067 probits_acc:0.378 probits_CS1:0.709 probits_CS2:0.890 probits_mae:1.078 probits_rmse:1.567 val_loss:1.955 val_logits_loss:1.955 val_probits_acc:0.403 val_probits_CS1:0.730 val_probits_CS2:0.904 val_probits_mae:1.008 val_probits_rmse:1.483\n",
      "## CV: FOLD 1... \n",
      "loss:2.068 logits_loss:2.068 probits_acc:0.379 probits_CS1:0.708 probits_CS2:0.888 probits_mae:1.080 probits_rmse:1.571 val_loss:1.967 val_logits_loss:1.967 val_probits_acc:0.398 val_probits_CS1:0.726 val_probits_CS2:0.904 val_probits_mae:1.019 val_probits_rmse:1.490\n",
      "## CV: FOLD 2... \n",
      "loss:2.069 logits_loss:2.069 probits_acc:0.378 probits_CS1:0.709 probits_CS2:0.891 probits_mae:1.077 probits_rmse:1.565 val_loss:1.979 val_logits_loss:1.979 val_probits_acc:0.395 val_probits_CS1:0.725 val_probits_CS2:0.897 val_probits_mae:1.028 val_probits_rmse:1.508\n",
      "## CV: FOLD 3... \n",
      "loss:2.064 logits_loss:2.064 probits_acc:0.380 probits_CS1:0.712 probits_CS2:0.891 probits_mae:1.071 probits_rmse:1.562 val_loss:1.954 val_logits_loss:1.954 val_probits_acc:0.399 val_probits_CS1:0.732 val_probits_CS2:0.901 val_probits_mae:1.014 val_probits_rmse:1.494\n",
      "## CV: FOLD 4... \n",
      "loss:2.068 logits_loss:2.068 probits_acc:0.375 probits_CS1:0.710 probits_CS2:0.890 probits_mae:1.079 probits_rmse:1.565 val_loss:1.990 val_logits_loss:1.990 val_probits_acc:0.396 val_probits_CS1:0.725 val_probits_CS2:0.900 val_probits_mae:1.030 val_probits_rmse:1.515\n",
      "\n",
      "### SEARCH: PARAMS {'rank_data': True, 'p': 0.4, 'output_len': 16, 'output_activation': 'sigmoid', 'input_shape': (18, 11), 'hiddens': [32, 32], 'hidden_activation': 'swish', 'epochs': 75, 'batch_size': 64, 'adam_lr': 0.001}\n",
      "## CV: FOLD 0... \n"
     ]
    },
    {
     "name": "stderr",
     "output_type": "stream",
     "text": [
      "/home/cove/Documents/Projects/moon/venv/lib/python3.8/site-packages/sklearn/model_selection/_split.py:670: UserWarning: The least populated class in y has only 1 members, which is less than n_splits=5.\n",
      "  warnings.warn((\"The least populated class in y has only %d\"\n"
     ]
    },
    {
     "name": "stdout",
     "output_type": "stream",
     "text": [
      "loss:1.957 logits_loss:1.957 probits_acc:0.391 probits_CS1:0.726 probits_CS2:0.904 probits_mae:1.022 probits_rmse:1.493 val_loss:1.922 val_logits_loss:1.922 val_probits_acc:0.405 val_probits_CS1:0.740 val_probits_CS2:0.908 val_probits_mae:0.988 val_probits_rmse:1.456\n",
      "## CV: FOLD 1... \n",
      "loss:1.946 logits_loss:1.946 probits_acc:0.390 probits_CS1:0.729 probits_CS2:0.905 probits_mae:1.017 probits_rmse:1.485 val_loss:1.931 val_logits_loss:1.931 val_probits_acc:0.405 val_probits_CS1:0.731 val_probits_CS2:0.907 val_probits_mae:1.002 val_probits_rmse:1.476\n",
      "## CV: FOLD 2... \n",
      "loss:1.949 logits_loss:1.949 probits_acc:0.391 probits_CS1:0.729 probits_CS2:0.904 probits_mae:1.018 probits_rmse:1.484 val_loss:1.940 val_logits_loss:1.940 val_probits_acc:0.395 val_probits_CS1:0.732 val_probits_CS2:0.904 val_probits_mae:1.011 val_probits_rmse:1.480\n",
      "## CV: FOLD 3... \n",
      "loss:1.951 logits_loss:1.951 probits_acc:0.392 probits_CS1:0.727 probits_CS2:0.907 probits_mae:1.017 probits_rmse:1.484 val_loss:1.917 val_logits_loss:1.917 val_probits_acc:0.399 val_probits_CS1:0.739 val_probits_CS2:0.905 val_probits_mae:1.001 val_probits_rmse:1.473\n",
      "## CV: FOLD 4... \n",
      "loss:1.958 logits_loss:1.958 probits_acc:0.391 probits_CS1:0.726 probits_CS2:0.904 probits_mae:1.022 probits_rmse:1.491 val_loss:1.939 val_logits_loss:1.939 val_probits_acc:0.400 val_probits_CS1:0.734 val_probits_CS2:0.907 val_probits_mae:1.006 val_probits_rmse:1.482\n",
      "\n",
      "### SEARCH: PARAMS {'rank_data': True, 'p': 0.4, 'output_len': 16, 'output_activation': 'sigmoid', 'input_shape': (18, 11), 'hiddens': [64, 64], 'hidden_activation': 'swish', 'epochs': 75, 'batch_size': 64, 'adam_lr': 0.001}\n",
      "## CV: FOLD 0... \n"
     ]
    },
    {
     "name": "stderr",
     "output_type": "stream",
     "text": [
      "/home/cove/Documents/Projects/moon/venv/lib/python3.8/site-packages/sklearn/model_selection/_split.py:670: UserWarning: The least populated class in y has only 1 members, which is less than n_splits=5.\n",
      "  warnings.warn((\"The least populated class in y has only %d\"\n"
     ]
    },
    {
     "name": "stdout",
     "output_type": "stream",
     "text": [
      "loss:1.837 logits_loss:1.837 probits_acc:0.403 probits_CS1:0.746 probits_CS2:0.919 probits_mae:0.964 probits_rmse:1.411 val_loss:1.903 val_logits_loss:1.903 val_probits_acc:0.398 val_probits_CS1:0.741 val_probits_CS2:0.910 val_probits_mae:0.990 val_probits_rmse:1.448\n",
      "## CV: FOLD 1... \n",
      "loss:1.836 logits_loss:1.836 probits_acc:0.407 probits_CS1:0.751 probits_CS2:0.918 probits_mae:0.956 probits_rmse:1.404 val_loss:1.920 val_logits_loss:1.920 val_probits_acc:0.401 val_probits_CS1:0.737 val_probits_CS2:0.910 val_probits_mae:0.994 val_probits_rmse:1.460\n",
      "## CV: FOLD 2... \n",
      "loss:1.834 logits_loss:1.834 probits_acc:0.407 probits_CS1:0.750 probits_CS2:0.918 probits_mae:0.957 probits_rmse:1.407 val_loss:1.930 val_logits_loss:1.930 val_probits_acc:0.400 val_probits_CS1:0.740 val_probits_CS2:0.912 val_probits_mae:0.993 val_probits_rmse:1.464\n",
      "## CV: FOLD 3... \n",
      "loss:1.834 logits_loss:1.834 probits_acc:0.405 probits_CS1:0.749 probits_CS2:0.920 probits_mae:0.958 probits_rmse:1.407 val_loss:1.911 val_logits_loss:1.911 val_probits_acc:0.404 val_probits_CS1:0.742 val_probits_CS2:0.906 val_probits_mae:0.990 val_probits_rmse:1.466\n",
      "## CV: FOLD 4... \n",
      "loss:1.835 logits_loss:1.835 probits_acc:0.407 probits_CS1:0.751 probits_CS2:0.919 probits_mae:0.955 probits_rmse:1.403 val_loss:1.929 val_logits_loss:1.929 val_probits_acc:0.390 val_probits_CS1:0.742 val_probits_CS2:0.913 val_probits_mae:0.999 val_probits_rmse:1.460\n",
      "\n",
      "### SEARCH: PARAMS {'rank_data': True, 'p': 0.4, 'output_len': 16, 'output_activation': 'sigmoid', 'input_shape': (18, 11), 'hiddens': [32, 32, 32], 'hidden_activation': 'swish', 'epochs': 75, 'batch_size': 64, 'adam_lr': 0.001}\n",
      "## CV: FOLD 0... \n"
     ]
    },
    {
     "name": "stderr",
     "output_type": "stream",
     "text": [
      "/home/cove/Documents/Projects/moon/venv/lib/python3.8/site-packages/sklearn/model_selection/_split.py:670: UserWarning: The least populated class in y has only 1 members, which is less than n_splits=5.\n",
      "  warnings.warn((\"The least populated class in y has only %d\"\n"
     ]
    },
    {
     "name": "stdout",
     "output_type": "stream",
     "text": [
      "loss:1.975 logits_loss:1.975 probits_acc:0.383 probits_CS1:0.726 probits_CS2:0.902 probits_mae:1.032 probits_rmse:1.499 val_loss:1.922 val_logits_loss:1.922 val_probits_acc:0.401 val_probits_CS1:0.731 val_probits_CS2:0.909 val_probits_mae:1.004 val_probits_rmse:1.473\n",
      "## CV: FOLD 1... \n",
      "loss:1.982 logits_loss:1.982 probits_acc:0.385 probits_CS1:0.725 probits_CS2:0.903 probits_mae:1.033 probits_rmse:1.502 val_loss:1.929 val_logits_loss:1.929 val_probits_acc:0.405 val_probits_CS1:0.730 val_probits_CS2:0.904 val_probits_mae:1.006 val_probits_rmse:1.480\n",
      "## CV: FOLD 2... \n",
      "loss:1.975 logits_loss:1.975 probits_acc:0.389 probits_CS1:0.727 probits_CS2:0.902 probits_mae:1.027 probits_rmse:1.498 val_loss:1.943 val_logits_loss:1.943 val_probits_acc:0.403 val_probits_CS1:0.729 val_probits_CS2:0.902 val_probits_mae:1.010 val_probits_rmse:1.489\n",
      "## CV: FOLD 3... \n",
      "loss:1.986 logits_loss:1.986 probits_acc:0.386 probits_CS1:0.723 probits_CS2:0.902 probits_mae:1.035 probits_rmse:1.509 val_loss:1.918 val_logits_loss:1.918 val_probits_acc:0.395 val_probits_CS1:0.742 val_probits_CS2:0.910 val_probits_mae:0.999 val_probits_rmse:1.469\n",
      "## CV: FOLD 4... \n",
      "loss:1.973 logits_loss:1.973 probits_acc:0.384 probits_CS1:0.729 probits_CS2:0.906 probits_mae:1.026 probits_rmse:1.490 val_loss:1.942 val_logits_loss:1.942 val_probits_acc:0.397 val_probits_CS1:0.740 val_probits_CS2:0.907 val_probits_mae:1.005 val_probits_rmse:1.482\n",
      "\n",
      "### SEARCH: PARAMS {'rank_data': True, 'p': 0.4, 'output_len': 16, 'output_activation': 'sigmoid', 'input_shape': (18, 11), 'hiddens': [64, 64, 64], 'hidden_activation': 'swish', 'epochs': 75, 'batch_size': 64, 'adam_lr': 0.001}\n",
      "## CV: FOLD 0... \n"
     ]
    },
    {
     "name": "stderr",
     "output_type": "stream",
     "text": [
      "/home/cove/Documents/Projects/moon/venv/lib/python3.8/site-packages/sklearn/model_selection/_split.py:670: UserWarning: The least populated class in y has only 1 members, which is less than n_splits=5.\n",
      "  warnings.warn((\"The least populated class in y has only %d\"\n"
     ]
    },
    {
     "name": "stdout",
     "output_type": "stream",
     "text": [
      "loss:1.855 logits_loss:1.855 probits_acc:0.400 probits_CS1:0.744 probits_CS2:0.919 probits_mae:0.969 probits_rmse:1.415 val_loss:1.912 val_logits_loss:1.912 val_probits_acc:0.407 val_probits_CS1:0.736 val_probits_CS2:0.909 val_probits_mae:0.990 val_probits_rmse:1.462\n",
      "## CV: FOLD 1... \n",
      "loss:1.857 logits_loss:1.857 probits_acc:0.406 probits_CS1:0.745 probits_CS2:0.917 probits_mae:0.965 probits_rmse:1.418 val_loss:1.922 val_logits_loss:1.922 val_probits_acc:0.403 val_probits_CS1:0.731 val_probits_CS2:0.909 val_probits_mae:1.003 val_probits_rmse:1.477\n",
      "## CV: FOLD 2... \n",
      "loss:1.849 logits_loss:1.849 probits_acc:0.400 probits_CS1:0.745 probits_CS2:0.917 probits_mae:0.969 probits_rmse:1.412 val_loss:1.941 val_logits_loss:1.941 val_probits_acc:0.403 val_probits_CS1:0.730 val_probits_CS2:0.905 val_probits_mae:1.009 val_probits_rmse:1.490\n",
      "## CV: FOLD 3... \n",
      "loss:1.857 logits_loss:1.857 probits_acc:0.404 probits_CS1:0.745 probits_CS2:0.918 probits_mae:0.966 probits_rmse:1.418 val_loss:1.900 val_logits_loss:1.900 val_probits_acc:0.406 val_probits_CS1:0.747 val_probits_CS2:0.909 val_probits_mae:0.980 val_probits_rmse:1.450\n",
      "## CV: FOLD 4... \n",
      "loss:1.856 logits_loss:1.856 probits_acc:0.401 probits_CS1:0.746 probits_CS2:0.917 probits_mae:0.969 probits_rmse:1.418 val_loss:1.931 val_logits_loss:1.931 val_probits_acc:0.394 val_probits_CS1:0.736 val_probits_CS2:0.910 val_probits_mae:1.008 val_probits_rmse:1.478\n",
      "\n",
      "### SEARCH: PARAMS {'rank_data': True, 'p': 0.4, 'output_len': 16, 'output_activation': 'sigmoid', 'input_shape': (18, 11), 'hiddens': [16], 'hidden_activation': 'swish', 'epochs': 30, 'batch_size': 96, 'adam_lr': 0.001}\n",
      "## CV: FOLD 0... \n"
     ]
    },
    {
     "name": "stderr",
     "output_type": "stream",
     "text": [
      "/home/cove/Documents/Projects/moon/venv/lib/python3.8/site-packages/sklearn/model_selection/_split.py:670: UserWarning: The least populated class in y has only 1 members, which is less than n_splits=5.\n",
      "  warnings.warn((\"The least populated class in y has only %d\"\n"
     ]
    },
    {
     "name": "stdout",
     "output_type": "stream",
     "text": [
      "loss:2.304 logits_loss:2.304 probits_acc:0.364 probits_CS1:0.710 probits_CS2:0.886 probits_mae:1.102 probits_rmse:1.596 val_loss:2.225 val_logits_loss:2.225 val_probits_acc:0.382 val_probits_CS1:0.721 val_probits_CS2:0.892 val_probits_mae:1.059 val_probits_rmse:1.546\n",
      "## CV: FOLD 1... \n",
      "loss:2.316 logits_loss:2.316 probits_acc:0.359 probits_CS1:0.705 probits_CS2:0.883 probits_mae:1.118 probits_rmse:1.617 val_loss:2.231 val_logits_loss:2.231 val_probits_acc:0.382 val_probits_CS1:0.723 val_probits_CS2:0.896 val_probits_mae:1.058 val_probits_rmse:1.546\n",
      "## CV: FOLD 2... \n",
      "loss:2.304 logits_loss:2.304 probits_acc:0.361 probits_CS1:0.707 probits_CS2:0.884 probits_mae:1.110 probits_rmse:1.606 val_loss:2.245 val_logits_loss:2.245 val_probits_acc:0.380 val_probits_CS1:0.720 val_probits_CS2:0.890 val_probits_mae:1.065 val_probits_rmse:1.557\n",
      "## CV: FOLD 3... \n",
      "loss:2.309 logits_loss:2.309 probits_acc:0.363 probits_CS1:0.705 probits_CS2:0.884 probits_mae:1.111 probits_rmse:1.609 val_loss:2.228 val_logits_loss:2.228 val_probits_acc:0.369 val_probits_CS1:0.727 val_probits_CS2:0.894 val_probits_mae:1.066 val_probits_rmse:1.545\n",
      "## CV: FOLD 4... \n",
      "loss:2.287 logits_loss:2.287 probits_acc:0.366 probits_CS1:0.708 probits_CS2:0.886 probits_mae:1.099 probits_rmse:1.591 val_loss:2.245 val_logits_loss:2.245 val_probits_acc:0.378 val_probits_CS1:0.712 val_probits_CS2:0.894 val_probits_mae:1.074 val_probits_rmse:1.566\n",
      "\n",
      "### SEARCH: PARAMS {'rank_data': True, 'p': 0.4, 'output_len': 16, 'output_activation': 'sigmoid', 'input_shape': (18, 11), 'hiddens': [32], 'hidden_activation': 'swish', 'epochs': 30, 'batch_size': 96, 'adam_lr': 0.001}\n",
      "## CV: FOLD 0... \n"
     ]
    },
    {
     "name": "stderr",
     "output_type": "stream",
     "text": [
      "/home/cove/Documents/Projects/moon/venv/lib/python3.8/site-packages/sklearn/model_selection/_split.py:670: UserWarning: The least populated class in y has only 1 members, which is less than n_splits=5.\n",
      "  warnings.warn((\"The least populated class in y has only %d\"\n"
     ]
    },
    {
     "name": "stdout",
     "output_type": "stream",
     "text": [
      "loss:2.250 logits_loss:2.250 probits_acc:0.376 probits_CS1:0.717 probits_CS2:0.892 probits_mae:1.069 probits_rmse:1.559 val_loss:2.200 val_logits_loss:2.200 val_probits_acc:0.386 val_probits_CS1:0.733 val_probits_CS2:0.898 val_probits_mae:1.030 val_probits_rmse:1.505\n",
      "## CV: FOLD 1... \n",
      "loss:2.249 logits_loss:2.249 probits_acc:0.374 probits_CS1:0.716 probits_CS2:0.893 probits_mae:1.071 probits_rmse:1.557 val_loss:2.201 val_logits_loss:2.201 val_probits_acc:0.386 val_probits_CS1:0.729 val_probits_CS2:0.900 val_probits_mae:1.037 val_probits_rmse:1.516\n",
      "## CV: FOLD 2... \n",
      "loss:2.249 logits_loss:2.249 probits_acc:0.377 probits_CS1:0.717 probits_CS2:0.893 probits_mae:1.069 probits_rmse:1.557 val_loss:2.210 val_logits_loss:2.210 val_probits_acc:0.383 val_probits_CS1:0.725 val_probits_CS2:0.895 val_probits_mae:1.050 val_probits_rmse:1.537\n",
      "## CV: FOLD 3... \n",
      "loss:2.255 logits_loss:2.255 probits_acc:0.376 probits_CS1:0.717 probits_CS2:0.892 probits_mae:1.071 probits_rmse:1.564 val_loss:2.201 val_logits_loss:2.201 val_probits_acc:0.379 val_probits_CS1:0.733 val_probits_CS2:0.896 val_probits_mae:1.047 val_probits_rmse:1.530\n",
      "## CV: FOLD 4... \n",
      "loss:2.241 logits_loss:2.241 probits_acc:0.379 probits_CS1:0.721 probits_CS2:0.893 probits_mae:1.061 probits_rmse:1.552 val_loss:2.219 val_logits_loss:2.219 val_probits_acc:0.379 val_probits_CS1:0.718 val_probits_CS2:0.897 val_probits_mae:1.061 val_probits_rmse:1.550\n",
      "\n",
      "### SEARCH: PARAMS {'rank_data': True, 'p': 0.4, 'output_len': 16, 'output_activation': 'sigmoid', 'input_shape': (18, 11), 'hiddens': [16, 16], 'hidden_activation': 'swish', 'epochs': 30, 'batch_size': 96, 'adam_lr': 0.001}\n",
      "## CV: FOLD 0... \n"
     ]
    },
    {
     "name": "stderr",
     "output_type": "stream",
     "text": [
      "/home/cove/Documents/Projects/moon/venv/lib/python3.8/site-packages/sklearn/model_selection/_split.py:670: UserWarning: The least populated class in y has only 1 members, which is less than n_splits=5.\n",
      "  warnings.warn((\"The least populated class in y has only %d\"\n"
     ]
    },
    {
     "name": "stdout",
     "output_type": "stream",
     "text": [
      "loss:2.347 logits_loss:2.347 probits_acc:0.359 probits_CS1:0.696 probits_CS2:0.877 probits_mae:1.136 probits_rmse:1.643 val_loss:2.245 val_logits_loss:2.245 val_probits_acc:0.384 val_probits_CS1:0.706 val_probits_CS2:0.885 val_probits_mae:1.083 val_probits_rmse:1.580\n",
      "## CV: FOLD 1... \n",
      "loss:2.352 logits_loss:2.352 probits_acc:0.358 probits_CS1:0.694 probits_CS2:0.878 probits_mae:1.139 probits_rmse:1.645 val_loss:2.242 val_logits_loss:2.242 val_probits_acc:0.383 val_probits_CS1:0.715 val_probits_CS2:0.892 val_probits_mae:1.069 val_probits_rmse:1.562\n",
      "## CV: FOLD 2... \n",
      "loss:2.345 logits_loss:2.345 probits_acc:0.355 probits_CS1:0.694 probits_CS2:0.878 probits_mae:1.140 probits_rmse:1.639 val_loss:2.264 val_logits_loss:2.264 val_probits_acc:0.389 val_probits_CS1:0.708 val_probits_CS2:0.877 val_probits_mae:1.090 val_probits_rmse:1.606\n",
      "## CV: FOLD 3... \n",
      "loss:2.345 logits_loss:2.345 probits_acc:0.359 probits_CS1:0.696 probits_CS2:0.878 probits_mae:1.135 probits_rmse:1.641 val_loss:2.232 val_logits_loss:2.232 val_probits_acc:0.375 val_probits_CS1:0.723 val_probits_CS2:0.891 val_probits_mae:1.069 val_probits_rmse:1.560\n",
      "## CV: FOLD 4... \n",
      "loss:2.340 logits_loss:2.340 probits_acc:0.359 probits_CS1:0.702 probits_CS2:0.880 probits_mae:1.127 probits_rmse:1.631 val_loss:2.238 val_logits_loss:2.238 val_probits_acc:0.383 val_probits_CS1:0.712 val_probits_CS2:0.891 val_probits_mae:1.069 val_probits_rmse:1.559\n",
      "\n",
      "### SEARCH: PARAMS {'rank_data': True, 'p': 0.4, 'output_len': 16, 'output_activation': 'sigmoid', 'input_shape': (18, 11), 'hiddens': [32, 32], 'hidden_activation': 'swish', 'epochs': 30, 'batch_size': 96, 'adam_lr': 0.001}\n",
      "## CV: FOLD 0... \n"
     ]
    },
    {
     "name": "stderr",
     "output_type": "stream",
     "text": [
      "/home/cove/Documents/Projects/moon/venv/lib/python3.8/site-packages/sklearn/model_selection/_split.py:670: UserWarning: The least populated class in y has only 1 members, which is less than n_splits=5.\n",
      "  warnings.warn((\"The least populated class in y has only %d\"\n"
     ]
    },
    {
     "name": "stdout",
     "output_type": "stream",
     "text": [
      "loss:2.252 logits_loss:2.252 probits_acc:0.376 probits_CS1:0.712 probits_CS2:0.890 probits_mae:1.078 probits_rmse:1.573 val_loss:2.177 val_logits_loss:2.177 val_probits_acc:0.401 val_probits_CS1:0.727 val_probits_CS2:0.898 val_probits_mae:1.021 val_probits_rmse:1.506\n",
      "## CV: FOLD 1... \n",
      "loss:2.257 logits_loss:2.257 probits_acc:0.379 probits_CS1:0.713 probits_CS2:0.888 probits_mae:1.076 probits_rmse:1.574 val_loss:2.181 val_logits_loss:2.181 val_probits_acc:0.394 val_probits_CS1:0.726 val_probits_CS2:0.900 val_probits_mae:1.032 val_probits_rmse:1.514\n",
      "## CV: FOLD 2... \n",
      "loss:2.254 logits_loss:2.254 probits_acc:0.379 probits_CS1:0.713 probits_CS2:0.890 probits_mae:1.075 probits_rmse:1.570 val_loss:2.195 val_logits_loss:2.195 val_probits_acc:0.388 val_probits_CS1:0.721 val_probits_CS2:0.892 val_probits_mae:1.049 val_probits_rmse:1.539\n",
      "## CV: FOLD 3... \n",
      "loss:2.271 logits_loss:2.271 probits_acc:0.378 probits_CS1:0.711 probits_CS2:0.889 probits_mae:1.081 probits_rmse:1.580 val_loss:2.176 val_logits_loss:2.176 val_probits_acc:0.387 val_probits_CS1:0.736 val_probits_CS2:0.900 val_probits_mae:1.027 val_probits_rmse:1.508\n",
      "## CV: FOLD 4... \n",
      "loss:2.250 logits_loss:2.250 probits_acc:0.377 probits_CS1:0.714 probits_CS2:0.890 probits_mae:1.074 probits_rmse:1.569 val_loss:2.198 val_logits_loss:2.198 val_probits_acc:0.391 val_probits_CS1:0.714 val_probits_CS2:0.895 val_probits_mae:1.054 val_probits_rmse:1.549\n",
      "\n",
      "### SEARCH: PARAMS {'rank_data': True, 'p': 0.4, 'output_len': 16, 'output_activation': 'sigmoid', 'input_shape': (18, 11), 'hiddens': [64, 64], 'hidden_activation': 'swish', 'epochs': 30, 'batch_size': 96, 'adam_lr': 0.001}\n",
      "## CV: FOLD 0... \n"
     ]
    },
    {
     "name": "stderr",
     "output_type": "stream",
     "text": [
      "/home/cove/Documents/Projects/moon/venv/lib/python3.8/site-packages/sklearn/model_selection/_split.py:670: UserWarning: The least populated class in y has only 1 members, which is less than n_splits=5.\n",
      "  warnings.warn((\"The least populated class in y has only %d\"\n"
     ]
    },
    {
     "name": "stdout",
     "output_type": "stream",
     "text": [
      "loss:2.202 logits_loss:2.202 probits_acc:0.387 probits_CS1:0.725 probits_CS2:0.898 probits_mae:1.041 probits_rmse:1.527 val_loss:2.164 val_logits_loss:2.164 val_probits_acc:0.400 val_probits_CS1:0.726 val_probits_CS2:0.896 val_probits_mae:1.026 val_probits_rmse:1.513\n",
      "## CV: FOLD 1... \n",
      "loss:2.204 logits_loss:2.204 probits_acc:0.388 probits_CS1:0.726 probits_CS2:0.896 probits_mae:1.040 probits_rmse:1.531 val_loss:2.161 val_logits_loss:2.161 val_probits_acc:0.399 val_probits_CS1:0.731 val_probits_CS2:0.904 val_probits_mae:1.014 val_probits_rmse:1.493\n",
      "## CV: FOLD 2... \n",
      "loss:2.201 logits_loss:2.201 probits_acc:0.389 probits_CS1:0.724 probits_CS2:0.898 probits_mae:1.038 probits_rmse:1.524 val_loss:2.172 val_logits_loss:2.172 val_probits_acc:0.392 val_probits_CS1:0.726 val_probits_CS2:0.895 val_probits_mae:1.037 val_probits_rmse:1.526\n",
      "## CV: FOLD 3... \n",
      "loss:2.209 logits_loss:2.209 probits_acc:0.390 probits_CS1:0.722 probits_CS2:0.898 probits_mae:1.042 probits_rmse:1.534 val_loss:2.152 val_logits_loss:2.152 val_probits_acc:0.397 val_probits_CS1:0.736 val_probits_CS2:0.897 val_probits_mae:1.020 val_probits_rmse:1.509\n",
      "## CV: FOLD 4... \n",
      "loss:2.195 logits_loss:2.195 probits_acc:0.388 probits_CS1:0.726 probits_CS2:0.898 probits_mae:1.037 probits_rmse:1.521 val_loss:2.177 val_logits_loss:2.177 val_probits_acc:0.393 val_probits_CS1:0.722 val_probits_CS2:0.897 val_probits_mae:1.040 val_probits_rmse:1.535\n",
      "\n",
      "### SEARCH: PARAMS {'rank_data': True, 'p': 0.4, 'output_len': 16, 'output_activation': 'sigmoid', 'input_shape': (18, 11), 'hiddens': [32, 32, 32], 'hidden_activation': 'swish', 'epochs': 30, 'batch_size': 96, 'adam_lr': 0.001}\n",
      "## CV: FOLD 0... \n"
     ]
    },
    {
     "name": "stderr",
     "output_type": "stream",
     "text": [
      "/home/cove/Documents/Projects/moon/venv/lib/python3.8/site-packages/sklearn/model_selection/_split.py:670: UserWarning: The least populated class in y has only 1 members, which is less than n_splits=5.\n",
      "  warnings.warn((\"The least populated class in y has only %d\"\n"
     ]
    },
    {
     "name": "stdout",
     "output_type": "stream",
     "text": [
      "loss:2.270 logits_loss:2.270 probits_acc:0.378 probits_CS1:0.709 probits_CS2:0.886 probits_mae:1.087 probits_rmse:1.589 val_loss:2.184 val_logits_loss:2.184 val_probits_acc:0.399 val_probits_CS1:0.715 val_probits_CS2:0.893 val_probits_mae:1.045 val_probits_rmse:1.536\n",
      "## CV: FOLD 1... \n",
      "loss:2.273 logits_loss:2.273 probits_acc:0.379 probits_CS1:0.709 probits_CS2:0.884 probits_mae:1.086 probits_rmse:1.584 val_loss:2.188 val_logits_loss:2.188 val_probits_acc:0.402 val_probits_CS1:0.722 val_probits_CS2:0.892 val_probits_mae:1.036 val_probits_rmse:1.533\n",
      "## CV: FOLD 2... \n",
      "loss:2.277 logits_loss:2.277 probits_acc:0.377 probits_CS1:0.705 probits_CS2:0.883 probits_mae:1.093 probits_rmse:1.592 val_loss:2.191 val_logits_loss:2.191 val_probits_acc:0.395 val_probits_CS1:0.721 val_probits_CS2:0.895 val_probits_mae:1.041 val_probits_rmse:1.534\n",
      "## CV: FOLD 3... \n",
      "loss:2.273 logits_loss:2.273 probits_acc:0.380 probits_CS1:0.706 probits_CS2:0.885 probits_mae:1.087 probits_rmse:1.589 val_loss:2.184 val_logits_loss:2.184 val_probits_acc:0.393 val_probits_CS1:0.724 val_probits_CS2:0.892 val_probits_mae:1.041 val_probits_rmse:1.529\n",
      "## CV: FOLD 4... \n",
      "loss:2.261 logits_loss:2.261 probits_acc:0.382 probits_CS1:0.707 probits_CS2:0.885 probits_mae:1.081 probits_rmse:1.579 val_loss:2.197 val_logits_loss:2.197 val_probits_acc:0.400 val_probits_CS1:0.720 val_probits_CS2:0.890 val_probits_mae:1.043 val_probits_rmse:1.545\n",
      "\n",
      "### SEARCH: PARAMS {'rank_data': True, 'p': 0.4, 'output_len': 16, 'output_activation': 'sigmoid', 'input_shape': (18, 11), 'hiddens': [64, 64, 64], 'hidden_activation': 'swish', 'epochs': 30, 'batch_size': 96, 'adam_lr': 0.001}\n",
      "## CV: FOLD 0... \n"
     ]
    },
    {
     "name": "stderr",
     "output_type": "stream",
     "text": [
      "/home/cove/Documents/Projects/moon/venv/lib/python3.8/site-packages/sklearn/model_selection/_split.py:670: UserWarning: The least populated class in y has only 1 members, which is less than n_splits=5.\n",
      "  warnings.warn((\"The least populated class in y has only %d\"\n"
     ]
    },
    {
     "name": "stdout",
     "output_type": "stream",
     "text": [
      "loss:2.207 logits_loss:2.207 probits_acc:0.388 probits_CS1:0.720 probits_CS2:0.895 probits_mae:1.048 probits_rmse:1.537 val_loss:2.158 val_logits_loss:2.158 val_probits_acc:0.402 val_probits_CS1:0.722 val_probits_CS2:0.900 val_probits_mae:1.022 val_probits_rmse:1.504\n",
      "## CV: FOLD 1... \n",
      "loss:2.210 logits_loss:2.210 probits_acc:0.388 probits_CS1:0.719 probits_CS2:0.893 probits_mae:1.051 probits_rmse:1.543 val_loss:2.166 val_logits_loss:2.166 val_probits_acc:0.403 val_probits_CS1:0.723 val_probits_CS2:0.896 val_probits_mae:1.027 val_probits_rmse:1.519\n",
      "## CV: FOLD 2... \n",
      "loss:2.204 logits_loss:2.204 probits_acc:0.393 probits_CS1:0.720 probits_CS2:0.894 probits_mae:1.041 probits_rmse:1.531 val_loss:2.165 val_logits_loss:2.165 val_probits_acc:0.399 val_probits_CS1:0.723 val_probits_CS2:0.893 val_probits_mae:1.033 val_probits_rmse:1.525\n",
      "## CV: FOLD 3... \n",
      "loss:2.211 logits_loss:2.211 probits_acc:0.390 probits_CS1:0.722 probits_CS2:0.893 probits_mae:1.046 probits_rmse:1.538 val_loss:2.148 val_logits_loss:2.148 val_probits_acc:0.400 val_probits_CS1:0.732 val_probits_CS2:0.898 val_probits_mae:1.019 val_probits_rmse:1.506\n",
      "## CV: FOLD 4... \n",
      "loss:2.204 logits_loss:2.204 probits_acc:0.391 probits_CS1:0.719 probits_CS2:0.895 probits_mae:1.043 probits_rmse:1.530 val_loss:2.184 val_logits_loss:2.184 val_probits_acc:0.396 val_probits_CS1:0.716 val_probits_CS2:0.895 val_probits_mae:1.045 val_probits_rmse:1.544\n",
      "\n",
      "### SEARCH: PARAMS {'rank_data': True, 'p': 0.4, 'output_len': 16, 'output_activation': 'sigmoid', 'input_shape': (18, 11), 'hiddens': [16], 'hidden_activation': 'swish', 'epochs': 50, 'batch_size': 96, 'adam_lr': 0.001}\n",
      "## CV: FOLD 0... \n"
     ]
    },
    {
     "name": "stderr",
     "output_type": "stream",
     "text": [
      "/home/cove/Documents/Projects/moon/venv/lib/python3.8/site-packages/sklearn/model_selection/_split.py:670: UserWarning: The least populated class in y has only 1 members, which is less than n_splits=5.\n",
      "  warnings.warn((\"The least populated class in y has only %d\"\n"
     ]
    },
    {
     "name": "stdout",
     "output_type": "stream",
     "text": [
      "loss:2.083 logits_loss:2.083 probits_acc:0.374 probits_CS1:0.715 probits_CS2:0.890 probits_mae:1.077 probits_rmse:1.569 val_loss:2.004 val_logits_loss:2.004 val_probits_acc:0.392 val_probits_CS1:0.730 val_probits_CS2:0.902 val_probits_mae:1.023 val_probits_rmse:1.499\n",
      "## CV: FOLD 1... \n",
      "loss:2.069 logits_loss:2.069 probits_acc:0.380 probits_CS1:0.714 probits_CS2:0.893 probits_mae:1.068 probits_rmse:1.558 val_loss:2.002 val_logits_loss:2.002 val_probits_acc:0.397 val_probits_CS1:0.730 val_probits_CS2:0.902 val_probits_mae:1.018 val_probits_rmse:1.498\n",
      "## CV: FOLD 2... \n",
      "loss:2.074 logits_loss:2.074 probits_acc:0.376 probits_CS1:0.714 probits_CS2:0.895 probits_mae:1.070 probits_rmse:1.557 val_loss:2.021 val_logits_loss:2.021 val_probits_acc:0.389 val_probits_CS1:0.723 val_probits_CS2:0.897 val_probits_mae:1.040 val_probits_rmse:1.526\n",
      "## CV: FOLD 3... \n",
      "loss:2.086 logits_loss:2.086 probits_acc:0.376 probits_CS1:0.715 probits_CS2:0.892 probits_mae:1.074 probits_rmse:1.569 val_loss:2.004 val_logits_loss:2.004 val_probits_acc:0.390 val_probits_CS1:0.733 val_probits_CS2:0.902 val_probits_mae:1.024 val_probits_rmse:1.505\n",
      "## CV: FOLD 4... \n",
      "loss:2.074 logits_loss:2.074 probits_acc:0.379 probits_CS1:0.714 probits_CS2:0.894 probits_mae:1.069 probits_rmse:1.560 val_loss:2.035 val_logits_loss:2.035 val_probits_acc:0.385 val_probits_CS1:0.721 val_probits_CS2:0.899 val_probits_mae:1.047 val_probits_rmse:1.532\n",
      "\n",
      "### SEARCH: PARAMS {'rank_data': True, 'p': 0.4, 'output_len': 16, 'output_activation': 'sigmoid', 'input_shape': (18, 11), 'hiddens': [32], 'hidden_activation': 'swish', 'epochs': 50, 'batch_size': 96, 'adam_lr': 0.001}\n",
      "## CV: FOLD 0... \n"
     ]
    },
    {
     "name": "stderr",
     "output_type": "stream",
     "text": [
      "/home/cove/Documents/Projects/moon/venv/lib/python3.8/site-packages/sklearn/model_selection/_split.py:670: UserWarning: The least populated class in y has only 1 members, which is less than n_splits=5.\n",
      "  warnings.warn((\"The least populated class in y has only %d\"\n"
     ]
    },
    {
     "name": "stdout",
     "output_type": "stream",
     "text": [
      "loss:2.010 logits_loss:2.010 probits_acc:0.391 probits_CS1:0.723 probits_CS2:0.901 probits_mae:1.034 probits_rmse:1.520 val_loss:1.978 val_logits_loss:1.978 val_probits_acc:0.397 val_probits_CS1:0.730 val_probits_CS2:0.903 val_probits_mae:1.014 val_probits_rmse:1.489\n",
      "## CV: FOLD 1... \n",
      "loss:2.016 logits_loss:2.016 probits_acc:0.384 probits_CS1:0.723 probits_CS2:0.899 probits_mae:1.042 probits_rmse:1.523 val_loss:1.979 val_logits_loss:1.979 val_probits_acc:0.403 val_probits_CS1:0.733 val_probits_CS2:0.902 val_probits_mae:1.008 val_probits_rmse:1.488\n",
      "## CV: FOLD 2... \n",
      "loss:1.999 logits_loss:1.999 probits_acc:0.388 probits_CS1:0.726 probits_CS2:0.902 probits_mae:1.030 probits_rmse:1.508 val_loss:1.990 val_logits_loss:1.990 val_probits_acc:0.396 val_probits_CS1:0.730 val_probits_CS2:0.898 val_probits_mae:1.023 val_probits_rmse:1.509\n",
      "## CV: FOLD 3... \n",
      "loss:2.017 logits_loss:2.017 probits_acc:0.388 probits_CS1:0.726 probits_CS2:0.899 probits_mae:1.035 probits_rmse:1.520 val_loss:1.970 val_logits_loss:1.970 val_probits_acc:0.395 val_probits_CS1:0.737 val_probits_CS2:0.906 val_probits_mae:1.008 val_probits_rmse:1.486\n",
      "## CV: FOLD 4... \n",
      "loss:1.999 logits_loss:1.999 probits_acc:0.390 probits_CS1:0.729 probits_CS2:0.901 probits_mae:1.026 probits_rmse:1.506 val_loss:2.000 val_logits_loss:2.000 val_probits_acc:0.389 val_probits_CS1:0.728 val_probits_CS2:0.902 val_probits_mae:1.030 val_probits_rmse:1.514\n",
      "\n",
      "### SEARCH: PARAMS {'rank_data': True, 'p': 0.4, 'output_len': 16, 'output_activation': 'sigmoid', 'input_shape': (18, 11), 'hiddens': [16, 16], 'hidden_activation': 'swish', 'epochs': 50, 'batch_size': 96, 'adam_lr': 0.001}\n",
      "## CV: FOLD 0... \n"
     ]
    },
    {
     "name": "stderr",
     "output_type": "stream",
     "text": [
      "/home/cove/Documents/Projects/moon/venv/lib/python3.8/site-packages/sklearn/model_selection/_split.py:670: UserWarning: The least populated class in y has only 1 members, which is less than n_splits=5.\n",
      "  warnings.warn((\"The least populated class in y has only %d\"\n"
     ]
    },
    {
     "name": "stdout",
     "output_type": "stream",
     "text": [
      "loss:2.119 logits_loss:2.119 probits_acc:0.376 probits_CS1:0.705 probits_CS2:0.886 probits_mae:1.093 probits_rmse:1.595 val_loss:2.000 val_logits_loss:2.000 val_probits_acc:0.399 val_probits_CS1:0.728 val_probits_CS2:0.902 val_probits_mae:1.017 val_probits_rmse:1.495\n",
      "## CV: FOLD 1... \n",
      "loss:2.130 logits_loss:2.130 probits_acc:0.373 probits_CS1:0.702 probits_CS2:0.885 probits_mae:1.100 probits_rmse:1.597 val_loss:2.019 val_logits_loss:2.019 val_probits_acc:0.397 val_probits_CS1:0.720 val_probits_CS2:0.897 val_probits_mae:1.034 val_probits_rmse:1.521\n",
      "## CV: FOLD 2... \n",
      "loss:2.111 logits_loss:2.111 probits_acc:0.374 probits_CS1:0.708 probits_CS2:0.886 probits_mae:1.091 probits_rmse:1.589 val_loss:2.007 val_logits_loss:2.007 val_probits_acc:0.396 val_probits_CS1:0.722 val_probits_CS2:0.895 val_probits_mae:1.036 val_probits_rmse:1.526\n",
      "## CV: FOLD 3... \n",
      "loss:2.123 logits_loss:2.123 probits_acc:0.376 probits_CS1:0.704 probits_CS2:0.883 probits_mae:1.097 probits_rmse:1.599 val_loss:1.994 val_logits_loss:1.994 val_probits_acc:0.394 val_probits_CS1:0.732 val_probits_CS2:0.902 val_probits_mae:1.023 val_probits_rmse:1.505\n",
      "## CV: FOLD 4... \n",
      "loss:2.115 logits_loss:2.115 probits_acc:0.375 probits_CS1:0.705 probits_CS2:0.885 probits_mae:1.093 probits_rmse:1.593 val_loss:2.019 val_logits_loss:2.019 val_probits_acc:0.392 val_probits_CS1:0.721 val_probits_CS2:0.897 val_probits_mae:1.040 val_probits_rmse:1.529\n",
      "\n",
      "### SEARCH: PARAMS {'rank_data': True, 'p': 0.4, 'output_len': 16, 'output_activation': 'sigmoid', 'input_shape': (18, 11), 'hiddens': [32, 32], 'hidden_activation': 'swish', 'epochs': 50, 'batch_size': 96, 'adam_lr': 0.001}\n",
      "## CV: FOLD 0... \n"
     ]
    },
    {
     "name": "stderr",
     "output_type": "stream",
     "text": [
      "/home/cove/Documents/Projects/moon/venv/lib/python3.8/site-packages/sklearn/model_selection/_split.py:670: UserWarning: The least populated class in y has only 1 members, which is less than n_splits=5.\n",
      "  warnings.warn((\"The least populated class in y has only %d\"\n"
     ]
    },
    {
     "name": "stdout",
     "output_type": "stream",
     "text": [
      "loss:2.030 logits_loss:2.030 probits_acc:0.387 probits_CS1:0.720 probits_CS2:0.897 probits_mae:1.048 probits_rmse:1.537 val_loss:1.968 val_logits_loss:1.968 val_probits_acc:0.404 val_probits_CS1:0.728 val_probits_CS2:0.907 val_probits_mae:1.007 val_probits_rmse:1.486\n",
      "## CV: FOLD 1... \n",
      "loss:2.031 logits_loss:2.031 probits_acc:0.391 probits_CS1:0.719 probits_CS2:0.897 probits_mae:1.044 probits_rmse:1.535 val_loss:1.974 val_logits_loss:1.974 val_probits_acc:0.400 val_probits_CS1:0.728 val_probits_CS2:0.904 val_probits_mae:1.016 val_probits_rmse:1.495\n",
      "## CV: FOLD 2... \n",
      "loss:2.025 logits_loss:2.025 probits_acc:0.390 probits_CS1:0.720 probits_CS2:0.897 probits_mae:1.042 probits_rmse:1.530 val_loss:1.975 val_logits_loss:1.975 val_probits_acc:0.401 val_probits_CS1:0.733 val_probits_CS2:0.901 val_probits_mae:1.010 val_probits_rmse:1.492\n",
      "## CV: FOLD 3... \n",
      "loss:2.031 logits_loss:2.031 probits_acc:0.391 probits_CS1:0.719 probits_CS2:0.897 probits_mae:1.043 probits_rmse:1.532 val_loss:1.954 val_logits_loss:1.954 val_probits_acc:0.399 val_probits_CS1:0.737 val_probits_CS2:0.904 val_probits_mae:1.007 val_probits_rmse:1.489\n",
      "## CV: FOLD 4... \n",
      "loss:2.024 logits_loss:2.024 probits_acc:0.390 probits_CS1:0.718 probits_CS2:0.896 probits_mae:1.046 probits_rmse:1.535 val_loss:1.984 val_logits_loss:1.984 val_probits_acc:0.395 val_probits_CS1:0.729 val_probits_CS2:0.905 val_probits_mae:1.018 val_probits_rmse:1.500\n",
      "\n",
      "### SEARCH: PARAMS {'rank_data': True, 'p': 0.4, 'output_len': 16, 'output_activation': 'sigmoid', 'input_shape': (18, 11), 'hiddens': [64, 64], 'hidden_activation': 'swish', 'epochs': 50, 'batch_size': 96, 'adam_lr': 0.001}\n",
      "## CV: FOLD 0... \n"
     ]
    },
    {
     "name": "stderr",
     "output_type": "stream",
     "text": [
      "/home/cove/Documents/Projects/moon/venv/lib/python3.8/site-packages/sklearn/model_selection/_split.py:670: UserWarning: The least populated class in y has only 1 members, which is less than n_splits=5.\n",
      "  warnings.warn((\"The least populated class in y has only %d\"\n"
     ]
    },
    {
     "name": "stdout",
     "output_type": "stream",
     "text": [
      "loss:1.939 logits_loss:1.939 probits_acc:0.400 probits_CS1:0.734 probits_CS2:0.907 probits_mae:0.999 probits_rmse:1.471 val_loss:1.933 val_logits_loss:1.933 val_probits_acc:0.410 val_probits_CS1:0.734 val_probits_CS2:0.909 val_probits_mae:0.992 val_probits_rmse:1.472\n",
      "## CV: FOLD 1... \n",
      "loss:1.940 logits_loss:1.940 probits_acc:0.403 probits_CS1:0.733 probits_CS2:0.907 probits_mae:0.997 probits_rmse:1.474 val_loss:1.940 val_logits_loss:1.940 val_probits_acc:0.406 val_probits_CS1:0.733 val_probits_CS2:0.908 val_probits_mae:0.997 val_probits_rmse:1.473\n",
      "## CV: FOLD 2... \n",
      "loss:1.945 logits_loss:1.945 probits_acc:0.399 probits_CS1:0.733 probits_CS2:0.906 probits_mae:1.002 probits_rmse:1.475 val_loss:1.951 val_logits_loss:1.951 val_probits_acc:0.402 val_probits_CS1:0.736 val_probits_CS2:0.905 val_probits_mae:0.998 val_probits_rmse:1.472\n",
      "## CV: FOLD 3... \n",
      "loss:1.953 logits_loss:1.953 probits_acc:0.400 probits_CS1:0.736 probits_CS2:0.907 probits_mae:0.999 probits_rmse:1.478 val_loss:1.931 val_logits_loss:1.931 val_probits_acc:0.401 val_probits_CS1:0.745 val_probits_CS2:0.908 val_probits_mae:0.988 val_probits_rmse:1.461\n",
      "## CV: FOLD 4... \n",
      "loss:1.929 logits_loss:1.929 probits_acc:0.403 probits_CS1:0.736 probits_CS2:0.911 probits_mae:0.988 probits_rmse:1.458 val_loss:1.957 val_logits_loss:1.957 val_probits_acc:0.399 val_probits_CS1:0.740 val_probits_CS2:0.910 val_probits_mae:1.000 val_probits_rmse:1.485\n",
      "\n",
      "### SEARCH: PARAMS {'rank_data': True, 'p': 0.4, 'output_len': 16, 'output_activation': 'sigmoid', 'input_shape': (18, 11), 'hiddens': [32, 32, 32], 'hidden_activation': 'swish', 'epochs': 50, 'batch_size': 96, 'adam_lr': 0.001}\n",
      "## CV: FOLD 0... \n"
     ]
    },
    {
     "name": "stderr",
     "output_type": "stream",
     "text": [
      "/home/cove/Documents/Projects/moon/venv/lib/python3.8/site-packages/sklearn/model_selection/_split.py:670: UserWarning: The least populated class in y has only 1 members, which is less than n_splits=5.\n",
      "  warnings.warn((\"The least populated class in y has only %d\"\n"
     ]
    },
    {
     "name": "stdout",
     "output_type": "stream",
     "text": [
      "loss:2.046 logits_loss:2.046 probits_acc:0.386 probits_CS1:0.718 probits_CS2:0.892 probits_mae:1.056 probits_rmse:1.549 val_loss:1.976 val_logits_loss:1.976 val_probits_acc:0.401 val_probits_CS1:0.727 val_probits_CS2:0.904 val_probits_mae:1.016 val_probits_rmse:1.498\n",
      "## CV: FOLD 1... \n",
      "loss:2.042 logits_loss:2.042 probits_acc:0.390 probits_CS1:0.716 probits_CS2:0.894 probits_mae:1.050 probits_rmse:1.540 val_loss:1.978 val_logits_loss:1.978 val_probits_acc:0.409 val_probits_CS1:0.727 val_probits_CS2:0.900 val_probits_mae:1.013 val_probits_rmse:1.504\n",
      "## CV: FOLD 2... \n",
      "loss:2.054 logits_loss:2.054 probits_acc:0.384 probits_CS1:0.717 probits_CS2:0.893 probits_mae:1.057 probits_rmse:1.547 val_loss:1.981 val_logits_loss:1.981 val_probits_acc:0.403 val_probits_CS1:0.727 val_probits_CS2:0.900 val_probits_mae:1.018 val_probits_rmse:1.506\n",
      "## CV: FOLD 3... \n",
      "loss:2.052 logits_loss:2.052 probits_acc:0.386 probits_CS1:0.714 probits_CS2:0.895 probits_mae:1.058 probits_rmse:1.548 val_loss:1.962 val_logits_loss:1.962 val_probits_acc:0.401 val_probits_CS1:0.733 val_probits_CS2:0.903 val_probits_mae:1.011 val_probits_rmse:1.495\n",
      "## CV: FOLD 4... \n",
      "loss:2.051 logits_loss:2.051 probits_acc:0.387 probits_CS1:0.715 probits_CS2:0.894 probits_mae:1.056 probits_rmse:1.546 val_loss:1.990 val_logits_loss:1.990 val_probits_acc:0.397 val_probits_CS1:0.729 val_probits_CS2:0.900 val_probits_mae:1.024 val_probits_rmse:1.516\n",
      "\n",
      "### SEARCH: PARAMS {'rank_data': True, 'p': 0.4, 'output_len': 16, 'output_activation': 'sigmoid', 'input_shape': (18, 11), 'hiddens': [64, 64, 64], 'hidden_activation': 'swish', 'epochs': 50, 'batch_size': 96, 'adam_lr': 0.001}\n",
      "## CV: FOLD 0... \n"
     ]
    },
    {
     "name": "stderr",
     "output_type": "stream",
     "text": [
      "/home/cove/Documents/Projects/moon/venv/lib/python3.8/site-packages/sklearn/model_selection/_split.py:670: UserWarning: The least populated class in y has only 1 members, which is less than n_splits=5.\n",
      "  warnings.warn((\"The least populated class in y has only %d\"\n"
     ]
    },
    {
     "name": "stdout",
     "output_type": "stream",
     "text": [
      "loss:1.963 logits_loss:1.963 probits_acc:0.399 probits_CS1:0.729 probits_CS2:0.906 probits_mae:1.008 probits_rmse:1.484 val_loss:1.958 val_logits_loss:1.958 val_probits_acc:0.401 val_probits_CS1:0.735 val_probits_CS2:0.904 val_probits_mae:1.003 val_probits_rmse:1.476\n",
      "## CV: FOLD 1... \n",
      "loss:1.958 logits_loss:1.958 probits_acc:0.397 probits_CS1:0.730 probits_CS2:0.906 probits_mae:1.009 probits_rmse:1.484 val_loss:1.956 val_logits_loss:1.956 val_probits_acc:0.407 val_probits_CS1:0.729 val_probits_CS2:0.903 val_probits_mae:1.009 val_probits_rmse:1.493\n",
      "## CV: FOLD 2... \n",
      "loss:1.955 logits_loss:1.955 probits_acc:0.400 probits_CS1:0.730 probits_CS2:0.905 probits_mae:1.008 probits_rmse:1.483 val_loss:1.952 val_logits_loss:1.952 val_probits_acc:0.400 val_probits_CS1:0.737 val_probits_CS2:0.907 val_probits_mae:0.998 val_probits_rmse:1.472\n",
      "## CV: FOLD 3... \n",
      "loss:1.966 logits_loss:1.966 probits_acc:0.398 probits_CS1:0.727 probits_CS2:0.905 probits_mae:1.012 probits_rmse:1.488 val_loss:1.935 val_logits_loss:1.935 val_probits_acc:0.401 val_probits_CS1:0.741 val_probits_CS2:0.908 val_probits_mae:0.992 val_probits_rmse:1.463\n",
      "## CV: FOLD 4... \n",
      "loss:1.948 logits_loss:1.948 probits_acc:0.395 probits_CS1:0.733 probits_CS2:0.908 probits_mae:1.004 probits_rmse:1.470 val_loss:1.966 val_logits_loss:1.966 val_probits_acc:0.401 val_probits_CS1:0.734 val_probits_CS2:0.906 val_probits_mae:1.007 val_probits_rmse:1.493\n",
      "\n",
      "### SEARCH: PARAMS {'rank_data': True, 'p': 0.4, 'output_len': 16, 'output_activation': 'sigmoid', 'input_shape': (18, 11), 'hiddens': [16], 'hidden_activation': 'swish', 'epochs': 75, 'batch_size': 96, 'adam_lr': 0.001}\n",
      "## CV: FOLD 0... \n"
     ]
    },
    {
     "name": "stderr",
     "output_type": "stream",
     "text": [
      "/home/cove/Documents/Projects/moon/venv/lib/python3.8/site-packages/sklearn/model_selection/_split.py:670: UserWarning: The least populated class in y has only 1 members, which is less than n_splits=5.\n",
      "  warnings.warn((\"The least populated class in y has only %d\"\n"
     ]
    },
    {
     "name": "stdout",
     "output_type": "stream",
     "text": [
      "loss:2.041 logits_loss:2.041 probits_acc:0.381 probits_CS1:0.716 probits_CS2:0.895 probits_mae:1.060 probits_rmse:1.549 val_loss:1.965 val_logits_loss:1.965 val_probits_acc:0.396 val_probits_CS1:0.728 val_probits_CS2:0.902 val_probits_mae:1.020 val_probits_rmse:1.499\n",
      "## CV: FOLD 1... \n",
      "loss:2.032 logits_loss:2.032 probits_acc:0.381 probits_CS1:0.718 probits_CS2:0.894 probits_mae:1.058 probits_rmse:1.545 val_loss:1.964 val_logits_loss:1.964 val_probits_acc:0.399 val_probits_CS1:0.731 val_probits_CS2:0.904 val_probits_mae:1.013 val_probits_rmse:1.492\n",
      "## CV: FOLD 2... \n",
      "loss:2.030 logits_loss:2.030 probits_acc:0.383 probits_CS1:0.714 probits_CS2:0.896 probits_mae:1.056 probits_rmse:1.542 val_loss:1.979 val_logits_loss:1.979 val_probits_acc:0.394 val_probits_CS1:0.730 val_probits_CS2:0.899 val_probits_mae:1.022 val_probits_rmse:1.504\n",
      "## CV: FOLD 3... \n",
      "loss:2.035 logits_loss:2.035 probits_acc:0.381 probits_CS1:0.719 probits_CS2:0.896 probits_mae:1.057 probits_rmse:1.545 val_loss:1.959 val_logits_loss:1.959 val_probits_acc:0.391 val_probits_CS1:0.732 val_probits_CS2:0.904 val_probits_mae:1.020 val_probits_rmse:1.499\n",
      "## CV: FOLD 4... \n",
      "loss:2.029 logits_loss:2.029 probits_acc:0.380 probits_CS1:0.718 probits_CS2:0.897 probits_mae:1.058 probits_rmse:1.546 val_loss:1.999 val_logits_loss:1.999 val_probits_acc:0.387 val_probits_CS1:0.725 val_probits_CS2:0.901 val_probits_mae:1.038 val_probits_rmse:1.523\n",
      "\n",
      "### SEARCH: PARAMS {'rank_data': True, 'p': 0.4, 'output_len': 16, 'output_activation': 'sigmoid', 'input_shape': (18, 11), 'hiddens': [32], 'hidden_activation': 'swish', 'epochs': 75, 'batch_size': 96, 'adam_lr': 0.001}\n",
      "## CV: FOLD 0... \n"
     ]
    },
    {
     "name": "stderr",
     "output_type": "stream",
     "text": [
      "/home/cove/Documents/Projects/moon/venv/lib/python3.8/site-packages/sklearn/model_selection/_split.py:670: UserWarning: The least populated class in y has only 1 members, which is less than n_splits=5.\n",
      "  warnings.warn((\"The least populated class in y has only %d\"\n"
     ]
    },
    {
     "name": "stdout",
     "output_type": "stream",
     "text": [
      "loss:1.951 logits_loss:1.951 probits_acc:0.389 probits_CS1:0.729 probits_CS2:0.904 probits_mae:1.019 probits_rmse:1.491 val_loss:1.924 val_logits_loss:1.924 val_probits_acc:0.401 val_probits_CS1:0.739 val_probits_CS2:0.910 val_probits_mae:0.992 val_probits_rmse:1.461\n",
      "## CV: FOLD 1... \n",
      "loss:1.943 logits_loss:1.943 probits_acc:0.390 probits_CS1:0.730 probits_CS2:0.907 probits_mae:1.015 probits_rmse:1.486 val_loss:1.923 val_logits_loss:1.923 val_probits_acc:0.408 val_probits_CS1:0.737 val_probits_CS2:0.909 val_probits_mae:0.990 val_probits_rmse:1.466\n",
      "## CV: FOLD 2... \n",
      "loss:1.946 logits_loss:1.946 probits_acc:0.393 probits_CS1:0.732 probits_CS2:0.908 probits_mae:1.011 probits_rmse:1.482 val_loss:1.947 val_logits_loss:1.947 val_probits_acc:0.397 val_probits_CS1:0.734 val_probits_CS2:0.907 val_probits_mae:1.007 val_probits_rmse:1.485\n",
      "## CV: FOLD 3... \n",
      "loss:1.954 logits_loss:1.954 probits_acc:0.394 probits_CS1:0.727 probits_CS2:0.905 probits_mae:1.017 probits_rmse:1.491 val_loss:1.927 val_logits_loss:1.927 val_probits_acc:0.398 val_probits_CS1:0.741 val_probits_CS2:0.907 val_probits_mae:0.998 val_probits_rmse:1.472\n",
      "## CV: FOLD 4... \n",
      "loss:1.941 logits_loss:1.941 probits_acc:0.400 probits_CS1:0.728 probits_CS2:0.906 probits_mae:1.008 probits_rmse:1.483 val_loss:1.961 val_logits_loss:1.961 val_probits_acc:0.390 val_probits_CS1:0.734 val_probits_CS2:0.907 val_probits_mae:1.017 val_probits_rmse:1.494\n",
      "\n",
      "### SEARCH: PARAMS {'rank_data': True, 'p': 0.4, 'output_len': 16, 'output_activation': 'sigmoid', 'input_shape': (18, 11), 'hiddens': [16, 16], 'hidden_activation': 'swish', 'epochs': 75, 'batch_size': 96, 'adam_lr': 0.001}\n",
      "## CV: FOLD 0... \n"
     ]
    },
    {
     "name": "stderr",
     "output_type": "stream",
     "text": [
      "/home/cove/Documents/Projects/moon/venv/lib/python3.8/site-packages/sklearn/model_selection/_split.py:670: UserWarning: The least populated class in y has only 1 members, which is less than n_splits=5.\n",
      "  warnings.warn((\"The least populated class in y has only %d\"\n"
     ]
    },
    {
     "name": "stdout",
     "output_type": "stream",
     "text": [
      "loss:2.098 logits_loss:2.098 probits_acc:0.373 probits_CS1:0.707 probits_CS2:0.885 probits_mae:1.092 probits_rmse:1.590 val_loss:1.973 val_logits_loss:1.973 val_probits_acc:0.400 val_probits_CS1:0.726 val_probits_CS2:0.905 val_probits_mae:1.015 val_probits_rmse:1.493\n",
      "## CV: FOLD 1... \n",
      "loss:2.081 logits_loss:2.081 probits_acc:0.376 probits_CS1:0.707 probits_CS2:0.888 probits_mae:1.085 probits_rmse:1.580 val_loss:1.966 val_logits_loss:1.966 val_probits_acc:0.402 val_probits_CS1:0.729 val_probits_CS2:0.903 val_probits_mae:1.014 val_probits_rmse:1.494\n",
      "## CV: FOLD 2... \n",
      "loss:2.086 logits_loss:2.086 probits_acc:0.375 probits_CS1:0.709 probits_CS2:0.887 probits_mae:1.085 probits_rmse:1.576 val_loss:1.988 val_logits_loss:1.988 val_probits_acc:0.393 val_probits_CS1:0.725 val_probits_CS2:0.895 val_probits_mae:1.034 val_probits_rmse:1.521\n",
      "## CV: FOLD 3... \n",
      "loss:2.088 logits_loss:2.088 probits_acc:0.373 probits_CS1:0.707 probits_CS2:0.889 probits_mae:1.089 probits_rmse:1.583 val_loss:1.966 val_logits_loss:1.966 val_probits_acc:0.392 val_probits_CS1:0.734 val_probits_CS2:0.900 val_probits_mae:1.021 val_probits_rmse:1.502\n",
      "## CV: FOLD 4... \n",
      "loss:2.064 logits_loss:2.064 probits_acc:0.378 probits_CS1:0.711 probits_CS2:0.890 probits_mae:1.075 probits_rmse:1.566 val_loss:1.991 val_logits_loss:1.991 val_probits_acc:0.396 val_probits_CS1:0.724 val_probits_CS2:0.897 val_probits_mae:1.033 val_probits_rmse:1.527\n",
      "\n",
      "### SEARCH: PARAMS {'rank_data': True, 'p': 0.4, 'output_len': 16, 'output_activation': 'sigmoid', 'input_shape': (18, 11), 'hiddens': [32, 32], 'hidden_activation': 'swish', 'epochs': 75, 'batch_size': 96, 'adam_lr': 0.001}\n",
      "## CV: FOLD 0... \n"
     ]
    },
    {
     "name": "stderr",
     "output_type": "stream",
     "text": [
      "/home/cove/Documents/Projects/moon/venv/lib/python3.8/site-packages/sklearn/model_selection/_split.py:670: UserWarning: The least populated class in y has only 1 members, which is less than n_splits=5.\n",
      "  warnings.warn((\"The least populated class in y has only %d\"\n"
     ]
    },
    {
     "name": "stdout",
     "output_type": "stream",
     "text": [
      "loss:1.971 logits_loss:1.971 probits_acc:0.390 probits_CS1:0.726 probits_CS2:0.902 probits_mae:1.027 probits_rmse:1.503 val_loss:1.931 val_logits_loss:1.931 val_probits_acc:0.403 val_probits_CS1:0.738 val_probits_CS2:0.908 val_probits_mae:0.996 val_probits_rmse:1.471\n",
      "## CV: FOLD 1... \n",
      "loss:1.969 logits_loss:1.969 probits_acc:0.392 probits_CS1:0.723 probits_CS2:0.903 probits_mae:1.027 probits_rmse:1.506 val_loss:1.933 val_logits_loss:1.933 val_probits_acc:0.402 val_probits_CS1:0.734 val_probits_CS2:0.907 val_probits_mae:1.000 val_probits_rmse:1.472\n",
      "## CV: FOLD 2... \n",
      "loss:1.959 logits_loss:1.959 probits_acc:0.392 probits_CS1:0.726 probits_CS2:0.904 probits_mae:1.021 probits_rmse:1.493 val_loss:1.948 val_logits_loss:1.948 val_probits_acc:0.403 val_probits_CS1:0.727 val_probits_CS2:0.901 val_probits_mae:1.013 val_probits_rmse:1.498\n",
      "## CV: FOLD 3... \n",
      "loss:1.970 logits_loss:1.970 probits_acc:0.396 probits_CS1:0.724 probits_CS2:0.902 probits_mae:1.023 probits_rmse:1.505 val_loss:1.916 val_logits_loss:1.916 val_probits_acc:0.401 val_probits_CS1:0.738 val_probits_CS2:0.905 val_probits_mae:0.999 val_probits_rmse:1.476\n",
      "## CV: FOLD 4... \n",
      "loss:1.970 logits_loss:1.970 probits_acc:0.394 probits_CS1:0.725 probits_CS2:0.902 probits_mae:1.025 probits_rmse:1.506 val_loss:1.949 val_logits_loss:1.949 val_probits_acc:0.396 val_probits_CS1:0.734 val_probits_CS2:0.907 val_probits_mae:1.011 val_probits_rmse:1.494\n",
      "\n",
      "### SEARCH: PARAMS {'rank_data': True, 'p': 0.4, 'output_len': 16, 'output_activation': 'sigmoid', 'input_shape': (18, 11), 'hiddens': [64, 64], 'hidden_activation': 'swish', 'epochs': 75, 'batch_size': 96, 'adam_lr': 0.001}\n",
      "## CV: FOLD 0... \n"
     ]
    },
    {
     "name": "stderr",
     "output_type": "stream",
     "text": [
      "/home/cove/Documents/Projects/moon/venv/lib/python3.8/site-packages/sklearn/model_selection/_split.py:670: UserWarning: The least populated class in y has only 1 members, which is less than n_splits=5.\n",
      "  warnings.warn((\"The least populated class in y has only %d\"\n"
     ]
    },
    {
     "name": "stdout",
     "output_type": "stream",
     "text": [
      "loss:1.866 logits_loss:1.866 probits_acc:0.402 probits_CS1:0.743 probits_CS2:0.917 probits_mae:0.973 probits_rmse:1.431 val_loss:1.908 val_logits_loss:1.908 val_probits_acc:0.407 val_probits_CS1:0.743 val_probits_CS2:0.909 val_probits_mae:0.984 val_probits_rmse:1.459\n",
      "## CV: FOLD 1... \n",
      "loss:1.858 logits_loss:1.858 probits_acc:0.407 probits_CS1:0.742 probits_CS2:0.917 probits_mae:0.968 probits_rmse:1.425 val_loss:1.905 val_logits_loss:1.905 val_probits_acc:0.408 val_probits_CS1:0.739 val_probits_CS2:0.912 val_probits_mae:0.981 val_probits_rmse:1.450\n",
      "## CV: FOLD 2... \n",
      "loss:1.848 logits_loss:1.848 probits_acc:0.407 probits_CS1:0.747 probits_CS2:0.918 probits_mae:0.962 probits_rmse:1.419 val_loss:1.920 val_logits_loss:1.920 val_probits_acc:0.400 val_probits_CS1:0.744 val_probits_CS2:0.911 val_probits_mae:0.986 val_probits_rmse:1.458\n",
      "## CV: FOLD 3... \n",
      "loss:1.861 logits_loss:1.861 probits_acc:0.405 probits_CS1:0.744 probits_CS2:0.915 probits_mae:0.969 probits_rmse:1.425 val_loss:1.894 val_logits_loss:1.894 val_probits_acc:0.404 val_probits_CS1:0.750 val_probits_CS2:0.910 val_probits_mae:0.978 val_probits_rmse:1.453\n",
      "## CV: FOLD 4... \n",
      "loss:1.862 logits_loss:1.862 probits_acc:0.406 probits_CS1:0.747 probits_CS2:0.915 probits_mae:0.968 probits_rmse:1.429 val_loss:1.928 val_logits_loss:1.928 val_probits_acc:0.398 val_probits_CS1:0.741 val_probits_CS2:0.910 val_probits_mae:0.995 val_probits_rmse:1.473\n",
      "\n",
      "### SEARCH: PARAMS {'rank_data': True, 'p': 0.4, 'output_len': 16, 'output_activation': 'sigmoid', 'input_shape': (18, 11), 'hiddens': [32, 32, 32], 'hidden_activation': 'swish', 'epochs': 75, 'batch_size': 96, 'adam_lr': 0.001}\n",
      "## CV: FOLD 0... \n"
     ]
    },
    {
     "name": "stderr",
     "output_type": "stream",
     "text": [
      "/home/cove/Documents/Projects/moon/venv/lib/python3.8/site-packages/sklearn/model_selection/_split.py:670: UserWarning: The least populated class in y has only 1 members, which is less than n_splits=5.\n",
      "  warnings.warn((\"The least populated class in y has only %d\"\n"
     ]
    },
    {
     "name": "stdout",
     "output_type": "stream",
     "text": [
      "loss:1.988 logits_loss:1.988 probits_acc:0.387 probits_CS1:0.724 probits_CS2:0.900 probits_mae:1.036 probits_rmse:1.515 val_loss:1.929 val_logits_loss:1.929 val_probits_acc:0.405 val_probits_CS1:0.733 val_probits_CS2:0.908 val_probits_mae:1.000 val_probits_rmse:1.481\n",
      "## CV: FOLD 1... \n",
      "loss:1.995 logits_loss:1.995 probits_acc:0.382 probits_CS1:0.723 probits_CS2:0.903 probits_mae:1.040 probits_rmse:1.515 val_loss:1.943 val_logits_loss:1.943 val_probits_acc:0.412 val_probits_CS1:0.726 val_probits_CS2:0.904 val_probits_mae:1.005 val_probits_rmse:1.492\n",
      "## CV: FOLD 2... \n",
      "loss:1.994 logits_loss:1.994 probits_acc:0.388 probits_CS1:0.721 probits_CS2:0.900 probits_mae:1.039 probits_rmse:1.522 val_loss:1.950 val_logits_loss:1.950 val_probits_acc:0.400 val_probits_CS1:0.732 val_probits_CS2:0.900 val_probits_mae:1.013 val_probits_rmse:1.498\n",
      "## CV: FOLD 3... \n",
      "loss:1.992 logits_loss:1.992 probits_acc:0.388 probits_CS1:0.724 probits_CS2:0.900 probits_mae:1.035 probits_rmse:1.516 val_loss:1.922 val_logits_loss:1.922 val_probits_acc:0.399 val_probits_CS1:0.743 val_probits_CS2:0.910 val_probits_mae:0.993 val_probits_rmse:1.467\n",
      "## CV: FOLD 4... \n",
      "loss:1.993 logits_loss:1.993 probits_acc:0.391 probits_CS1:0.721 probits_CS2:0.901 probits_mae:1.033 probits_rmse:1.514 val_loss:1.958 val_logits_loss:1.958 val_probits_acc:0.394 val_probits_CS1:0.731 val_probits_CS2:0.903 val_probits_mae:1.018 val_probits_rmse:1.500\n",
      "\n",
      "### SEARCH: PARAMS {'rank_data': True, 'p': 0.4, 'output_len': 16, 'output_activation': 'sigmoid', 'input_shape': (18, 11), 'hiddens': [64, 64, 64], 'hidden_activation': 'swish', 'epochs': 75, 'batch_size': 96, 'adam_lr': 0.001}\n",
      "## CV: FOLD 0... \n"
     ]
    },
    {
     "name": "stderr",
     "output_type": "stream",
     "text": [
      "/home/cove/Documents/Projects/moon/venv/lib/python3.8/site-packages/sklearn/model_selection/_split.py:670: UserWarning: The least populated class in y has only 1 members, which is less than n_splits=5.\n",
      "  warnings.warn((\"The least populated class in y has only %d\"\n"
     ]
    },
    {
     "name": "stdout",
     "output_type": "stream",
     "text": [
      "loss:1.894 logits_loss:1.894 probits_acc:0.397 probits_CS1:0.737 probits_CS2:0.914 probits_mae:0.989 probits_rmse:1.450 val_loss:1.913 val_logits_loss:1.913 val_probits_acc:0.399 val_probits_CS1:0.738 val_probits_CS2:0.909 val_probits_mae:0.996 val_probits_rmse:1.463\n",
      "## CV: FOLD 1... \n",
      "loss:1.870 logits_loss:1.870 probits_acc:0.405 probits_CS1:0.747 probits_CS2:0.916 probits_mae:0.969 probits_rmse:1.430 val_loss:1.913 val_logits_loss:1.913 val_probits_acc:0.409 val_probits_CS1:0.738 val_probits_CS2:0.912 val_probits_mae:0.984 val_probits_rmse:1.458\n",
      "## CV: FOLD 2... \n",
      "loss:1.878 logits_loss:1.878 probits_acc:0.399 probits_CS1:0.740 probits_CS2:0.913 probits_mae:0.983 probits_rmse:1.441 val_loss:1.923 val_logits_loss:1.923 val_probits_acc:0.404 val_probits_CS1:0.740 val_probits_CS2:0.909 val_probits_mae:0.990 val_probits_rmse:1.468\n",
      "## CV: FOLD 3... \n",
      "loss:1.902 logits_loss:1.902 probits_acc:0.398 probits_CS1:0.740 probits_CS2:0.913 probits_mae:0.988 probits_rmse:1.451 val_loss:1.897 val_logits_loss:1.897 val_probits_acc:0.408 val_probits_CS1:0.748 val_probits_CS2:0.910 val_probits_mae:0.977 val_probits_rmse:1.456\n",
      "## CV: FOLD 4... \n",
      "loss:1.883 logits_loss:1.883 probits_acc:0.403 probits_CS1:0.739 probits_CS2:0.915 probits_mae:0.977 probits_rmse:1.436 val_loss:1.926 val_logits_loss:1.926 val_probits_acc:0.402 val_probits_CS1:0.738 val_probits_CS2:0.908 val_probits_mae:0.998 val_probits_rmse:1.482\n"
     ]
    }
   ],
   "source": [
    "from sklearn.model_selection import ParameterSampler\n",
    "from tensorflow.keras.wrappers.scikit_learn import KerasClassifier\n",
    "\n",
    "np.random.seed(21)\n",
    "\n",
    "params = dict(\n",
    "    input_shape = [moon.problem.Problem.GRID_SHAPE],\n",
    "    hiddens = [[16], [32], [16, 16], [32, 32], [64, 64], [32, 32, 32], [64, 64, 64]],\n",
    "    hidden_activation = ['swish'],\n",
    "    p = [.4],\n",
    "    output_activation = ['sigmoid'],\n",
    "    output_len = [y.shape[-1]],  # moon.problem.Grade.N_GRADES - 1\n",
    "    adam_lr = [1e-3],\n",
    "    batch_size = [32, 64, 96],\n",
    "    epochs = [30, 50, 75],\n",
    "    rank_data = [True]\n",
    ")\n",
    "n_searches = 100\n",
    "results = []\n",
    "\n",
    "for p in ParameterSampler(params, n_iter=n_searches):\n",
    "    print(f'\\n### SEARCH: PARAMS {p}')\n",
    "    batch_size = p.pop('batch_size')\n",
    "    epochs = p.pop('epochs')\n",
    "    rank_data = p.pop('rank_data')\n",
    "    cv_splitter = my_StratifiedKFold(x, [p.grade.grade for p in probs], folds=5)\n",
    "    for i, (idx_train, idx_test) in enumerate(cv_splitter):\n",
    "        print(f'## CV: FOLD {i}... ')\n",
    "        \n",
    "        loss = {'logits': coral_loss(rank_data=y[idx_train] if rank_data else None)}    \n",
    "        model = build_model_coral(**p, loss=loss)\n",
    "        hist = model.fit(x[idx_train], y[idx_train], batch_size=batch_size, validation_data=(x[idx_test], y[idx_test]), epochs=epochs, verbose=0)\n",
    "        \n",
    "        metrics_final_epoch = {x: hist.history[x][-1] for x in hist.history}\n",
    "        p_rebuilt = {**p, 'batch_size': batch_size, 'epochs': epochs, 'rank_data': rank_data}\n",
    "        result = {'fold': i, **p_rebuilt, **metrics_final_epoch}\n",
    "        results.append(result)\n",
    "        \n",
    "        print(' '.join([f'{x}:{metrics_final_epoch[x]:.3f}' for x in metrics_final_epoch]))"
   ]
  },
  {
   "cell_type": "code",
   "execution_count": 10,
   "metadata": {},
   "outputs": [],
   "source": [
    "import pandas as pd\n",
    "\n",
    "df = pd.DataFrame.from_records(results)\n",
    "df.to_csv('mlp_coral_flattened_weighted_1e.3.csv', index=False)"
   ]
  },
  {
   "cell_type": "markdown",
   "metadata": {},
   "source": [
    "Other playing around..."
   ]
  },
  {
   "cell_type": "code",
   "execution_count": 4,
   "metadata": {},
   "outputs": [],
   "source": [
    "from sklearn.model_selection import train_test_split\n",
    "from sklearn.preprocessing import LabelEncoder\n",
    "\n",
    "# split is [train, validate, test]\n",
    "def split_data(probs, split=[.6, .2, .2], seed=0):\n",
    "    # Stratify-split the data first into train and other\n",
    "    ranks = [p.grade.rank for p in probs]\n",
    "    probs_train, probs_other = train_test_split(probs, train_size=split[0], stratify=ranks, shuffle=True, random_state=seed)\n",
    "    # Then into calidation and test\n",
    "    ranks_other = [p.grade.rank for p in probs_other]\n",
    "    probs_val, probs_test = train_test_split(probs_other, train_size=split[1]/(split[1]+split[2]), stratify=ranks_other, shuffle=True, random_state=seed)\n",
    "    return probs_train, probs_val, probs_test"
   ]
  },
  {
   "cell_type": "markdown",
   "metadata": {},
   "source": [
    "Does this splitter work alright?"
   ]
  },
  {
   "cell_type": "code",
   "execution_count": 5,
   "metadata": {},
   "outputs": [
    {
     "name": "stdout",
     "output_type": "stream",
     "text": [
      "18594 6198 6199\n",
      "30991\n",
      "{'ATAUALPA', 'SURESHOT'}\n",
      "{'DISCOVERY', '?'}\n",
      "{'VARIANT', 'ПЕРЕД ШАШЛЫЧКОМ!', 'FRIENDS'}\n"
     ]
    }
   ],
   "source": [
    "s = split_data(probs)\n",
    "print(len(s[0]), len(s[1]), len(s[2]))  # sum is 30991\n",
    "print(len(probs))  # Is 30991\n",
    "\n",
    "# for g in moon.problem.Grade.ALL_GRADES:\n",
    "#     print(np.mean([p.grade.grade == g for p in s[0]]))\n",
    "#     print(np.mean([p.grade.grade == g for p in s[1]]))\n",
    "#     print(np.mean([p.grade.grade == g for p in s[2]]))\n",
    "    \n",
    "names0, names1, names2 = set([p.name for p in s[0]]), set([p.name for p in s[1]]), set([p.name for p in s[2]])\n",
    "print(names0 & names1)\n",
    "print(names0 & names2)\n",
    "print(names1 & names2)"
   ]
  },
  {
   "cell_type": "markdown",
   "metadata": {},
   "source": [
    "Yes---a manual look into things shows that these problem names are repeated in the dataset. (Interestingly, it mostly looks like separate users who decide to clone a problem and give it a new grade, or otherwise have it for themselves.)"
   ]
  },
  {
   "cell_type": "code",
   "execution_count": 3,
   "metadata": {},
   "outputs": [],
   "source": [
    "import os\n",
    "import numpy as np\n",
    "import tensorflow as tf\n",
    "import random as random\n",
    "\n",
    "import moon.learning.mlp\n",
    "import moon.learning.coral\n",
    "import moon.learning.util\n",
    "import moon.problem\n",
    "from importlib import reload\n",
    "reload(moon.learning.mlp)\n",
    "reload(moon.learning.coral)\n",
    "reload(moon.learning.util)\n",
    "reload(moon.data)\n",
    "\n",
    "params = dict(\n",
    "    # Trainer params\n",
    "    seed = 21,\n",
    "    batch_size = 64,\n",
    "    max_epochs = 5,\n",
    "    # Model params\n",
    "    flattened_input = True,\n",
    "    hidden_dim = 16,\n",
    "    hidden_layers = 1,\n",
    "    hidden_activation = 'swish',\n",
    "    dropout_p = 0.5,\n",
    "    adam_lr = 1e-3,\n",
    "    output_type = 'categorical_xentropy',\n",
    "#     output_type = 'ordinal_vanilla',\n",
    "#     output_type = 'ordinal_coral',\n",
    "    weighted_loss = True\n",
    ")\n",
    "\n",
    "os.environ['PYTHONHASHSEED'] = str(params['seed'])\n",
    "random.seed(params['seed'])\n",
    "np.random.seed(params['seed'])\n",
    "tf.random.set_seed(params['seed'])\n",
    "\n",
    "splits = moon.data.split_data(probs, seed=params['seed'])\n",
    "x_train, x_val, x_test = [np.array([p.array for p in probs]) for probs in splits]\n",
    "# y_train, y_val, y_test = [np.array([p.grade.ordinal_rank for p in probs]) for probs in splits]\n",
    "y_train, y_val, y_test = [np.array([p.grade.categorical for p in probs]) for probs in splits]\n",
    "\n",
    "input_shape = moon.problem.Problem.GRID_SHAPE if params['flattened_input'] else (*moon.problem.Problem.GRID_SHAPE, 3)\n",
    "# output_len = moon.problem.Grade.N_GRADES - 1  # y.shape[-1]\n",
    "output_len = moon.problem.Grade.N_GRADES  # y.shape[-1]\n",
    "y_train_for_model = y_train if params['weighted_loss'] else None\n",
    "\n",
    "m = moon.learning.mlp.build_keras_mlp(\n",
    "    input_shape=input_shape,\n",
    "    hidden_dim=params['hidden_dim'],\n",
    "    hidden_layers=params['hidden_layers'],\n",
    "    hidden_activation=params['hidden_activation'],\n",
    "    dropout_p=params['dropout_p'],\n",
    "    adam_lr=params['adam_lr'],\n",
    "    output_type=params['output_type'],\n",
    "    output_len=output_len,\n",
    "    y_train=y_train_for_model)"
   ]
  },
  {
   "cell_type": "code",
   "execution_count": 4,
   "metadata": {},
   "outputs": [
    {
     "name": "stdout",
     "output_type": "stream",
     "text": [
      "Epoch 1/5\n",
      "291/291 [==============================] - 1s 2ms/step - loss: 2.2760 - probits_loss: 2.2760 - probits_mae: 1.6254 - probits_acc1: 0.4521 - probits_acc: 0.2709 - val_loss: 1.8439 - val_probits_loss: 1.8439 - val_probits_mae: 1.3814 - val_probits_acc1: 0.4969 - val_probits_acc: 0.3401\n",
      "Epoch 2/5\n",
      "291/291 [==============================] - 1s 2ms/step - loss: 1.8646 - probits_loss: 1.8646 - probits_mae: 1.1890 - probits_acc1: 0.5258 - probits_acc: 0.3433 - val_loss: 1.7315 - val_probits_loss: 1.7315 - val_probits_mae: 1.0206 - val_probits_acc1: 0.5540 - val_probits_acc: 0.3610\n",
      "Epoch 3/5\n",
      "291/291 [==============================] - 1s 2ms/step - loss: 1.7797 - probits_loss: 1.7797 - probits_mae: 1.0241 - probits_acc1: 0.5616 - probits_acc: 0.3597 - val_loss: 1.6882 - val_probits_loss: 1.6882 - val_probits_mae: 0.9897 - val_probits_acc1: 0.5883 - val_probits_acc: 0.3765\n",
      "Epoch 4/5\n",
      "291/291 [==============================] - 0s 1ms/step - loss: 1.7406 - probits_loss: 1.7406 - probits_mae: 1.0172 - probits_acc1: 0.5829 - probits_acc: 0.3694 - val_loss: 1.6665 - val_probits_loss: 1.6665 - val_probits_mae: 0.9897 - val_probits_acc1: 0.6015 - val_probits_acc: 0.3806\n",
      "Epoch 5/5\n",
      "291/291 [==============================] - 0s 1ms/step - loss: 1.7214 - probits_loss: 1.7214 - probits_mae: 0.9966 - probits_acc1: 0.5880 - probits_acc: 0.3717 - val_loss: 1.6521 - val_probits_loss: 1.6521 - val_probits_mae: 0.9897 - val_probits_acc1: 0.6117 - val_probits_acc: 0.3879\n"
     ]
    }
   ],
   "source": [
    "callbacks = [tf.keras.callbacks.EarlyStopping(patience=3, verbose=1)]\n",
    "batch_size = params['batch_size']\n",
    "max_epochs = params['max_epochs']\n",
    "\n",
    "history = m.fit(x_train, y_train, batch_size=batch_size, validation_data=(x_val, y_val), epochs=max_epochs, callbacks=callbacks)"
   ]
  },
  {
   "cell_type": "code",
   "execution_count": 6,
   "metadata": {},
   "outputs": [
    {
     "name": "stdout",
     "output_type": "stream",
     "text": [
      "194/194 [==============================] - 0s 879us/step - loss: 1.6473 - probits_loss: 1.6473 - probits_mae: 0.9330 - probits_acc1: 0.6105 - probits_acc: 0.3869\n"
     ]
    },
    {
     "data": {
      "text/plain": [
       "{'loss': 1.6473280191421509,\n",
       " 'probits_loss': 1.6473280191421509,\n",
       " 'probits_mae': 0.9329897165298462,\n",
       " 'probits_acc1': 0.6105446219444275,\n",
       " 'probits_acc': 0.3869411051273346}"
      ]
     },
     "execution_count": 6,
     "metadata": {},
     "output_type": "execute_result"
    }
   ],
   "source": [
    "m.evaluate(x_test, y_test, return_dict=True)"
   ]
  }
 ],
 "metadata": {
  "kernelspec": {
   "display_name": "Python 3.8.2 64-bit ('venv': venv)",
   "language": "python",
   "name": "python38264bitvenvvenv62f2ef13a99a49ca88eefe3bb4a02605"
  },
  "language_info": {
   "codemirror_mode": {
    "name": "ipython",
    "version": 3
   },
   "file_extension": ".py",
   "mimetype": "text/x-python",
   "name": "python",
   "nbconvert_exporter": "python",
   "pygments_lexer": "ipython3",
   "version": "3.8.3"
  }
 },
 "nbformat": 4,
 "nbformat_minor": 4
}
